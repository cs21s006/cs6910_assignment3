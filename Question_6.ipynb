{
  "cells": [
    {
      "cell_type": "code",
      "execution_count": 1,
      "metadata": {
        "colab": {
          "base_uri": "https://localhost:8080/"
        },
        "id": "iiA3o83-4cun",
        "outputId": "a748bdaa-2fd6-4a5b-8edf-3cda29149f2d"
      },
      "outputs": [
        {
          "output_type": "stream",
          "name": "stdout",
          "text": [
            "Collecting wandb\n",
            "  Downloading wandb-0.12.16-py2.py3-none-any.whl (1.8 MB)\n",
            "\u001b[K     |████████████████████████████████| 1.8 MB 4.1 MB/s \n",
            "\u001b[?25hCollecting shortuuid>=0.5.0\n",
            "  Downloading shortuuid-1.0.8-py3-none-any.whl (9.5 kB)\n",
            "Requirement already satisfied: python-dateutil>=2.6.1 in /usr/local/lib/python3.7/dist-packages (from wandb) (2.8.2)\n",
            "Collecting GitPython>=1.0.0\n",
            "  Downloading GitPython-3.1.27-py3-none-any.whl (181 kB)\n",
            "\u001b[K     |████████████████████████████████| 181 kB 47.8 MB/s \n",
            "\u001b[?25hRequirement already satisfied: psutil>=5.0.0 in /usr/local/lib/python3.7/dist-packages (from wandb) (5.4.8)\n",
            "Collecting docker-pycreds>=0.4.0\n",
            "  Downloading docker_pycreds-0.4.0-py2.py3-none-any.whl (9.0 kB)\n",
            "Requirement already satisfied: protobuf>=3.12.0 in /usr/local/lib/python3.7/dist-packages (from wandb) (3.17.3)\n",
            "Requirement already satisfied: PyYAML in /usr/local/lib/python3.7/dist-packages (from wandb) (3.13)\n",
            "Collecting setproctitle\n",
            "  Downloading setproctitle-1.2.3-cp37-cp37m-manylinux_2_5_x86_64.manylinux1_x86_64.manylinux_2_17_x86_64.manylinux2014_x86_64.whl (29 kB)\n",
            "Requirement already satisfied: Click!=8.0.0,>=7.0 in /usr/local/lib/python3.7/dist-packages (from wandb) (7.1.2)\n",
            "Requirement already satisfied: setuptools in /usr/local/lib/python3.7/dist-packages (from wandb) (57.4.0)\n",
            "Collecting sentry-sdk>=1.0.0\n",
            "  Downloading sentry_sdk-1.5.11-py2.py3-none-any.whl (144 kB)\n",
            "\u001b[K     |████████████████████████████████| 144 kB 49.7 MB/s \n",
            "\u001b[?25hRequirement already satisfied: promise<3,>=2.0 in /usr/local/lib/python3.7/dist-packages (from wandb) (2.3)\n",
            "Collecting pathtools\n",
            "  Downloading pathtools-0.1.2.tar.gz (11 kB)\n",
            "Requirement already satisfied: six>=1.13.0 in /usr/local/lib/python3.7/dist-packages (from wandb) (1.15.0)\n",
            "Requirement already satisfied: requests<3,>=2.0.0 in /usr/local/lib/python3.7/dist-packages (from wandb) (2.23.0)\n",
            "Requirement already satisfied: typing-extensions>=3.7.4.3 in /usr/local/lib/python3.7/dist-packages (from GitPython>=1.0.0->wandb) (4.2.0)\n",
            "Collecting gitdb<5,>=4.0.1\n",
            "  Downloading gitdb-4.0.9-py3-none-any.whl (63 kB)\n",
            "\u001b[K     |████████████████████████████████| 63 kB 1.7 MB/s \n",
            "\u001b[?25hCollecting smmap<6,>=3.0.1\n",
            "  Downloading smmap-5.0.0-py3-none-any.whl (24 kB)\n",
            "Requirement already satisfied: chardet<4,>=3.0.2 in /usr/local/lib/python3.7/dist-packages (from requests<3,>=2.0.0->wandb) (3.0.4)\n",
            "Requirement already satisfied: idna<3,>=2.5 in /usr/local/lib/python3.7/dist-packages (from requests<3,>=2.0.0->wandb) (2.10)\n",
            "Requirement already satisfied: certifi>=2017.4.17 in /usr/local/lib/python3.7/dist-packages (from requests<3,>=2.0.0->wandb) (2021.10.8)\n",
            "Requirement already satisfied: urllib3!=1.25.0,!=1.25.1,<1.26,>=1.21.1 in /usr/local/lib/python3.7/dist-packages (from requests<3,>=2.0.0->wandb) (1.24.3)\n",
            "Building wheels for collected packages: pathtools\n",
            "  Building wheel for pathtools (setup.py) ... \u001b[?25l\u001b[?25hdone\n",
            "  Created wheel for pathtools: filename=pathtools-0.1.2-py3-none-any.whl size=8806 sha256=b5b658edf762913108a23b0ff4bbf4bd941f0e16cdb82a9f197fd75af4c47905\n",
            "  Stored in directory: /root/.cache/pip/wheels/3e/31/09/fa59cef12cdcfecc627b3d24273699f390e71828921b2cbba2\n",
            "Successfully built pathtools\n",
            "Installing collected packages: smmap, gitdb, shortuuid, setproctitle, sentry-sdk, pathtools, GitPython, docker-pycreds, wandb\n",
            "Successfully installed GitPython-3.1.27 docker-pycreds-0.4.0 gitdb-4.0.9 pathtools-0.1.2 sentry-sdk-1.5.11 setproctitle-1.2.3 shortuuid-1.0.8 smmap-5.0.0 wandb-0.12.16\n"
          ]
        }
      ],
      "source": [
        "!pip install wandb"
      ]
    },
    {
      "cell_type": "code",
      "execution_count": 2,
      "metadata": {
        "id": "pQB-3bYKjODJ"
      },
      "outputs": [],
      "source": [
        "from tqdm import tqdm\n",
        "import pandas as pd\n",
        "import numpy as np\n",
        "\n",
        "import matplotlib.pyplot as plt\n",
        "\n",
        "import tensorflow as tf\n",
        "from keras.models import Model\n",
        "from keras.layers import Layer\n",
        "from keras.layers import SimpleRNN, LSTM, GRU, Dense\n",
        "from keras.layers.embeddings import Embedding\n",
        "from keras.preprocessing import sequence\n",
        "from tensorflow.keras.optimizers import Adam\n",
        "from keras.losses import SparseCategoricalCrossentropy"
      ]
    },
    {
      "cell_type": "code",
      "execution_count": 3,
      "metadata": {
        "colab": {
          "base_uri": "https://localhost:8080/"
        },
        "id": "ntni_4YQpWoE",
        "outputId": "b4fa738e-77bb-4874-f722-606330e8820d"
      },
      "outputs": [
        {
          "output_type": "stream",
          "name": "stderr",
          "text": [
            "/usr/local/lib/python3.7/dist-packages/IPython/core/interactiveshell.py:2882: FutureWarning: The error_bad_lines argument has been deprecated and will be removed in a future version.\n",
            "\n",
            "\n",
            "  exec(code_obj, self.user_global_ns, self.user_ns)\n",
            "/usr/local/lib/python3.7/dist-packages/ipykernel_launcher.py:42: FutureWarning: The error_bad_lines argument has been deprecated and will be removed in a future version.\n",
            "\n",
            "\n",
            "/usr/local/lib/python3.7/dist-packages/ipykernel_launcher.py:44: FutureWarning: The error_bad_lines argument has been deprecated and will be removed in a future version.\n",
            "\n",
            "\n",
            "/usr/local/lib/python3.7/dist-packages/ipykernel_launcher.py:46: FutureWarning: The error_bad_lines argument has been deprecated and will be removed in a future version.\n",
            "\n",
            "\n"
          ]
        }
      ],
      "source": [
        "TRAIN_PATH = \"hi.translit.sampled.train.tsv\"\n",
        "VAL_PATH = \"hi.translit.sampled.dev.tsv\"\n",
        "TEST_PATH = \"hi.translit.sampled.test.tsv\"\n",
        "\n",
        "df = pd.read_csv(TRAIN_PATH, sep=\"\\t\", header=None, error_bad_lines=False).dropna()\n",
        "hindi_words = [list(f'\\t{word}\\n') for word in df[0].tolist()]\n",
        "english_words = [list(f'\\t{word}\\n') for word in df[1].tolist()]\n",
        "# Creating sorted vocabulary of source and target language\n",
        "english_characters = sorted(list(set([char for word in english_words for char in word])))\n",
        "hindi_characters = sorted(list(set([char for word in hindi_words for char in word])))\n",
        "# Creating essential parameters\n",
        "max_encoder_seq_length = (np.max([len(i) for i in english_words]))\n",
        "max_decoder_seq_length = (np.max([len(i) for i in hindi_words]))\n",
        "num_encoder_tokens = len(english_characters)\n",
        "num_decoder_tokens = len(hindi_characters)\n",
        "# Mapping each character of vocabulary to index and vice versa\n",
        "input_token_index = dict([(char, i) for i, char in enumerate(english_characters)])\n",
        "inverse_input_token_index = {v: k for k, v in input_token_index.items()}\n",
        "target_token_index = dict([(char, i) for i, char in enumerate(hindi_characters)])\n",
        "inverse_target_token_index = {v: k for k, v in target_token_index.items()}\n",
        "\n",
        "def load_encoder_decoder_data(filepath, sep='\\t', header=None):\n",
        "  df = pd.read_csv(filepath, sep=sep, header=header, error_bad_lines=False).dropna()\n",
        "  decoder_target_data = np.zeros((df.shape[0],max_decoder_seq_length,num_decoder_tokens), dtype=\"float32\")\n",
        "  for i, hindi_text in enumerate(df[0].tolist()):\n",
        "      hindi_text = f'\\t{hindi_text}\\n'\n",
        "      for t, char in enumerate(hindi_text):\n",
        "          if t > 0:\n",
        "              decoder_target_data[i, t - 1, target_token_index[char]] = 1.0\n",
        "      decoder_target_data[i, t:, target_token_index[\"\\n\"]] = 1.0\n",
        "  encoder_input_data = []\n",
        "  for word in df[1].tolist():\n",
        "    encoder_input_data.append([input_token_index[char] for char in f'\\t{word}\\n'])\n",
        "  encoder_input_data = sequence.pad_sequences(encoder_input_data, maxlen=max_encoder_seq_length, padding=\"post\")\n",
        "  decoder_input_data = []\n",
        "  for word in df[0].tolist():\n",
        "    decoder_input_data.append([target_token_index[char] for char in f'\\t{word}\\n'])\n",
        "  decoder_input_data = sequence.pad_sequences(decoder_input_data, maxlen=max_decoder_seq_length, padding=\"post\")\n",
        "  return encoder_input_data, decoder_input_data, decoder_target_data\n",
        "\n",
        "# Train split\n",
        "train_encoder_input_data, train_decoder_input_data, train_decoder_target = load_encoder_decoder_data(TRAIN_PATH)\n",
        "# Validation split\n",
        "val_encoder_input_data, val_decoder_input_data, val_decoder_target = load_encoder_decoder_data(VAL_PATH)\n",
        "# Test split\n",
        "test_encoder_input_data, test_decoder_input_data, test_decoder_target = load_encoder_decoder_data(TEST_PATH)\n",
        "\n",
        "buffer_size = 100000"
      ]
    },
    {
      "cell_type": "code",
      "execution_count": 4,
      "metadata": {
        "id": "GpGN_90bjKdm"
      },
      "outputs": [],
      "source": [
        "class BahdanauAttention(Layer):\n",
        "  def __init__(self, units):\n",
        "    super().__init__()\n",
        "    self.W_decoder = Dense(units)\n",
        "    self.W_encoder = Dense(units)\n",
        "    self.W_aggregate = Dense(1)\n",
        "\n",
        "  def call(self, query, values):\n",
        "    query_across_time = tf.expand_dims(query, 1)\n",
        "    decoder_transform = self.W_decoder(query_across_time)\n",
        "    encoder_transform = self.W_encoder(values)\n",
        "    score = tf.nn.tanh(encoder_transform + decoder_transform)\n",
        "    score = self.W_aggregate(score)\n",
        "    attention_weights = tf.nn.softmax(score, axis=1)\n",
        "    context = tf.reduce_sum((attention_weights * values), axis=1)\n",
        "    return context, attention_weights\n",
        "\n",
        "\n",
        "class Encoder(Model):\n",
        "  def __init__(self, config):\n",
        "    super(Encoder, self).__init__()\n",
        "    self.config = config\n",
        "    \n",
        "    # Embedding layer: (num_encoder_tokens, input_embedding_size)\n",
        "    self.encoder_embedding = Embedding(num_encoder_tokens, self.config.input_embedding_size, name='Encoder_embeddings')\n",
        "    \n",
        "    # Adding encoder layer\n",
        "    self.get_cell = {\n",
        "        'rnn': SimpleRNN(self.config.hidden_units, dropout=self.config.dropout, \n",
        "                   return_sequences=True, return_state=True,\n",
        "                   recurrent_initializer=self.config.initializer, name=f\"Encoder_0\"),\n",
        "        'gru': GRU(self.config.hidden_units, dropout=self.config.dropout, \n",
        "                   return_sequences=True, return_state=True,\n",
        "                   recurrent_initializer=self.config.initializer, name=f\"Encoder_0\"),\n",
        "        'lstm': LSTM(self.config.hidden_units, dropout=self.config.dropout, \n",
        "                   return_sequences=True, return_state=True,\n",
        "                   recurrent_initializer=self.config.initializer, name=f\"Encoder_0\"),\n",
        "    }\n",
        "    self.encoder_cell = self.get_cell[self.config.cell_type]\n",
        "\n",
        "\n",
        "  def call(self, encoder_input, hidden):\n",
        "    encoder_embedded = self.encoder_embedding(encoder_input)\n",
        "    if self.config.cell_type in ['rnn', 'gru']:\n",
        "        output, state = self.get_cell[self.config.cell_type](encoder_embedded, initial_state=hidden)\n",
        "    elif self.config.cell_type == \"lstm\":\n",
        "        output, state, context= self.get_cell[self.config.cell_type](encoder_embedded, initial_state=hidden)\n",
        "    return output, state\n",
        "\n",
        "  def init_hidden_states(self):\n",
        "      if self.config.cell_type in ['rnn', 'gru']:\n",
        "          return tf.zeros((self.config.batch_size, self.config.hidden_units))\n",
        "      else:\n",
        "        return (tf.zeros((self.config.batch_size, self.config.hidden_units)),\n",
        "                  tf.zeros((self.config.batch_size, self.config.hidden_units)))\n",
        "        \n",
        "class Decoder(Model):\n",
        "  def __init__(self, config):\n",
        "    super(Decoder, self).__init__()\n",
        "    self.config = config\n",
        "    # Attention Layer\n",
        "    self.attention = BahdanauAttention(self.config.hidden_units)\n",
        "    \n",
        "    # Embedding layer: (num_decoder_tokens, input_embedding_size)\n",
        "    self.decoder_embedding = Embedding(num_decoder_tokens, self.config.input_embedding_size)\n",
        "    \n",
        "    # Output dense layer: (num_decoder_tokens)\n",
        "    self.decoder_dense = Dense(num_decoder_tokens)\n",
        "    \n",
        "    # Adding decoder layer\n",
        "    self.get_cell = {\n",
        "        'rnn': SimpleRNN(self.config.hidden_units, dropout=self.config.dropout, \n",
        "                   return_sequences=True, return_state=True,\n",
        "                   recurrent_initializer=self.config.initializer, name=f\"Encoder_0\"),\n",
        "        'gru': GRU(self.config.hidden_units, dropout=self.config.dropout, \n",
        "                   return_sequences=True, return_state=True,\n",
        "                   recurrent_initializer=self.config.initializer, name=f\"Encoder_0\"),\n",
        "        'lstm': LSTM(self.config.hidden_units, dropout=self.config.dropout, \n",
        "                   return_sequences=True, return_state=True,\n",
        "                   recurrent_initializer=self.config.initializer, name=f\"Encoder_0\"),\n",
        "    }\n",
        "    self.decoder_cell = self.get_cell[self.config.cell_type]\n",
        "\n",
        "  def call(self, decoder_inputs, hidden, encoder_output):\n",
        "    context, attention_weights = self.attention(hidden, encoder_output)\n",
        "    decoder_embedded = self.decoder_embedding(decoder_inputs)\n",
        "    concatenated = tf.concat([tf.expand_dims(context, 1), decoder_embedded], axis=-1)\n",
        "    if self.config.cell_type in ['rnn', 'gru']:\n",
        "        output, state = self.get_cell[self.config.cell_type](concatenated)\n",
        "    elif self.config.cell_type == \"lstm\":\n",
        "        output, state, context= self.get_cell[self.config.cell_type](concatenated)\n",
        "    output = self.decoder_dense(tf.reshape(output, (-1, output.shape[2])))\n",
        "    return output, state, attention_weights"
      ]
    },
    {
      "cell_type": "code",
      "execution_count": 9,
      "metadata": {
        "id": "-myq9xvVpWoH"
      },
      "outputs": [],
      "source": [
        "class TransliterationAttentionModel:\n",
        "    def __init__(self, config):\n",
        "        self.config = config\n",
        "        self.encoder = Encoder(self.config)\n",
        "        self.decoder = Decoder(self.config)\n",
        "        self.optimizer = Adam(learning_rate=self.config.learning_rate)\n",
        "        self.loss_func = SparseCategoricalCrossentropy(from_logits=True, reduction='none')\n",
        "\n",
        "    @tf.function()    \n",
        "    def train_one_batch(self, encoder_inputs, decoder_targets):\n",
        "        loss = 0\n",
        "        # Initialize hidden states to zeroes\n",
        "        encoder_hidden = self.encoder.init_hidden_states()\n",
        "        with tf.GradientTape() as tape:\n",
        "            encoder_output, decoder_hidden = self.encoder(encoder_inputs, encoder_hidden)\n",
        "            decoder_input = tf.expand_dims([target_token_index['\\t']] * self.config.batch_size, 1)\n",
        "            for t in range(1, decoder_targets.shape[1]):\n",
        "                decoder_output, decoder_hidden, attention_weights = self.decoder(decoder_input, decoder_hidden, encoder_output)\n",
        "                batch_loss = self.loss_func(decoder_targets[:, t], decoder_output)\n",
        "                # Ignore pad index\n",
        "                batch_loss *= tf.cast(tf.math.logical_not(tf.math.equal(decoder_targets[:, t], 0)), dtype=batch_loss.dtype)\n",
        "                batch_loss = tf.reduce_mean(batch_loss)\n",
        "                dec_input = tf.expand_dims(decoder_targets[:, t], 1)\n",
        "                loss += batch_loss\n",
        "        gradients = tape.gradient(loss, self.encoder.trainable_variables + self.decoder.attention.trainable_variables + self.decoder.trainable_variables)\n",
        "        self.optimizer.apply_gradients(zip(gradients, self.encoder.trainable_variables + self.decoder.attention.trainable_variables + self.decoder.trainable_variables))\n",
        "        return (loss / decoder_targets.shape[1])\n",
        "\n",
        "    def train(self, dataset, batch_size, num_batches):\n",
        "        for epoch in range(1, self.config.epochs+1):\n",
        "            loss = 0\n",
        "            # Iterate batches over dataset and train \n",
        "            for (batch, (encoder_inputs, decoder_targets)) in tqdm(enumerate(dataset.take(num_batches))):\n",
        "                batch_loss = self.train_one_batch(encoder_inputs, decoder_targets)\n",
        "                loss += batch_loss \n",
        "            print(f'Epoch {epoch} Loss {loss/num_batches:.4f}')\n",
        "    \n",
        "    def calculate_accuracy(self, split='test'):\n",
        "        correct, total = 0, 0\n",
        "        targets, predicted, english_words = [], [], []\n",
        "        for i in range(len(test_decoder_input_data)):\n",
        "            gt = \"\"  # fetch ground truth\n",
        "            for token in test_decoder_input_data[i][1:]:\n",
        "                if inverse_target_token_index[token]!=\"\\n\":\n",
        "                    gt += inverse_target_token_index[token]\n",
        "                else:\n",
        "                    break\n",
        "            english = \"\"  # fetch english word\n",
        "            for token in test_encoder_input_data[i][1:]:\n",
        "                if inverse_input_token_index[token]!=\"\\n\":\n",
        "                    english += inverse_input_token_index[token]\n",
        "                else:\n",
        "                    break\n",
        "            pred = self.get_predicted_word(test_encoder_input_data[i])\n",
        "            if i % 100 == 0:\n",
        "              print(\"english: \", english, \"gt: \",gt,\" pred: \",pred)\n",
        "            if gt == pred :\n",
        "                correct += 1\n",
        "            total += 1\n",
        "            targets.append(gt)\n",
        "            predicted.append(pred)\n",
        "            english_words.append(english)\n",
        "        import pandas as pd\n",
        "        df=pd.DataFrame({'English': english_words, 'Predicted': predicted, 'Target': targets})\n",
        "        df.to_csv('predictions_attention.csv')\n",
        "        word_test_accuracy = correct / total\n",
        "        print(\"test accuracy : \" ,word_test_accuracy )\n",
        "    \n",
        "    def get_predicted_word(self, inputs):\n",
        "        if self.config.cell_type in ['rnn', 'gru']:\n",
        "            hidden = [tf.zeros((1, self.config.hidden_units))]\n",
        "        else:\n",
        "            hidden = [tf.zeros((1, self.config.hidden_units)),\n",
        "                      tf.zeros((1, self.config.hidden_units))]          \n",
        "        encoder_input = tf.expand_dims(tf.convert_to_tensor(inputs), 0)\n",
        "        encoder_output, decoder_hidden = self.encoder(encoder_input, hidden)\n",
        "        decoder_input = tf.expand_dims([target_token_index['\\t']], 0)  # start token\n",
        "        predicted_word = ''\n",
        "        all_attention_weights = np.zeros((max_decoder_seq_length,max_encoder_seq_length))\n",
        "        for t in range(max_decoder_seq_length):\n",
        "            decoder_output, decoder_hidden, attention_weights = self.decoder(decoder_input, decoder_hidden, encoder_output)\n",
        "            token = np.argmax(decoder_output[0].numpy())\n",
        "            all_attention_weights[t] = attention_weights.numpy().reshape(-1)\n",
        "            if inverse_target_token_index[token] != \"\\n\":  # end token\n",
        "                predicted_word += inverse_target_token_index[token]\n",
        "            else:\n",
        "                return predicted_word, all_attention_weights\n",
        "            decoder_input = tf.expand_dims([token], 0) \n",
        "        return predicted_word, all_attention_weights"
      ]
    },
    {
      "cell_type": "code",
      "execution_count": 6,
      "metadata": {
        "colab": {
          "base_uri": "https://localhost:8080/"
        },
        "id": "dgK25YoT7VjO",
        "outputId": "ae3f3b75-f2a8-4662-ec72-609495940943"
      },
      "outputs": [
        {
          "output_type": "stream",
          "name": "stderr",
          "text": [
            "172it [01:20,  2.15it/s]\n"
          ]
        },
        {
          "output_type": "stream",
          "name": "stdout",
          "text": [
            "Epoch 1 Loss 1.1480\n"
          ]
        },
        {
          "output_type": "stream",
          "name": "stderr",
          "text": [
            "172it [00:29,  5.82it/s]\n"
          ]
        },
        {
          "output_type": "stream",
          "name": "stdout",
          "text": [
            "Epoch 2 Loss 0.9356\n"
          ]
        },
        {
          "output_type": "stream",
          "name": "stderr",
          "text": [
            "172it [00:29,  5.84it/s]\n"
          ]
        },
        {
          "output_type": "stream",
          "name": "stdout",
          "text": [
            "Epoch 3 Loss 0.5503\n"
          ]
        },
        {
          "output_type": "stream",
          "name": "stderr",
          "text": [
            "172it [00:29,  5.83it/s]\n"
          ]
        },
        {
          "output_type": "stream",
          "name": "stdout",
          "text": [
            "Epoch 4 Loss 0.4209\n"
          ]
        },
        {
          "output_type": "stream",
          "name": "stderr",
          "text": [
            "172it [00:29,  5.84it/s]\n"
          ]
        },
        {
          "output_type": "stream",
          "name": "stdout",
          "text": [
            "Epoch 5 Loss 0.3745\n"
          ]
        },
        {
          "output_type": "stream",
          "name": "stderr",
          "text": [
            "172it [00:29,  5.79it/s]\n"
          ]
        },
        {
          "output_type": "stream",
          "name": "stdout",
          "text": [
            "Epoch 6 Loss 0.3419\n"
          ]
        },
        {
          "output_type": "stream",
          "name": "stderr",
          "text": [
            "172it [00:29,  5.83it/s]\n"
          ]
        },
        {
          "output_type": "stream",
          "name": "stdout",
          "text": [
            "Epoch 7 Loss 0.3245\n"
          ]
        },
        {
          "output_type": "stream",
          "name": "stderr",
          "text": [
            "172it [00:29,  5.81it/s]\n"
          ]
        },
        {
          "output_type": "stream",
          "name": "stdout",
          "text": [
            "Epoch 8 Loss 0.3009\n"
          ]
        },
        {
          "output_type": "stream",
          "name": "stderr",
          "text": [
            "172it [00:29,  5.82it/s]\n"
          ]
        },
        {
          "output_type": "stream",
          "name": "stdout",
          "text": [
            "Epoch 9 Loss 0.2850\n"
          ]
        },
        {
          "output_type": "stream",
          "name": "stderr",
          "text": [
            "172it [00:29,  5.81it/s]\n"
          ]
        },
        {
          "output_type": "stream",
          "name": "stdout",
          "text": [
            "Epoch 10 Loss 0.2665\n"
          ]
        },
        {
          "output_type": "stream",
          "name": "stderr",
          "text": [
            "172it [00:29,  5.83it/s]\n"
          ]
        },
        {
          "output_type": "stream",
          "name": "stdout",
          "text": [
            "Epoch 11 Loss 0.2639\n"
          ]
        },
        {
          "output_type": "stream",
          "name": "stderr",
          "text": [
            "172it [00:29,  5.85it/s]\n"
          ]
        },
        {
          "output_type": "stream",
          "name": "stdout",
          "text": [
            "Epoch 12 Loss 0.2484\n"
          ]
        },
        {
          "output_type": "stream",
          "name": "stderr",
          "text": [
            "172it [00:29,  5.83it/s]\n"
          ]
        },
        {
          "output_type": "stream",
          "name": "stdout",
          "text": [
            "Epoch 13 Loss 0.2443\n"
          ]
        },
        {
          "output_type": "stream",
          "name": "stderr",
          "text": [
            "172it [00:29,  5.81it/s]\n"
          ]
        },
        {
          "output_type": "stream",
          "name": "stdout",
          "text": [
            "Epoch 14 Loss 0.2305\n"
          ]
        },
        {
          "output_type": "stream",
          "name": "stderr",
          "text": [
            "172it [00:29,  5.80it/s]\n"
          ]
        },
        {
          "output_type": "stream",
          "name": "stdout",
          "text": [
            "Epoch 15 Loss 0.2217\n"
          ]
        },
        {
          "output_type": "stream",
          "name": "stderr",
          "text": [
            "172it [00:29,  5.82it/s]\n"
          ]
        },
        {
          "output_type": "stream",
          "name": "stdout",
          "text": [
            "Epoch 16 Loss 0.2178\n"
          ]
        },
        {
          "output_type": "stream",
          "name": "stderr",
          "text": [
            "172it [00:29,  5.80it/s]\n"
          ]
        },
        {
          "output_type": "stream",
          "name": "stdout",
          "text": [
            "Epoch 17 Loss 0.2097\n"
          ]
        },
        {
          "output_type": "stream",
          "name": "stderr",
          "text": [
            "172it [00:29,  5.80it/s]\n"
          ]
        },
        {
          "output_type": "stream",
          "name": "stdout",
          "text": [
            "Epoch 18 Loss 0.2025\n"
          ]
        },
        {
          "output_type": "stream",
          "name": "stderr",
          "text": [
            "172it [00:29,  5.83it/s]\n"
          ]
        },
        {
          "output_type": "stream",
          "name": "stdout",
          "text": [
            "Epoch 19 Loss 0.2057\n"
          ]
        },
        {
          "output_type": "stream",
          "name": "stderr",
          "text": [
            "172it [00:29,  5.80it/s]\n"
          ]
        },
        {
          "output_type": "stream",
          "name": "stdout",
          "text": [
            "Epoch 20 Loss 0.2040\n"
          ]
        }
      ],
      "source": [
        "# Best hyperparameter configuration\n",
        "cfg_dict = {'batch_size': 256, 'cell_type': 'lstm', 'dropout': 0.3, 'epochs': 20, 'hidden_units': 256, 'initializer': 'orthogonal', 'input_embedding_size': 256, 'learning_rate': 0.002}\n",
        "\n",
        "class dotdict(dict):\n",
        "    \"\"\"dot.notation access to dictionary attributes\"\"\"\n",
        "    __getattr__ = dict.get\n",
        "    __setattr__ = dict.__setitem__\n",
        "    __delattr__ = dict.__delitem__\n",
        "\n",
        "config = dotdict(cfg_dict)\n",
        "num_batches = len(train_encoder_input_data)//config.batch_size\n",
        "dataset = tf.data.Dataset.from_tensor_slices((train_encoder_input_data, train_decoder_input_data)).shuffle(buffer_size)\n",
        "dataset = dataset.batch(config.batch_size, drop_remainder=True)\n",
        "model = TransliterationAttentionModel(config)\n",
        "model.train(dataset, config.batch_size, num_batches)"
      ]
    },
    {
      "cell_type": "markdown",
      "source": [
        "### Visualize Connectivity"
      ],
      "metadata": {
        "id": "Gq6J8apyu0jx"
      }
    },
    {
      "cell_type": "code",
      "source": [
        "!pip install mycolorpy"
      ],
      "metadata": {
        "id": "rvBhi9Ey1H9_"
      },
      "execution_count": null,
      "outputs": []
    },
    {
      "cell_type": "code",
      "source": [
        "from IPython.display import HTML as html_print\n",
        "from IPython.display import display\n",
        "from mycolorpy import colorlist as mcp\n",
        "\n",
        "rgb_colors = mcp.gen_color(cmap=\"bwr\",n=20)\n",
        "\n",
        "def cstr(s, color='black'):\n",
        "    if s == ' ':\n",
        "      return \"<text style=color:#000;padding-left:10px;background-color:{}> </text>\".format(color, s)\n",
        "    else:\n",
        "      return \"<text style=color:#000;background-color:{}>{} </text>\".format(color, s)\n",
        "\t\n",
        "def print_color(t):\n",
        "\t  display(html_print(''.join([cstr(ti, color=ci) for ti,ci in t])))\n",
        "\n",
        "def get_color(value):\n",
        "    value = int(value * 100) // 5\n",
        "    value = 19 if value > 19 else value\n",
        "    return rgb_colors[value]\n",
        "\n",
        "done, correct, total = 0, 0, 0\n",
        "targets, predicted, english_words = [], [], []\n",
        "# Iterate over test set\n",
        "for i in range(0, len(test_decoder_input_data), 19):\n",
        "    gt = \"\"  # fetch ground truth\n",
        "    for token in test_decoder_input_data[i][1:]:\n",
        "        if inverse_target_token_index[token]!=\"\\n\":\n",
        "            gt += inverse_target_token_index[token]\n",
        "        else:\n",
        "            break\n",
        "    english = \"\"  # fetch english word\n",
        "    for token in test_encoder_input_data[i][1:]:\n",
        "        if inverse_input_token_index[token]!=\"\\n\":\n",
        "            english += inverse_input_token_index[token]\n",
        "        else:\n",
        "            break\n",
        "    inputs = test_encoder_input_data[i]\n",
        "    gradients = []\n",
        "    # Track gradients of decoder output w.r.t encoder embeddings (Embedding layer is not diff. in Keras)\n",
        "    with tf.GradientTape(persistent=True, watch_accessed_variables=False) as tape:\n",
        "        if model.config.cell_type in ['rnn', 'gru']:\n",
        "            hidden = [tf.zeros((1, model.config.hidden_units))]\n",
        "        else:\n",
        "            hidden = [tf.zeros((1, model.config.hidden_units)),\n",
        "                  tf.zeros((1, model.config.hidden_units))]          \n",
        "        encoder_input = tf.expand_dims(tf.convert_to_tensor(inputs), 0)\n",
        "        encoder_output, decoder_hidden = model.encoder(encoder_input, hidden)\n",
        "        encoder_embedded = model.encoder.encoder_embedding(encoder_input)\n",
        "        tape.watch(encoder_embedded)\n",
        "        encoder_output, decoder_hidden, _ = model.encoder.get_cell[model.config.cell_type](encoder_embedded, initial_state=hidden)        \n",
        "        decoder_input = tf.expand_dims([target_token_index['\\t']], 0)  # start token\n",
        "        predicted_word = ''\n",
        "        all_attention_weights = np.zeros((max_decoder_seq_length,max_encoder_seq_length))\n",
        "        # Decode inputs\n",
        "        for t in range(max_decoder_seq_length):\n",
        "            decoder_output, decoder_hidden, attention_weights = model.decoder(decoder_input, decoder_hidden, encoder_output)\n",
        "            gradients.append(tape.gradient(decoder_output, encoder_embedded)[0])\n",
        "            token = np.argmax(decoder_output[0].numpy())  # greedy\n",
        "            all_attention_weights[t] = attention_weights.numpy().reshape(-1)\n",
        "            if inverse_target_token_index[token] != \"\\n\":  # end token\n",
        "                predicted_word += inverse_target_token_index[token]\n",
        "            else:\n",
        "                break\n",
        "            decoder_input = tf.expand_dims([token], 0) \n",
        "        pred = predicted_word\n",
        "        if pred == gt and (True not in tf.math.is_nan(gradients).numpy()):\n",
        "          done += 1\n",
        "          print('-'*20)\n",
        "          print(\"english: \", english, \"gt: \",gt,\" pred: \",pred)\n",
        "          # Normalize gradients for visualization\n",
        "          norm_gradients = np.array(gradients)\n",
        "          norm_gradients = np.linalg.norm(norm_gradients, axis=-1)\n",
        "          norm_gradients = norm_gradients / np.max(norm_gradients, axis=-1).reshape(-1, 1)\n",
        "          # Generate Visualization\n",
        "          for i in range(len(pred)):\n",
        "            print(\"Decoding \", pred[i],\" → \", end='')\n",
        "            text_colors = [(english[j], get_color(norm_gradients[i][j])) for j in range(len(english))]\n",
        "            print_color(text_colors)\n",
        "    if done > 10:\n",
        "      break"
      ],
      "metadata": {
        "colab": {
          "base_uri": "https://localhost:8080/",
          "height": 1000
        },
        "id": "2if1DModCa4N",
        "outputId": "2d2f08d3-3f2a-47a5-a6e6-9cb12aa3ee70"
      },
      "execution_count": 110,
      "outputs": [
        {
          "output_type": "stream",
          "name": "stdout",
          "text": [
            "WARNING:tensorflow:Calling GradientTape.gradient on a persistent tape inside its context is significantly less efficient than calling it outside the context (it causes the gradient ops to be recorded on the tape, leading to increased CPU and memory usage). Only call GradientTape.gradient inside the context if you actually want to trace the gradient in order to compute higher order derivatives.\n",
            "--------------------\n",
            "english:  agra gt:  अग्र  pred:  अग्र\n",
            "Decoding  अ  → "
          ]
        },
        {
          "output_type": "display_data",
          "data": {
            "text/plain": [
              "<IPython.core.display.HTML object>"
            ],
            "text/html": [
              "<text style=color:#000;background-color:#bcbcff>a </text><text style=color:#000;background-color:#ff0000>g </text><text style=color:#000;background-color:#f2f2ff>r </text><text style=color:#000;background-color:#8686ff>a </text>"
            ]
          },
          "metadata": {}
        },
        {
          "output_type": "stream",
          "name": "stdout",
          "text": [
            "Decoding  ग  → "
          ]
        },
        {
          "output_type": "display_data",
          "data": {
            "text/plain": [
              "<IPython.core.display.HTML object>"
            ],
            "text/html": [
              "<text style=color:#000;background-color:#0000ff>a </text><text style=color:#000;background-color:#d6d6ff>g </text><text style=color:#000;background-color:#ff5050>r </text><text style=color:#000;background-color:#ff0000>a </text>"
            ]
          },
          "metadata": {}
        },
        {
          "output_type": "stream",
          "name": "stdout",
          "text": [
            "Decoding  ्  → "
          ]
        },
        {
          "output_type": "display_data",
          "data": {
            "text/plain": [
              "<IPython.core.display.HTML object>"
            ],
            "text/html": [
              "<text style=color:#000;background-color:#0000ff>a </text><text style=color:#000;background-color:#0000ff>g </text><text style=color:#000;background-color:#3434ff>r </text><text style=color:#000;background-color:#ff0000>a </text>"
            ]
          },
          "metadata": {}
        },
        {
          "output_type": "stream",
          "name": "stdout",
          "text": [
            "Decoding  र  → "
          ]
        },
        {
          "output_type": "display_data",
          "data": {
            "text/plain": [
              "<IPython.core.display.HTML object>"
            ],
            "text/html": [
              "<text style=color:#000;background-color:#0000ff>a </text><text style=color:#000;background-color:#0000ff>g </text><text style=color:#000;background-color:#0000ff>r </text><text style=color:#000;background-color:#ff0000>a </text>"
            ]
          },
          "metadata": {}
        },
        {
          "output_type": "stream",
          "name": "stdout",
          "text": [
            "--------------------\n",
            "english:  amuk gt:  अमुक  pred:  अमुक\n",
            "Decoding  अ  → "
          ]
        },
        {
          "output_type": "display_data",
          "data": {
            "text/plain": [
              "<IPython.core.display.HTML object>"
            ],
            "text/html": [
              "<text style=color:#000;background-color:#bcbcff>a </text><text style=color:#000;background-color:#ff0000>m </text><text style=color:#000;background-color:#bcbcff>u </text><text style=color:#000;background-color:#5050ff>k </text>"
            ]
          },
          "metadata": {}
        },
        {
          "output_type": "stream",
          "name": "stdout",
          "text": [
            "Decoding  म  → "
          ]
        },
        {
          "output_type": "display_data",
          "data": {
            "text/plain": [
              "<IPython.core.display.HTML object>"
            ],
            "text/html": [
              "<text style=color:#000;background-color:#0000ff>a </text><text style=color:#000;background-color:#8686ff>m </text><text style=color:#000;background-color:#ff0000>u </text><text style=color:#000;background-color:#5050ff>k </text>"
            ]
          },
          "metadata": {}
        },
        {
          "output_type": "stream",
          "name": "stdout",
          "text": [
            "Decoding  ु  → "
          ]
        },
        {
          "output_type": "display_data",
          "data": {
            "text/plain": [
              "<IPython.core.display.HTML object>"
            ],
            "text/html": [
              "<text style=color:#000;background-color:#0000ff>a </text><text style=color:#000;background-color:#5050ff>m </text><text style=color:#000;background-color:#ff3434>u </text><text style=color:#000;background-color:#ff0000>k </text>"
            ]
          },
          "metadata": {}
        },
        {
          "output_type": "stream",
          "name": "stdout",
          "text": [
            "Decoding  क  → "
          ]
        },
        {
          "output_type": "display_data",
          "data": {
            "text/plain": [
              "<IPython.core.display.HTML object>"
            ],
            "text/html": [
              "<text style=color:#000;background-color:#0000ff>a </text><text style=color:#000;background-color:#0000ff>m </text><text style=color:#000;background-color:#0000ff>u </text><text style=color:#000;background-color:#ff0000>k </text>"
            ]
          },
          "metadata": {}
        },
        {
          "output_type": "stream",
          "name": "stdout",
          "text": [
            "--------------------\n",
            "english:  arthon gt:  अर्थों  pred:  अर्थों\n",
            "Decoding  अ  → "
          ]
        },
        {
          "output_type": "display_data",
          "data": {
            "text/plain": [
              "<IPython.core.display.HTML object>"
            ],
            "text/html": [
              "<text style=color:#000;background-color:#8686ff>a </text><text style=color:#000;background-color:#ff0000>r </text><text style=color:#000;background-color:#6a6aff>t </text><text style=color:#000;background-color:#6a6aff>h </text><text style=color:#000;background-color:#5050ff>o </text><text style=color:#000;background-color:#5050ff>n </text>"
            ]
          },
          "metadata": {}
        },
        {
          "output_type": "stream",
          "name": "stdout",
          "text": [
            "Decoding  र  → "
          ]
        },
        {
          "output_type": "display_data",
          "data": {
            "text/plain": [
              "<IPython.core.display.HTML object>"
            ],
            "text/html": [
              "<text style=color:#000;background-color:#0000ff>a </text><text style=color:#000;background-color:#8686ff>r </text><text style=color:#000;background-color:#ff0000>t </text><text style=color:#000;background-color:#a0a0ff>h </text><text style=color:#000;background-color:#0000ff>o </text><text style=color:#000;background-color:#0000ff>n </text>"
            ]
          },
          "metadata": {}
        },
        {
          "output_type": "stream",
          "name": "stdout",
          "text": [
            "Decoding  ्  → "
          ]
        },
        {
          "output_type": "display_data",
          "data": {
            "text/plain": [
              "<IPython.core.display.HTML object>"
            ],
            "text/html": [
              "<text style=color:#000;background-color:#0000ff>a </text><text style=color:#000;background-color:#0000ff>r </text><text style=color:#000;background-color:#ffd6d6>t </text><text style=color:#000;background-color:#ff0000>h </text><text style=color:#000;background-color:#3434ff>o </text><text style=color:#000;background-color:#0000ff>n </text>"
            ]
          },
          "metadata": {}
        },
        {
          "output_type": "stream",
          "name": "stdout",
          "text": [
            "Decoding  थ  → "
          ]
        },
        {
          "output_type": "display_data",
          "data": {
            "text/plain": [
              "<IPython.core.display.HTML object>"
            ],
            "text/html": [
              "<text style=color:#000;background-color:#0000ff>a </text><text style=color:#000;background-color:#0000ff>r </text><text style=color:#000;background-color:#0000ff>t </text><text style=color:#000;background-color:#ff0000>h </text><text style=color:#000;background-color:#8686ff>o </text><text style=color:#000;background-color:#0000ff>n </text>"
            ]
          },
          "metadata": {}
        },
        {
          "output_type": "stream",
          "name": "stdout",
          "text": [
            "Decoding  ो  → "
          ]
        },
        {
          "output_type": "display_data",
          "data": {
            "text/plain": [
              "<IPython.core.display.HTML object>"
            ],
            "text/html": [
              "<text style=color:#000;background-color:#0000ff>a </text><text style=color:#000;background-color:#0000ff>r </text><text style=color:#000;background-color:#0000ff>t </text><text style=color:#000;background-color:#3434ff>h </text><text style=color:#000;background-color:#ff0000>o </text><text style=color:#000;background-color:#3434ff>n </text>"
            ]
          },
          "metadata": {}
        },
        {
          "output_type": "stream",
          "name": "stdout",
          "text": [
            "Decoding  ं  → "
          ]
        },
        {
          "output_type": "display_data",
          "data": {
            "text/plain": [
              "<IPython.core.display.HTML object>"
            ],
            "text/html": [
              "<text style=color:#000;background-color:#0000ff>a </text><text style=color:#000;background-color:#0000ff>r </text><text style=color:#000;background-color:#0000ff>t </text><text style=color:#000;background-color:#0000ff>h </text><text style=color:#000;background-color:#0000ff>o </text><text style=color:#000;background-color:#0000ff>n </text>"
            ]
          },
          "metadata": {}
        },
        {
          "output_type": "stream",
          "name": "stdout",
          "text": [
            "--------------------\n",
            "english:  aagaman gt:  आगमन  pred:  आगमन\n",
            "Decoding  आ  → "
          ]
        },
        {
          "output_type": "display_data",
          "data": {
            "text/plain": [
              "<IPython.core.display.HTML object>"
            ],
            "text/html": [
              "<text style=color:#000;background-color:#bcbcff>a </text><text style=color:#000;background-color:#ff0000>a </text><text style=color:#000;background-color:#ffd6d6>g </text><text style=color:#000;background-color:#3434ff>a </text><text style=color:#000;background-color:#1a1aff>m </text><text style=color:#000;background-color:#3434ff>a </text><text style=color:#000;background-color:#1a1aff>n </text>"
            ]
          },
          "metadata": {}
        },
        {
          "output_type": "stream",
          "name": "stdout",
          "text": [
            "Decoding  ग  → "
          ]
        },
        {
          "output_type": "display_data",
          "data": {
            "text/plain": [
              "<IPython.core.display.HTML object>"
            ],
            "text/html": [
              "<text style=color:#000;background-color:#0000ff>a </text><text style=color:#000;background-color:#3434ff>a </text><text style=color:#000;background-color:#5050ff>g </text><text style=color:#000;background-color:#ff0000>a </text><text style=color:#000;background-color:#3434ff>m </text><text style=color:#000;background-color:#1a1aff>a </text><text style=color:#000;background-color:#0000ff>n </text>"
            ]
          },
          "metadata": {}
        },
        {
          "output_type": "stream",
          "name": "stdout",
          "text": [
            "Decoding  म  → "
          ]
        },
        {
          "output_type": "display_data",
          "data": {
            "text/plain": [
              "<IPython.core.display.HTML object>"
            ],
            "text/html": [
              "<text style=color:#000;background-color:#0000ff>a </text><text style=color:#000;background-color:#0000ff>a </text><text style=color:#000;background-color:#0000ff>g </text><text style=color:#000;background-color:#ff0000>a </text><text style=color:#000;background-color:#5050ff>m </text><text style=color:#000;background-color:#f2f2ff>a </text><text style=color:#000;background-color:#0000ff>n </text>"
            ]
          },
          "metadata": {}
        },
        {
          "output_type": "stream",
          "name": "stdout",
          "text": [
            "Decoding  न  → "
          ]
        },
        {
          "output_type": "display_data",
          "data": {
            "text/plain": [
              "<IPython.core.display.HTML object>"
            ],
            "text/html": [
              "<text style=color:#000;background-color:#0000ff>a </text><text style=color:#000;background-color:#0000ff>a </text><text style=color:#000;background-color:#0000ff>g </text><text style=color:#000;background-color:#ff0000>a </text><text style=color:#000;background-color:#6a6aff>m </text><text style=color:#000;background-color:#bcbcff>a </text><text style=color:#000;background-color:#0000ff>n </text>"
            ]
          },
          "metadata": {}
        },
        {
          "output_type": "stream",
          "name": "stdout",
          "text": [
            "--------------------\n",
            "english:  ishita gt:  इशिता  pred:  इशिता\n",
            "Decoding  इ  → "
          ]
        },
        {
          "output_type": "display_data",
          "data": {
            "text/plain": [
              "<IPython.core.display.HTML object>"
            ],
            "text/html": [
              "<text style=color:#000;background-color:#ffa0a0>i </text><text style=color:#000;background-color:#ff0000>s </text><text style=color:#000;background-color:#d6d6ff>h </text><text style=color:#000;background-color:#a0a0ff>i </text><text style=color:#000;background-color:#8686ff>t </text><text style=color:#000;background-color:#8686ff>a </text>"
            ]
          },
          "metadata": {}
        },
        {
          "output_type": "stream",
          "name": "stdout",
          "text": [
            "Decoding  श  → "
          ]
        },
        {
          "output_type": "display_data",
          "data": {
            "text/plain": [
              "<IPython.core.display.HTML object>"
            ],
            "text/html": [
              "<text style=color:#000;background-color:#0000ff>i </text><text style=color:#000;background-color:#d6d6ff>s </text><text style=color:#000;background-color:#ff1a1a>h </text><text style=color:#000;background-color:#ff0000>i </text><text style=color:#000;background-color:#5050ff>t </text><text style=color:#000;background-color:#1a1aff>a </text>"
            ]
          },
          "metadata": {}
        },
        {
          "output_type": "stream",
          "name": "stdout",
          "text": [
            "Decoding  ि  → "
          ]
        },
        {
          "output_type": "display_data",
          "data": {
            "text/plain": [
              "<IPython.core.display.HTML object>"
            ],
            "text/html": [
              "<text style=color:#000;background-color:#0000ff>i </text><text style=color:#000;background-color:#0000ff>s </text><text style=color:#000;background-color:#1a1aff>h </text><text style=color:#000;background-color:#8686ff>i </text><text style=color:#000;background-color:#ff0000>t </text><text style=color:#000;background-color:#d6d6ff>a </text>"
            ]
          },
          "metadata": {}
        },
        {
          "output_type": "stream",
          "name": "stdout",
          "text": [
            "Decoding  त  → "
          ]
        },
        {
          "output_type": "display_data",
          "data": {
            "text/plain": [
              "<IPython.core.display.HTML object>"
            ],
            "text/html": [
              "<text style=color:#000;background-color:#0000ff>i </text><text style=color:#000;background-color:#0000ff>s </text><text style=color:#000;background-color:#0000ff>h </text><text style=color:#000;background-color:#0000ff>i </text><text style=color:#000;background-color:#1a1aff>t </text><text style=color:#000;background-color:#ff0000>a </text>"
            ]
          },
          "metadata": {}
        },
        {
          "output_type": "stream",
          "name": "stdout",
          "text": [
            "Decoding  ा  → "
          ]
        },
        {
          "output_type": "display_data",
          "data": {
            "text/plain": [
              "<IPython.core.display.HTML object>"
            ],
            "text/html": [
              "<text style=color:#000;background-color:#0000ff>i </text><text style=color:#000;background-color:#0000ff>s </text><text style=color:#000;background-color:#0000ff>h </text><text style=color:#000;background-color:#0000ff>i </text><text style=color:#000;background-color:#0000ff>t </text><text style=color:#000;background-color:#ff0000>a </text>"
            ]
          },
          "metadata": {}
        },
        {
          "output_type": "stream",
          "name": "stdout",
          "text": [
            "--------------------\n",
            "english:  emile gt:  एमिल  pred:  एमिल\n",
            "Decoding  ए  → "
          ]
        },
        {
          "output_type": "display_data",
          "data": {
            "text/plain": [
              "<IPython.core.display.HTML object>"
            ],
            "text/html": [
              "<text style=color:#000;background-color:#ffa0a0>e </text><text style=color:#000;background-color:#ff0000>m </text><text style=color:#000;background-color:#3434ff>i </text><text style=color:#000;background-color:#5050ff>l </text><text style=color:#000;background-color:#a0a0ff>e </text>"
            ]
          },
          "metadata": {}
        },
        {
          "output_type": "stream",
          "name": "stdout",
          "text": [
            "Decoding  म  → "
          ]
        },
        {
          "output_type": "display_data",
          "data": {
            "text/plain": [
              "<IPython.core.display.HTML object>"
            ],
            "text/html": [
              "<text style=color:#000;background-color:#0000ff>e </text><text style=color:#000;background-color:#fff2f2>m </text><text style=color:#000;background-color:#ff0000>i </text><text style=color:#000;background-color:#bcbcff>l </text><text style=color:#000;background-color:#8686ff>e </text>"
            ]
          },
          "metadata": {}
        },
        {
          "output_type": "stream",
          "name": "stdout",
          "text": [
            "Decoding  ि  → "
          ]
        },
        {
          "output_type": "display_data",
          "data": {
            "text/plain": [
              "<IPython.core.display.HTML object>"
            ],
            "text/html": [
              "<text style=color:#000;background-color:#0000ff>e </text><text style=color:#000;background-color:#0000ff>m </text><text style=color:#000;background-color:#d6d6ff>i </text><text style=color:#000;background-color:#ff0000>l </text><text style=color:#000;background-color:#a0a0ff>e </text>"
            ]
          },
          "metadata": {}
        },
        {
          "output_type": "stream",
          "name": "stdout",
          "text": [
            "Decoding  ल  → "
          ]
        },
        {
          "output_type": "display_data",
          "data": {
            "text/plain": [
              "<IPython.core.display.HTML object>"
            ],
            "text/html": [
              "<text style=color:#000;background-color:#0000ff>e </text><text style=color:#000;background-color:#0000ff>m </text><text style=color:#000;background-color:#0000ff>i </text><text style=color:#000;background-color:#bcbcff>l </text><text style=color:#000;background-color:#ff0000>e </text>"
            ]
          },
          "metadata": {}
        },
        {
          "output_type": "stream",
          "name": "stdout",
          "text": [
            "--------------------\n",
            "english:  kachche gt:  कच्चे  pred:  कच्चे\n",
            "Decoding  क  → "
          ]
        },
        {
          "output_type": "display_data",
          "data": {
            "text/plain": [
              "<IPython.core.display.HTML object>"
            ],
            "text/html": [
              "<text style=color:#000;background-color:#ff8686>k </text><text style=color:#000;background-color:#ff0000>a </text><text style=color:#000;background-color:#ffa0a0>c </text><text style=color:#000;background-color:#ffa0a0>h </text><text style=color:#000;background-color:#d6d6ff>c </text><text style=color:#000;background-color:#bcbcff>h </text><text style=color:#000;background-color:#bcbcff>e </text>"
            ]
          },
          "metadata": {}
        },
        {
          "output_type": "stream",
          "name": "stdout",
          "text": [
            "Decoding  च  → "
          ]
        },
        {
          "output_type": "display_data",
          "data": {
            "text/plain": [
              "<IPython.core.display.HTML object>"
            ],
            "text/html": [
              "<text style=color:#000;background-color:#0000ff>k </text><text style=color:#000;background-color:#6a6aff>a </text><text style=color:#000;background-color:#6a6aff>c </text><text style=color:#000;background-color:#ff6a6a>h </text><text style=color:#000;background-color:#ff0000>c </text><text style=color:#000;background-color:#3434ff>h </text><text style=color:#000;background-color:#5050ff>e </text>"
            ]
          },
          "metadata": {}
        },
        {
          "output_type": "stream",
          "name": "stdout",
          "text": [
            "Decoding  ्  → "
          ]
        },
        {
          "output_type": "display_data",
          "data": {
            "text/plain": [
              "<IPython.core.display.HTML object>"
            ],
            "text/html": [
              "<text style=color:#000;background-color:#0000ff>k </text><text style=color:#000;background-color:#0000ff>a </text><text style=color:#000;background-color:#0000ff>c </text><text style=color:#000;background-color:#3434ff>h </text><text style=color:#000;background-color:#3434ff>c </text><text style=color:#000;background-color:#ff1a1a>h </text><text style=color:#000;background-color:#ff0000>e </text>"
            ]
          },
          "metadata": {}
        },
        {
          "output_type": "stream",
          "name": "stdout",
          "text": [
            "Decoding  च  → "
          ]
        },
        {
          "output_type": "display_data",
          "data": {
            "text/plain": [
              "<IPython.core.display.HTML object>"
            ],
            "text/html": [
              "<text style=color:#000;background-color:#0000ff>k </text><text style=color:#000;background-color:#0000ff>a </text><text style=color:#000;background-color:#0000ff>c </text><text style=color:#000;background-color:#0000ff>h </text><text style=color:#000;background-color:#0000ff>c </text><text style=color:#000;background-color:#ff0000>h </text><text style=color:#000;background-color:#ff6a6a>e </text>"
            ]
          },
          "metadata": {}
        },
        {
          "output_type": "stream",
          "name": "stdout",
          "text": [
            "Decoding  े  → "
          ]
        },
        {
          "output_type": "display_data",
          "data": {
            "text/plain": [
              "<IPython.core.display.HTML object>"
            ],
            "text/html": [
              "<text style=color:#000;background-color:#0000ff>k </text><text style=color:#000;background-color:#0000ff>a </text><text style=color:#000;background-color:#0000ff>c </text><text style=color:#000;background-color:#0000ff>h </text><text style=color:#000;background-color:#0000ff>c </text><text style=color:#000;background-color:#ff1a1a>h </text><text style=color:#000;background-color:#ff0000>e </text>"
            ]
          },
          "metadata": {}
        },
        {
          "output_type": "stream",
          "name": "stdout",
          "text": [
            "--------------------\n",
            "english:  jayke gt:  जायके  pred:  जायके\n",
            "Decoding  ज  → "
          ]
        },
        {
          "output_type": "display_data",
          "data": {
            "text/plain": [
              "<IPython.core.display.HTML object>"
            ],
            "text/html": [
              "<text style=color:#000;background-color:#ff6a6a>j </text><text style=color:#000;background-color:#ff0000>a </text><text style=color:#000;background-color:#bcbcff>y </text><text style=color:#000;background-color:#6a6aff>k </text><text style=color:#000;background-color:#bcbcff>e </text>"
            ]
          },
          "metadata": {}
        },
        {
          "output_type": "stream",
          "name": "stdout",
          "text": [
            "Decoding  ा  → "
          ]
        },
        {
          "output_type": "display_data",
          "data": {
            "text/plain": [
              "<IPython.core.display.HTML object>"
            ],
            "text/html": [
              "<text style=color:#000;background-color:#0000ff>j </text><text style=color:#000;background-color:#8686ff>a </text><text style=color:#000;background-color:#6a6aff>y </text><text style=color:#000;background-color:#ff0000>k </text><text style=color:#000;background-color:#0000ff>e </text>"
            ]
          },
          "metadata": {}
        },
        {
          "output_type": "stream",
          "name": "stdout",
          "text": [
            "Decoding  य  → "
          ]
        },
        {
          "output_type": "display_data",
          "data": {
            "text/plain": [
              "<IPython.core.display.HTML object>"
            ],
            "text/html": [
              "<text style=color:#000;background-color:#0000ff>j </text><text style=color:#000;background-color:#0000ff>a </text><text style=color:#000;background-color:#0000ff>y </text><text style=color:#000;background-color:#ff0000>k </text><text style=color:#000;background-color:#0000ff>e </text>"
            ]
          },
          "metadata": {}
        },
        {
          "output_type": "stream",
          "name": "stdout",
          "text": [
            "Decoding  क  → "
          ]
        },
        {
          "output_type": "display_data",
          "data": {
            "text/plain": [
              "<IPython.core.display.HTML object>"
            ],
            "text/html": [
              "<text style=color:#000;background-color:#0000ff>j </text><text style=color:#000;background-color:#0000ff>a </text><text style=color:#000;background-color:#0000ff>y </text><text style=color:#000;background-color:#ff0000>k </text><text style=color:#000;background-color:#8686ff>e </text>"
            ]
          },
          "metadata": {}
        },
        {
          "output_type": "stream",
          "name": "stdout",
          "text": [
            "Decoding  े  → "
          ]
        },
        {
          "output_type": "display_data",
          "data": {
            "text/plain": [
              "<IPython.core.display.HTML object>"
            ],
            "text/html": [
              "<text style=color:#000;background-color:#0000ff>j </text><text style=color:#000;background-color:#0000ff>a </text><text style=color:#000;background-color:#0000ff>y </text><text style=color:#000;background-color:#ff0000>k </text><text style=color:#000;background-color:#8686ff>e </text>"
            ]
          },
          "metadata": {}
        },
        {
          "output_type": "stream",
          "name": "stdout",
          "text": [
            "--------------------\n",
            "english:  jeevan gt:  जीवन  pred:  जीवन\n",
            "Decoding  ज  → "
          ]
        },
        {
          "output_type": "display_data",
          "data": {
            "text/plain": [
              "<IPython.core.display.HTML object>"
            ],
            "text/html": [
              "<text style=color:#000;background-color:#ff1a1a>j </text><text style=color:#000;background-color:#ff0000>e </text><text style=color:#000;background-color:#fff2f2>e </text><text style=color:#000;background-color:#d6d6ff>v </text><text style=color:#000;background-color:#3434ff>a </text><text style=color:#000;background-color:#1a1aff>n </text>"
            ]
          },
          "metadata": {}
        },
        {
          "output_type": "stream",
          "name": "stdout",
          "text": [
            "Decoding  ी  → "
          ]
        },
        {
          "output_type": "display_data",
          "data": {
            "text/plain": [
              "<IPython.core.display.HTML object>"
            ],
            "text/html": [
              "<text style=color:#000;background-color:#0000ff>j </text><text style=color:#000;background-color:#6a6aff>e </text><text style=color:#000;background-color:#6a6aff>e </text><text style=color:#000;background-color:#ff0000>v </text><text style=color:#000;background-color:#0000ff>a </text><text style=color:#000;background-color:#0000ff>n </text>"
            ]
          },
          "metadata": {}
        },
        {
          "output_type": "stream",
          "name": "stdout",
          "text": [
            "Decoding  व  → "
          ]
        },
        {
          "output_type": "display_data",
          "data": {
            "text/plain": [
              "<IPython.core.display.HTML object>"
            ],
            "text/html": [
              "<text style=color:#000;background-color:#0000ff>j </text><text style=color:#000;background-color:#3434ff>e </text><text style=color:#000;background-color:#a0a0ff>e </text><text style=color:#000;background-color:#ff0000>v </text><text style=color:#000;background-color:#a0a0ff>a </text><text style=color:#000;background-color:#0000ff>n </text>"
            ]
          },
          "metadata": {}
        },
        {
          "output_type": "stream",
          "name": "stdout",
          "text": [
            "Decoding  न  → "
          ]
        },
        {
          "output_type": "display_data",
          "data": {
            "text/plain": [
              "<IPython.core.display.HTML object>"
            ],
            "text/html": [
              "<text style=color:#000;background-color:#0000ff>j </text><text style=color:#000;background-color:#0000ff>e </text><text style=color:#000;background-color:#0000ff>e </text><text style=color:#000;background-color:#1a1aff>v </text><text style=color:#000;background-color:#ff0000>a </text><text style=color:#000;background-color:#0000ff>n </text>"
            ]
          },
          "metadata": {}
        },
        {
          "output_type": "stream",
          "name": "stdout",
          "text": [
            "--------------------\n",
            "english:  jain gt:  जैन  pred:  जैन\n",
            "Decoding  ज  → "
          ]
        },
        {
          "output_type": "display_data",
          "data": {
            "text/plain": [
              "<IPython.core.display.HTML object>"
            ],
            "text/html": [
              "<text style=color:#000;background-color:#ff6a6a>j </text><text style=color:#000;background-color:#ff0000>a </text><text style=color:#000;background-color:#fff2f2>i </text><text style=color:#000;background-color:#6a6aff>n </text>"
            ]
          },
          "metadata": {}
        },
        {
          "output_type": "stream",
          "name": "stdout",
          "text": [
            "Decoding  ै  → "
          ]
        },
        {
          "output_type": "display_data",
          "data": {
            "text/plain": [
              "<IPython.core.display.HTML object>"
            ],
            "text/html": [
              "<text style=color:#000;background-color:#0000ff>j </text><text style=color:#000;background-color:#1a1aff>a </text><text style=color:#000;background-color:#3434ff>i </text><text style=color:#000;background-color:#ff0000>n </text>"
            ]
          },
          "metadata": {}
        },
        {
          "output_type": "stream",
          "name": "stdout",
          "text": [
            "Decoding  न  → "
          ]
        },
        {
          "output_type": "display_data",
          "data": {
            "text/plain": [
              "<IPython.core.display.HTML object>"
            ],
            "text/html": [
              "<text style=color:#000;background-color:#0000ff>j </text><text style=color:#000;background-color:#0000ff>a </text><text style=color:#000;background-color:#0000ff>i </text><text style=color:#000;background-color:#ff0000>n </text>"
            ]
          },
          "metadata": {}
        },
        {
          "output_type": "stream",
          "name": "stdout",
          "text": [
            "--------------------\n",
            "english:  trot gt:  ट्रॉट  pred:  ट्रॉट\n",
            "Decoding  ट  → "
          ]
        },
        {
          "output_type": "display_data",
          "data": {
            "text/plain": [
              "<IPython.core.display.HTML object>"
            ],
            "text/html": [
              "<text style=color:#000;background-color:#bcbcff>t </text><text style=color:#000;background-color:#ff0000>r </text><text style=color:#000;background-color:#5050ff>o </text><text style=color:#000;background-color:#3434ff>t </text>"
            ]
          },
          "metadata": {}
        },
        {
          "output_type": "stream",
          "name": "stdout",
          "text": [
            "Decoding  ्  → "
          ]
        },
        {
          "output_type": "display_data",
          "data": {
            "text/plain": [
              "<IPython.core.display.HTML object>"
            ],
            "text/html": [
              "<text style=color:#000;background-color:#1a1aff>t </text><text style=color:#000;background-color:#ff3434>r </text><text style=color:#000;background-color:#ff0000>o </text><text style=color:#000;background-color:#1a1aff>t </text>"
            ]
          },
          "metadata": {}
        },
        {
          "output_type": "stream",
          "name": "stdout",
          "text": [
            "Decoding  र  → "
          ]
        },
        {
          "output_type": "display_data",
          "data": {
            "text/plain": [
              "<IPython.core.display.HTML object>"
            ],
            "text/html": [
              "<text style=color:#000;background-color:#0000ff>t </text><text style=color:#000;background-color:#0000ff>r </text><text style=color:#000;background-color:#ff0000>o </text><text style=color:#000;background-color:#3434ff>t </text>"
            ]
          },
          "metadata": {}
        },
        {
          "output_type": "stream",
          "name": "stdout",
          "text": [
            "Decoding  ॉ  → "
          ]
        },
        {
          "output_type": "display_data",
          "data": {
            "text/plain": [
              "<IPython.core.display.HTML object>"
            ],
            "text/html": [
              "<text style=color:#000;background-color:#0000ff>t </text><text style=color:#000;background-color:#0000ff>r </text><text style=color:#000;background-color:#5050ff>o </text><text style=color:#000;background-color:#ff0000>t </text>"
            ]
          },
          "metadata": {}
        },
        {
          "output_type": "stream",
          "name": "stdout",
          "text": [
            "Decoding  ट  → "
          ]
        },
        {
          "output_type": "display_data",
          "data": {
            "text/plain": [
              "<IPython.core.display.HTML object>"
            ],
            "text/html": [
              "<text style=color:#000;background-color:#0000ff>t </text><text style=color:#000;background-color:#0000ff>r </text><text style=color:#000;background-color:#0000ff>o </text><text style=color:#000;background-color:#6a6aff>t </text>"
            ]
          },
          "metadata": {}
        }
      ]
    },
    {
      "cell_type": "code",
      "source": [
        "# Repeat for incorrectly classified examples\n",
        "\n",
        "from IPython.display import HTML as html_print\n",
        "from IPython.display import display\n",
        "from mycolorpy import colorlist as mcp\n",
        "\n",
        "rgb_colors = mcp.gen_color(cmap=\"bwr\",n=20)\n",
        "\n",
        "def cstr(s, color='black'):\n",
        "    if s == ' ':\n",
        "      return \"<text style=color:#000;padding-left:10px;background-color:{}> </text>\".format(color, s)\n",
        "    else:\n",
        "      return \"<text style=color:#000;background-color:{}>{} </text>\".format(color, s)\n",
        "\t\n",
        "def print_color(t):\n",
        "\t  display(html_print(''.join([cstr(ti, color=ci) for ti,ci in t])))\n",
        "\n",
        "def get_color(value):\n",
        "    value = int(value * 100) // 5\n",
        "    value = 19 if value > 19 else value\n",
        "    return rgb_colors[value]\n",
        "\n",
        "done, correct, total = 0, 0, 0\n",
        "targets, predicted, english_words = [], [], []\n",
        "# Iterate over test set\n",
        "for i in range(19, len(test_decoder_input_data), 19):\n",
        "    gt = \"\"  # fetch ground truth\n",
        "    for token in test_decoder_input_data[i][1:]:\n",
        "        if inverse_target_token_index[token]!=\"\\n\":\n",
        "            gt += inverse_target_token_index[token]\n",
        "        else:\n",
        "            break\n",
        "    english = \"\"  # fetch english word\n",
        "    for token in test_encoder_input_data[i][1:]:\n",
        "        if inverse_input_token_index[token]!=\"\\n\":\n",
        "            english += inverse_input_token_index[token]\n",
        "        else:\n",
        "            break\n",
        "    inputs = test_encoder_input_data[i]\n",
        "    gradients = []\n",
        "    # Track gradients of decoder output w.r.t encoder embeddings (Embedding layer is not diff. in Keras)\n",
        "    with tf.GradientTape(persistent=True, watch_accessed_variables=False) as tape:\n",
        "        if model.config.cell_type in ['rnn', 'gru']:\n",
        "            hidden = [tf.zeros((1, model.config.hidden_units))]\n",
        "        else:\n",
        "            hidden = [tf.zeros((1, model.config.hidden_units)),\n",
        "                  tf.zeros((1, model.config.hidden_units))]          \n",
        "        encoder_input = tf.expand_dims(tf.convert_to_tensor(inputs), 0)\n",
        "        encoder_output, decoder_hidden = model.encoder(encoder_input, hidden)\n",
        "        encoder_embedded = model.encoder.encoder_embedding(encoder_input)\n",
        "        tape.watch(encoder_embedded)\n",
        "        encoder_output, decoder_hidden, _ = model.encoder.get_cell[model.config.cell_type](encoder_embedded, initial_state=hidden)        \n",
        "        decoder_input = tf.expand_dims([target_token_index['\\t']], 0)  # start token\n",
        "        predicted_word = ''\n",
        "        all_attention_weights = np.zeros((max_decoder_seq_length,max_encoder_seq_length))\n",
        "        # Decode inputs\n",
        "        for t in range(max_decoder_seq_length):\n",
        "            decoder_output, decoder_hidden, attention_weights = model.decoder(decoder_input, decoder_hidden, encoder_output)\n",
        "            gradients.append(tape.gradient(decoder_output, encoder_embedded)[0])\n",
        "            token = np.argmax(decoder_output[0].numpy())  # greedy\n",
        "            all_attention_weights[t] = attention_weights.numpy().reshape(-1)\n",
        "            if inverse_target_token_index[token] != \"\\n\":  # end token\n",
        "                predicted_word += inverse_target_token_index[token]\n",
        "            else:\n",
        "                break\n",
        "            decoder_input = tf.expand_dims([token], 0) \n",
        "        pred = predicted_word\n",
        "        if pred != gt and (True not in tf.math.is_nan(gradients).numpy()):\n",
        "          done += 1\n",
        "          print('-'*20)\n",
        "          print(\"english: \", english, \"gt: \",gt,\" pred: \",pred)\n",
        "          # Normalize gradients for visualization\n",
        "          norm_gradients = np.array(gradients)\n",
        "          norm_gradients = np.linalg.norm(norm_gradients, axis=-1)\n",
        "          norm_gradients = norm_gradients / np.max(norm_gradients, axis=-1).reshape(-1, 1)\n",
        "          # Generate Visualization\n",
        "          for i in range(len(pred)):\n",
        "            print(\"Decoding \", pred[i],\" → \", end='')\n",
        "            text_colors = [(english[j], get_color(norm_gradients[i][j])) for j in range(len(english))]\n",
        "            print_color(text_colors)\n",
        "    if done > 2:\n",
        "      break"
      ],
      "metadata": {
        "colab": {
          "base_uri": "https://localhost:8080/",
          "height": 783
        },
        "id": "J82mO4yoFepM",
        "outputId": "19931abb-71a4-40ab-e15b-889e77b7f3c2"
      },
      "execution_count": 113,
      "outputs": [
        {
          "output_type": "stream",
          "name": "stdout",
          "text": [
            "WARNING:tensorflow:Calling GradientTape.gradient on a persistent tape inside its context is significantly less efficient than calling it outside the context (it causes the gradient ops to be recorded on the tape, leading to increased CPU and memory usage). Only call GradientTape.gradient inside the context if you actually want to trace the gradient in order to compute higher order derivatives.\n",
            "--------------------\n",
            "english:  andrabi gt:  अंद्राबी  pred:  अंद्बी\n",
            "Decoding  अ  → "
          ]
        },
        {
          "output_type": "display_data",
          "data": {
            "text/plain": [
              "<IPython.core.display.HTML object>"
            ],
            "text/html": [
              "<text style=color:#000;background-color:#f2f2ff>a </text><text style=color:#000;background-color:#ff0000>n </text><text style=color:#000;background-color:#a0a0ff>d </text><text style=color:#000;background-color:#f2f2ff>r </text><text style=color:#000;background-color:#a0a0ff>a </text><text style=color:#000;background-color:#6a6aff>b </text><text style=color:#000;background-color:#8686ff>i </text>"
            ]
          },
          "metadata": {}
        },
        {
          "output_type": "stream",
          "name": "stdout",
          "text": [
            "Decoding  ं  → "
          ]
        },
        {
          "output_type": "display_data",
          "data": {
            "text/plain": [
              "<IPython.core.display.HTML object>"
            ],
            "text/html": [
              "<text style=color:#000;background-color:#0000ff>a </text><text style=color:#000;background-color:#a0a0ff>n </text><text style=color:#000;background-color:#ff3434>d </text><text style=color:#000;background-color:#ff0000>r </text><text style=color:#000;background-color:#0000ff>a </text><text style=color:#000;background-color:#0000ff>b </text><text style=color:#000;background-color:#0000ff>i </text>"
            ]
          },
          "metadata": {}
        },
        {
          "output_type": "stream",
          "name": "stdout",
          "text": [
            "Decoding  द  → "
          ]
        },
        {
          "output_type": "display_data",
          "data": {
            "text/plain": [
              "<IPython.core.display.HTML object>"
            ],
            "text/html": [
              "<text style=color:#000;background-color:#0000ff>a </text><text style=color:#000;background-color:#0000ff>n </text><text style=color:#000;background-color:#3434ff>d </text><text style=color:#000;background-color:#ff0000>r </text><text style=color:#000;background-color:#0000ff>a </text><text style=color:#000;background-color:#0000ff>b </text><text style=color:#000;background-color:#0000ff>i </text>"
            ]
          },
          "metadata": {}
        },
        {
          "output_type": "stream",
          "name": "stdout",
          "text": [
            "Decoding  ्  → "
          ]
        },
        {
          "output_type": "display_data",
          "data": {
            "text/plain": [
              "<IPython.core.display.HTML object>"
            ],
            "text/html": [
              "<text style=color:#000;background-color:#0000ff>a </text><text style=color:#000;background-color:#0000ff>n </text><text style=color:#000;background-color:#0000ff>d </text><text style=color:#000;background-color:#ff5050>r </text><text style=color:#000;background-color:#ff0000>a </text><text style=color:#000;background-color:#0000ff>b </text><text style=color:#000;background-color:#0000ff>i </text>"
            ]
          },
          "metadata": {}
        },
        {
          "output_type": "stream",
          "name": "stdout",
          "text": [
            "Decoding  ब  → "
          ]
        },
        {
          "output_type": "display_data",
          "data": {
            "text/plain": [
              "<IPython.core.display.HTML object>"
            ],
            "text/html": [
              "<text style=color:#000;background-color:#0000ff>a </text><text style=color:#000;background-color:#0000ff>n </text><text style=color:#000;background-color:#0000ff>d </text><text style=color:#000;background-color:#0000ff>r </text><text style=color:#000;background-color:#ff0000>a </text><text style=color:#000;background-color:#0000ff>b </text><text style=color:#000;background-color:#0000ff>i </text>"
            ]
          },
          "metadata": {}
        },
        {
          "output_type": "stream",
          "name": "stdout",
          "text": [
            "Decoding  ी  → "
          ]
        },
        {
          "output_type": "display_data",
          "data": {
            "text/plain": [
              "<IPython.core.display.HTML object>"
            ],
            "text/html": [
              "<text style=color:#000;background-color:#0000ff>a </text><text style=color:#000;background-color:#0000ff>n </text><text style=color:#000;background-color:#0000ff>d </text><text style=color:#000;background-color:#0000ff>r </text><text style=color:#000;background-color:#ff0000>a </text><text style=color:#000;background-color:#0000ff>b </text><text style=color:#000;background-color:#0000ff>i </text>"
            ]
          },
          "metadata": {}
        },
        {
          "output_type": "stream",
          "name": "stdout",
          "text": [
            "--------------------\n",
            "english:  adhivas gt:  अधिवास  pred:  अधिवा\n",
            "Decoding  अ  → "
          ]
        },
        {
          "output_type": "display_data",
          "data": {
            "text/plain": [
              "<IPython.core.display.HTML object>"
            ],
            "text/html": [
              "<text style=color:#000;background-color:#a0a0ff>a </text><text style=color:#000;background-color:#ff0000>d </text><text style=color:#000;background-color:#8686ff>h </text><text style=color:#000;background-color:#a0a0ff>i </text><text style=color:#000;background-color:#6a6aff>v </text><text style=color:#000;background-color:#5050ff>a </text><text style=color:#000;background-color:#6a6aff>s </text>"
            ]
          },
          "metadata": {}
        },
        {
          "output_type": "stream",
          "name": "stdout",
          "text": [
            "Decoding  ध  → "
          ]
        },
        {
          "output_type": "display_data",
          "data": {
            "text/plain": [
              "<IPython.core.display.HTML object>"
            ],
            "text/html": [
              "<text style=color:#000;background-color:#0000ff>a </text><text style=color:#000;background-color:#8686ff>d </text><text style=color:#000;background-color:#ff0000>h </text><text style=color:#000;background-color:#fff2f2>i </text><text style=color:#000;background-color:#1a1aff>v </text><text style=color:#000;background-color:#1a1aff>a </text><text style=color:#000;background-color:#0000ff>s </text>"
            ]
          },
          "metadata": {}
        },
        {
          "output_type": "stream",
          "name": "stdout",
          "text": [
            "Decoding  ि  → "
          ]
        },
        {
          "output_type": "display_data",
          "data": {
            "text/plain": [
              "<IPython.core.display.HTML object>"
            ],
            "text/html": [
              "<text style=color:#000;background-color:#0000ff>a </text><text style=color:#000;background-color:#0000ff>d </text><text style=color:#000;background-color:#3434ff>h </text><text style=color:#000;background-color:#5050ff>i </text><text style=color:#000;background-color:#ff0000>v </text><text style=color:#000;background-color:#ff8686>a </text><text style=color:#000;background-color:#0000ff>s </text>"
            ]
          },
          "metadata": {}
        },
        {
          "output_type": "stream",
          "name": "stdout",
          "text": [
            "Decoding  व  → "
          ]
        },
        {
          "output_type": "display_data",
          "data": {
            "text/plain": [
              "<IPython.core.display.HTML object>"
            ],
            "text/html": [
              "<text style=color:#000;background-color:#0000ff>a </text><text style=color:#000;background-color:#0000ff>d </text><text style=color:#000;background-color:#0000ff>h </text><text style=color:#000;background-color:#0000ff>i </text><text style=color:#000;background-color:#3434ff>v </text><text style=color:#000;background-color:#ff0000>a </text><text style=color:#000;background-color:#0000ff>s </text>"
            ]
          },
          "metadata": {}
        },
        {
          "output_type": "stream",
          "name": "stdout",
          "text": [
            "Decoding  ा  → "
          ]
        },
        {
          "output_type": "display_data",
          "data": {
            "text/plain": [
              "<IPython.core.display.HTML object>"
            ],
            "text/html": [
              "<text style=color:#000;background-color:#0000ff>a </text><text style=color:#000;background-color:#0000ff>d </text><text style=color:#000;background-color:#0000ff>h </text><text style=color:#000;background-color:#0000ff>i </text><text style=color:#000;background-color:#0000ff>v </text><text style=color:#000;background-color:#ff0000>a </text><text style=color:#000;background-color:#0000ff>s </text>"
            ]
          },
          "metadata": {}
        },
        {
          "output_type": "stream",
          "name": "stdout",
          "text": [
            "--------------------\n",
            "english:  anawashyak gt:  अनावश्यक  pred:  अनााश्ा\n",
            "Decoding  अ  → "
          ]
        },
        {
          "output_type": "display_data",
          "data": {
            "text/plain": [
              "<IPython.core.display.HTML object>"
            ],
            "text/html": [
              "<text style=color:#000;background-color:#bcbcff>a </text><text style=color:#000;background-color:#ff0000>n </text><text style=color:#000;background-color:#6a6aff>a </text><text style=color:#000;background-color:#bcbcff>w </text><text style=color:#000;background-color:#bcbcff>a </text><text style=color:#000;background-color:#1a1aff>s </text><text style=color:#000;background-color:#1a1aff>h </text><text style=color:#000;background-color:#1a1aff>y </text><text style=color:#000;background-color:#0000ff>a </text><text style=color:#000;background-color:#0000ff>k </text>"
            ]
          },
          "metadata": {}
        },
        {
          "output_type": "stream",
          "name": "stdout",
          "text": [
            "Decoding  न  → "
          ]
        },
        {
          "output_type": "display_data",
          "data": {
            "text/plain": [
              "<IPython.core.display.HTML object>"
            ],
            "text/html": [
              "<text style=color:#000;background-color:#0000ff>a </text><text style=color:#000;background-color:#a0a0ff>n </text><text style=color:#000;background-color:#ff0000>a </text><text style=color:#000;background-color:#5050ff>w </text><text style=color:#000;background-color:#a0a0ff>a </text><text style=color:#000;background-color:#0000ff>s </text><text style=color:#000;background-color:#0000ff>h </text><text style=color:#000;background-color:#0000ff>y </text><text style=color:#000;background-color:#0000ff>a </text><text style=color:#000;background-color:#0000ff>k </text>"
            ]
          },
          "metadata": {}
        },
        {
          "output_type": "stream",
          "name": "stdout",
          "text": [
            "Decoding  ा  → "
          ]
        },
        {
          "output_type": "display_data",
          "data": {
            "text/plain": [
              "<IPython.core.display.HTML object>"
            ],
            "text/html": [
              "<text style=color:#000;background-color:#0000ff>a </text><text style=color:#000;background-color:#0000ff>n </text><text style=color:#000;background-color:#3434ff>a </text><text style=color:#000;background-color:#f2f2ff>w </text><text style=color:#000;background-color:#ff0000>a </text><text style=color:#000;background-color:#0000ff>s </text><text style=color:#000;background-color:#0000ff>h </text><text style=color:#000;background-color:#0000ff>y </text><text style=color:#000;background-color:#0000ff>a </text><text style=color:#000;background-color:#0000ff>k </text>"
            ]
          },
          "metadata": {}
        },
        {
          "output_type": "stream",
          "name": "stdout",
          "text": [
            "Decoding  ा  → "
          ]
        },
        {
          "output_type": "display_data",
          "data": {
            "text/plain": [
              "<IPython.core.display.HTML object>"
            ],
            "text/html": [
              "<text style=color:#000;background-color:#0000ff>a </text><text style=color:#000;background-color:#0000ff>n </text><text style=color:#000;background-color:#0000ff>a </text><text style=color:#000;background-color:#0000ff>w </text><text style=color:#000;background-color:#ff0000>a </text><text style=color:#000;background-color:#0000ff>s </text><text style=color:#000;background-color:#0000ff>h </text><text style=color:#000;background-color:#0000ff>y </text><text style=color:#000;background-color:#0000ff>a </text><text style=color:#000;background-color:#0000ff>k </text>"
            ]
          },
          "metadata": {}
        },
        {
          "output_type": "stream",
          "name": "stdout",
          "text": [
            "Decoding  श  → "
          ]
        },
        {
          "output_type": "display_data",
          "data": {
            "text/plain": [
              "<IPython.core.display.HTML object>"
            ],
            "text/html": [
              "<text style=color:#000;background-color:#0000ff>a </text><text style=color:#000;background-color:#0000ff>n </text><text style=color:#000;background-color:#0000ff>a </text><text style=color:#000;background-color:#0000ff>w </text><text style=color:#000;background-color:#ff0000>a </text><text style=color:#000;background-color:#0000ff>s </text><text style=color:#000;background-color:#5050ff>h </text><text style=color:#000;background-color:#3434ff>y </text><text style=color:#000;background-color:#0000ff>a </text><text style=color:#000;background-color:#0000ff>k </text>"
            ]
          },
          "metadata": {}
        },
        {
          "output_type": "stream",
          "name": "stdout",
          "text": [
            "Decoding  ्  → "
          ]
        },
        {
          "output_type": "display_data",
          "data": {
            "text/plain": [
              "<IPython.core.display.HTML object>"
            ],
            "text/html": [
              "<text style=color:#000;background-color:#0000ff>a </text><text style=color:#000;background-color:#0000ff>n </text><text style=color:#000;background-color:#0000ff>a </text><text style=color:#000;background-color:#0000ff>w </text><text style=color:#000;background-color:#1a1aff>a </text><text style=color:#000;background-color:#0000ff>s </text><text style=color:#000;background-color:#f2f2ff>h </text><text style=color:#000;background-color:#ff0000>y </text><text style=color:#000;background-color:#0000ff>a </text><text style=color:#000;background-color:#0000ff>k </text>"
            ]
          },
          "metadata": {}
        },
        {
          "output_type": "stream",
          "name": "stdout",
          "text": [
            "Decoding  ा  → "
          ]
        },
        {
          "output_type": "display_data",
          "data": {
            "text/plain": [
              "<IPython.core.display.HTML object>"
            ],
            "text/html": [
              "<text style=color:#000;background-color:#0000ff>a </text><text style=color:#000;background-color:#0000ff>n </text><text style=color:#000;background-color:#0000ff>a </text><text style=color:#000;background-color:#0000ff>w </text><text style=color:#000;background-color:#0000ff>a </text><text style=color:#000;background-color:#0000ff>s </text><text style=color:#000;background-color:#8686ff>h </text><text style=color:#000;background-color:#ff0000>y </text><text style=color:#000;background-color:#0000ff>a </text><text style=color:#000;background-color:#0000ff>k </text>"
            ]
          },
          "metadata": {}
        }
      ]
    },
    {
      "cell_type": "code",
      "source": [
        "import seaborn as sns\n",
        "sns.palplot(rgb_colors)"
      ],
      "metadata": {
        "colab": {
          "base_uri": "https://localhost:8080/",
          "height": 71
        },
        "id": "NsuLg1ZDMhUS",
        "outputId": "179cf8c2-c4b3-4dfc-ca24-68fa72e3e6dc"
      },
      "execution_count": 129,
      "outputs": [
        {
          "output_type": "display_data",
          "data": {
            "text/plain": [
              "<Figure size 1440x72 with 1 Axes>"
            ],
            "image/png": "[encoded data removed]"
          },
          "metadata": {
            "needs_background": "light"
          }
        }
      ]
    },
    {
      "cell_type": "code",
      "source": [
        ""
      ],
      "metadata": {
        "id": "UvYYeHbgMxLM"
      },
      "execution_count": null,
      "outputs": []
    }
  ],
  "metadata": {
    "accelerator": "GPU",
    "colab": {
      "collapsed_sections": [],
      "name": "Question 6",
      "provenance": []
    },
    "kernelspec": {
      "display_name": "Python 3 (ipykernel)",
      "language": "python",
      "name": "python3"
    },
    "language_info": {
      "codemirror_mode": {
        "name": "ipython",
        "version": 3
      },
      "file_extension": ".py",
      "mimetype": "text/x-python",
      "name": "python",
      "nbconvert_exporter": "python",
      "pygments_lexer": "ipython3",
      "version": "3.8.10"
    }
  },
  "nbformat": 4,
  "nbformat_minor": 0
}