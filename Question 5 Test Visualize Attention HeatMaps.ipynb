{
 "cells": [
  {
   "cell_type": "code",
   "execution_count": 1,
   "metadata": {
    "colab": {
     "base_uri": "https://localhost:8080/"
    },
    "id": "iiA3o83-4cun",
    "outputId": "7d98db9b-1279-4d79-d870-9fd5cff229cf"
   },
   "outputs": [
    {
     "name": "stdout",
     "output_type": "stream",
     "text": [
      "Collecting wandb\n",
      "  Downloading wandb-0.12.16-py2.py3-none-any.whl (1.8 MB)\n",
      "\u001b[K     |████████████████████████████████| 1.8 MB 5.3 MB/s \n",
      "\u001b[?25hRequirement already satisfied: promise<3,>=2.0 in /usr/local/lib/python3.7/dist-packages (from wandb) (2.3)\n",
      "Requirement already satisfied: setuptools in /usr/local/lib/python3.7/dist-packages (from wandb) (57.4.0)\n",
      "Collecting docker-pycreds>=0.4.0\n",
      "  Downloading docker_pycreds-0.4.0-py2.py3-none-any.whl (9.0 kB)\n",
      "Requirement already satisfied: protobuf>=3.12.0 in /usr/local/lib/python3.7/dist-packages (from wandb) (3.17.3)\n",
      "Collecting setproctitle\n",
      "  Downloading setproctitle-1.2.3-cp37-cp37m-manylinux_2_5_x86_64.manylinux1_x86_64.manylinux_2_17_x86_64.manylinux2014_x86_64.whl (29 kB)\n",
      "Requirement already satisfied: requests<3,>=2.0.0 in /usr/local/lib/python3.7/dist-packages (from wandb) (2.23.0)\n",
      "Requirement already satisfied: psutil>=5.0.0 in /usr/local/lib/python3.7/dist-packages (from wandb) (5.4.8)\n",
      "Requirement already satisfied: six>=1.13.0 in /usr/local/lib/python3.7/dist-packages (from wandb) (1.15.0)\n",
      "Collecting sentry-sdk>=1.0.0\n",
      "  Downloading sentry_sdk-1.5.11-py2.py3-none-any.whl (144 kB)\n",
      "\u001b[K     |████████████████████████████████| 144 kB 36.4 MB/s \n",
      "\u001b[?25hRequirement already satisfied: python-dateutil>=2.6.1 in /usr/local/lib/python3.7/dist-packages (from wandb) (2.8.2)\n",
      "Collecting pathtools\n",
      "  Downloading pathtools-0.1.2.tar.gz (11 kB)\n",
      "Collecting GitPython>=1.0.0\n",
      "  Downloading GitPython-3.1.27-py3-none-any.whl (181 kB)\n",
      "\u001b[K     |████████████████████████████████| 181 kB 50.1 MB/s \n",
      "\u001b[?25hRequirement already satisfied: Click!=8.0.0,>=7.0 in /usr/local/lib/python3.7/dist-packages (from wandb) (7.1.2)\n",
      "Collecting shortuuid>=0.5.0\n",
      "  Downloading shortuuid-1.0.8-py3-none-any.whl (9.5 kB)\n",
      "Requirement already satisfied: PyYAML in /usr/local/lib/python3.7/dist-packages (from wandb) (3.13)\n",
      "Collecting gitdb<5,>=4.0.1\n",
      "  Downloading gitdb-4.0.9-py3-none-any.whl (63 kB)\n",
      "\u001b[K     |████████████████████████████████| 63 kB 1.7 MB/s \n",
      "\u001b[?25hRequirement already satisfied: typing-extensions>=3.7.4.3 in /usr/local/lib/python3.7/dist-packages (from GitPython>=1.0.0->wandb) (4.2.0)\n",
      "Collecting smmap<6,>=3.0.1\n",
      "  Downloading smmap-5.0.0-py3-none-any.whl (24 kB)\n",
      "Requirement already satisfied: idna<3,>=2.5 in /usr/local/lib/python3.7/dist-packages (from requests<3,>=2.0.0->wandb) (2.10)\n",
      "Requirement already satisfied: certifi>=2017.4.17 in /usr/local/lib/python3.7/dist-packages (from requests<3,>=2.0.0->wandb) (2021.10.8)\n",
      "Requirement already satisfied: urllib3!=1.25.0,!=1.25.1,<1.26,>=1.21.1 in /usr/local/lib/python3.7/dist-packages (from requests<3,>=2.0.0->wandb) (1.24.3)\n",
      "Requirement already satisfied: chardet<4,>=3.0.2 in /usr/local/lib/python3.7/dist-packages (from requests<3,>=2.0.0->wandb) (3.0.4)\n",
      "Building wheels for collected packages: pathtools\n",
      "  Building wheel for pathtools (setup.py) ... \u001b[?25l\u001b[?25hdone\n",
      "  Created wheel for pathtools: filename=pathtools-0.1.2-py3-none-any.whl size=8806 sha256=5d691d258dbf5f3981d2ecab96b0b5ebd18ac3e688e5ae885b744075b27b11df\n",
      "  Stored in directory: /root/.cache/pip/wheels/3e/31/09/fa59cef12cdcfecc627b3d24273699f390e71828921b2cbba2\n",
      "Successfully built pathtools\n",
      "Installing collected packages: smmap, gitdb, shortuuid, setproctitle, sentry-sdk, pathtools, GitPython, docker-pycreds, wandb\n",
      "Successfully installed GitPython-3.1.27 docker-pycreds-0.4.0 gitdb-4.0.9 pathtools-0.1.2 sentry-sdk-1.5.11 setproctitle-1.2.3 shortuuid-1.0.8 smmap-5.0.0 wandb-0.12.16\n"
     ]
    }
   ],
   "source": [
    "!pip install wandb"
   ]
  },
  {
   "cell_type": "code",
   "execution_count": 2,
   "metadata": {
    "id": "pQB-3bYKjODJ"
   },
   "outputs": [],
   "source": [
    "from tqdm import tqdm\n",
    "import pandas as pd\n",
    "import numpy as np\n",
    "\n",
    "import matplotlib.pyplot as plt\n",
    "\n",
    "import tensorflow as tf\n",
    "from keras.models import Model\n",
    "from keras.layers import Layer\n",
    "from keras.layers import SimpleRNN, LSTM, GRU, Dense\n",
    "from keras.layers.embeddings import Embedding\n",
    "from keras.preprocessing import sequence\n",
    "from tensorflow.keras.optimizers import Adam\n",
    "from keras.losses import SparseCategoricalCrossentropy"
   ]
  },
  {
   "cell_type": "code",
   "execution_count": null,
   "metadata": {},
   "outputs": [],
   "source": [
    "TRAIN_PATH = \"hi.translit.sampled.train.tsv\"\n",
    "VAL_PATH = \"hi.translit.sampled.dev.tsv\"\n",
    "TEST_PATH = \"hi.translit.sampled.test.tsv\"\n",
    "\n",
    "df = pd.read_csv(TRAIN_PATH, sep=\"\\t\", header=None, error_bad_lines=False).dropna()\n",
    "hindi_words = [list(f'\\t{word}\\n') for word in df[0].tolist()]\n",
    "english_words = [list(f'\\t{word}\\n') for word in df[1].tolist()]\n",
    "# Creating sorted vocabulary of source and target language\n",
    "english_characters = sorted(list(set([char for word in english_words for char in word])))\n",
    "hindi_characters = sorted(list(set([char for word in hindi_words for char in word])))\n",
    "# Creating essential parameters\n",
    "max_encoder_seq_length = (np.max([len(i) for i in english_words]))\n",
    "max_decoder_seq_length = (np.max([len(i) for i in hindi_words]))\n",
    "num_encoder_tokens = len(english_characters)\n",
    "num_decoder_tokens = len(hindi_characters)\n",
    "# Mapping each character of vocabulary to index and vice versa\n",
    "input_token_index = dict([(char, i) for i, char in enumerate(english_characters)])\n",
    "inverse_input_token_index = {v: k for k, v in input_token_index.items()}\n",
    "target_token_index = dict([(char, i) for i, char in enumerate(hindi_characters)])\n",
    "inverse_target_token_index = {v: k for k, v in target_token_index.items()}\n",
    "\n",
    "def load_encoder_decoder_data(filepath, sep='\\t', header=None):\n",
    "  df = pd.read_csv(filepath, sep=sep, header=header, error_bad_lines=False).dropna()\n",
    "  decoder_target_data = np.zeros((df.shape[0],max_decoder_seq_length,num_decoder_tokens), dtype=\"float32\")\n",
    "  for i, hindi_text in enumerate(df[0].tolist()):\n",
    "      hindi_text = f'\\t{hindi_text}\\n'\n",
    "      for t, char in enumerate(hindi_text):\n",
    "          if t > 0:\n",
    "              decoder_target_data[i, t - 1, target_token_index[char]] = 1.0\n",
    "      decoder_target_data[i, t:, target_token_index[\"\\n\"]] = 1.0\n",
    "  encoder_input_data = []\n",
    "  for word in df[1].tolist():\n",
    "    encoder_input_data.append([input_token_index[char] for char in f'\\t{word}\\n'])\n",
    "  encoder_input_data = sequence.pad_sequences(encoder_input_data, maxlen=max_encoder_seq_length, padding=\"post\")\n",
    "  decoder_input_data = []\n",
    "  for word in df[0].tolist():\n",
    "    decoder_input_data.append([target_token_index[char] for char in f'\\t{word}\\n'])\n",
    "  decoder_input_data = sequence.pad_sequences(decoder_input_data, maxlen=max_decoder_seq_length, padding=\"post\")\n",
    "  return encoder_input_data, decoder_input_data, decoder_target_data\n",
    "\n",
    "# Train split\n",
    "train_encoder_input_data, train_decoder_input_data, train_decoder_target = load_encoder_decoder_data(TRAIN_PATH)\n",
    "# Validation split\n",
    "val_encoder_input_data, val_decoder_input_data, val_decoder_target = load_encoder_decoder_data(VAL_PATH)\n",
    "# Test split\n",
    "test_encoder_input_data, test_decoder_input_data, test_decoder_target = load_encoder_decoder_data(TEST_PATH)\n",
    "\n",
    "buffer_size = 100000"
   ]
  },
  {
   "cell_type": "code",
   "execution_count": 4,
   "metadata": {
    "id": "GpGN_90bjKdm"
   },
   "outputs": [],
   "source": [
    "class BahdanauAttention(Layer):\n",
    "  def __init__(self, units):\n",
    "    super().__init__()\n",
    "    self.W_decoder = Dense(units)\n",
    "    self.W_encoder = Dense(units)\n",
    "    self.W_aggregate = Dense(1)\n",
    "\n",
    "  def call(self, query, values):\n",
    "    query_across_time = tf.expand_dims(query, 1)\n",
    "    decoder_transform = self.W_decoder(query_across_time)\n",
    "    encoder_transform = self.W_encoder(values)\n",
    "    score = tf.nn.tanh(encoder_transform + decoder_transform)\n",
    "    score = self.W_aggregate(score)\n",
    "    attention_weights = tf.nn.softmax(score, axis=1)\n",
    "    context = tf.reduce_sum((attention_weights * values), axis=1)\n",
    "    return context, attention_weights\n",
    "\n",
    "\n",
    "class Encoder(Model):\n",
    "  def __init__(self, config):\n",
    "    super(Encoder, self).__init__()\n",
    "    self.config = config\n",
    "    \n",
    "    # Embedding layer: (num_encoder_tokens, input_embedding_size)\n",
    "    self.encoder_embedding = Embedding(num_encoder_tokens, self.config.input_embedding_size, name='Encoder_embeddings')\n",
    "    \n",
    "    # Adding encoder layer\n",
    "    self.get_cell = {\n",
    "        'rnn': SimpleRNN(self.config.hidden_units, dropout=self.config.dropout, \n",
    "                   return_sequences=True, return_state=True,\n",
    "                   recurrent_initializer=self.config.initializer, name=f\"Encoder_0\"),\n",
    "        'gru': GRU(self.config.hidden_units, dropout=self.config.dropout, \n",
    "                   return_sequences=True, return_state=True,\n",
    "                   recurrent_initializer=self.config.initializer, name=f\"Encoder_0\"),\n",
    "        'lstm': LSTM(self.config.hidden_units, dropout=self.config.dropout, \n",
    "                   return_sequences=True, return_state=True,\n",
    "                   recurrent_initializer=self.config.initializer, name=f\"Encoder_0\"),\n",
    "    }\n",
    "    self.encoder_cell = self.get_cell[self.config.cell_type]\n",
    "\n",
    "\n",
    "  def call(self, encoder_input, hidden):\n",
    "    encoder_embedded = self.encoder_embedding(encoder_input)\n",
    "    if self.config.cell_type in ['rnn', 'gru']:\n",
    "        output, state = self.get_cell[self.config.cell_type](encoder_embedded, initial_state=hidden)\n",
    "    elif self.config.cell_type == \"lstm\":\n",
    "        output, state, context= self.get_cell[self.config.cell_type](encoder_embedded, initial_state=hidden)\n",
    "    return output, state\n",
    "\n",
    "  def init_hidden_states(self):\n",
    "      if self.config.cell_type in ['rnn', 'gru']:\n",
    "          return tf.zeros((self.config.batch_size, self.config.hidden_units))\n",
    "      else:\n",
    "        return (tf.zeros((self.config.batch_size, self.config.hidden_units)),\n",
    "                  tf.zeros((self.config.batch_size, self.config.hidden_units)))\n",
    "        \n",
    "class Decoder(Model):\n",
    "  def __init__(self, config):\n",
    "    super(Decoder, self).__init__()\n",
    "    self.config = config\n",
    "    # Attention Layer\n",
    "    self.attention = BahdanauAttention(self.config.hidden_units)\n",
    "    \n",
    "    # Embedding layer: (num_decoder_tokens, input_embedding_size)\n",
    "    self.decoder_embedding = Embedding(num_decoder_tokens, self.config.input_embedding_size)\n",
    "    \n",
    "    # Output dense layer: (num_decoder_tokens)\n",
    "    self.decoder_dense = Dense(num_decoder_tokens)\n",
    "    \n",
    "    # Adding decoder layer\n",
    "    self.get_cell = {\n",
    "        'rnn': SimpleRNN(self.config.hidden_units, dropout=self.config.dropout, \n",
    "                   return_sequences=True, return_state=True,\n",
    "                   recurrent_initializer=self.config.initializer, name=f\"Encoder_0\"),\n",
    "        'gru': GRU(self.config.hidden_units, dropout=self.config.dropout, \n",
    "                   return_sequences=True, return_state=True,\n",
    "                   recurrent_initializer=self.config.initializer, name=f\"Encoder_0\"),\n",
    "        'lstm': LSTM(self.config.hidden_units, dropout=self.config.dropout, \n",
    "                   return_sequences=True, return_state=True,\n",
    "                   recurrent_initializer=self.config.initializer, name=f\"Encoder_0\"),\n",
    "    }\n",
    "    self.decoder_cell = self.get_cell[self.config.cell_type]\n",
    "\n",
    "  def call(self, decoder_inputs, hidden, encoder_output):\n",
    "    context, attention_weights = self.attention(hidden, encoder_output)\n",
    "    decoder_embedded = self.decoder_embedding(decoder_inputs)\n",
    "    concatenated = tf.concat([tf.expand_dims(context, 1), decoder_embedded], axis=-1)\n",
    "    if self.config.cell_type in ['rnn', 'gru']:\n",
    "        output, state = self.get_cell[self.config.cell_type](concatenated)\n",
    "    elif self.config.cell_type == \"lstm\":\n",
    "        output, state, context= self.get_cell[self.config.cell_type](concatenated)\n",
    "    output = self.decoder_dense(tf.reshape(output, (-1, output.shape[2])))\n",
    "    return output, state, attention_weights"
   ]
  },
  {
   "cell_type": "code",
   "execution_count": null,
   "metadata": {},
   "outputs": [],
   "source": [
    "class TransliterationAttentionModel:\n",
    "    def __init__(self, config):\n",
    "        self.config = config\n",
    "        self.encoder = Encoder(self.config)\n",
    "        self.decoder = Decoder(self.config)\n",
    "        self.optimizer = Adam(learning_rate=self.config.learning_rate)\n",
    "        self.loss_func = SparseCategoricalCrossentropy(from_logits=True, reduction='none')\n",
    "\n",
    "    @tf.function()    \n",
    "    def train_one_batch(self, encoder_inputs, decoder_targets):\n",
    "        loss = 0\n",
    "        # Initialize hidden states to zeroes\n",
    "        encoder_hidden = self.encoder.init_hidden_states()\n",
    "        with tf.GradientTape() as tape:\n",
    "            encoder_output, decoder_hidden = self.encoder(encoder_inputs, encoder_hidden)\n",
    "            decoder_input = tf.expand_dims([target_token_index['\\t']] * self.config.batch_size, 1)\n",
    "            for t in range(1, decoder_targets.shape[1]):\n",
    "                decoder_output, decoder_hidden, attention_weights = self.decoder(decoder_input, decoder_hidden, encoder_output)\n",
    "                batch_loss = self.loss_func(decoder_targets[:, t], decoder_output)\n",
    "                # Ignore pad index\n",
    "                batch_loss *= tf.cast(tf.math.logical_not(tf.math.equal(decoder_targets[:, t], 0)), dtype=batch_loss.dtype)\n",
    "                batch_loss = tf.reduce_mean(batch_loss)\n",
    "                dec_input = tf.expand_dims(decoder_targets[:, t], 1)\n",
    "                loss += batch_loss\n",
    "        gradients = tape.gradient(loss, self.encoder.trainable_variables + self.decoder.attention.trainable_variables + self.decoder.trainable_variables)\n",
    "        self.optimizer.apply_gradients(zip(gradients, self.encoder.trainable_variables + self.decoder.attention.trainable_variables + self.decoder.trainable_variables))\n",
    "        return (loss / decoder_targets.shape[1])\n",
    "\n",
    "    def train(self, dataset, batch_size, num_batches):\n",
    "        for epoch in range(1, self.config.epochs+1):\n",
    "            loss = 0\n",
    "            # Iterate batches over dataset and train \n",
    "            for (batch, (encoder_inputs, decoder_targets)) in tqdm(enumerate(dataset.take(num_batches))):\n",
    "                batch_loss = self.train_one_batch(encoder_inputs, decoder_targets)\n",
    "                loss += batch_loss \n",
    "            print(f'Epoch {epoch} Loss {loss/num_batches:.4f}')\n",
    "    \n",
    "    def calculate_accuracy(self, split='test'):\n",
    "        correct, total = 0, 0\n",
    "        targets, predicted, english_words = [], [], []\n",
    "        for i in range(len(test_decoder_input_data)):\n",
    "            gt = \"\"  # fetch ground truth\n",
    "            for token in test_decoder_input_data[i][1:]:\n",
    "                if inverse_target_token_index[token]!=\"\\n\":\n",
    "                    gt += inverse_target_token_index[token]\n",
    "                else:\n",
    "                    break\n",
    "            english = \"\"  # fetch english word\n",
    "            for token in test_encoder_input_data[i][1:]:\n",
    "                if inverse_input_token_index[token]!=\"\\n\":\n",
    "                    english += inverse_input_token_index[token]\n",
    "                else:\n",
    "                    break\n",
    "            pred = self.get_predicted_word(test_encoder_input_data[i])\n",
    "            if i % 100 == 0:\n",
    "              print(\"english: \", english, \"gt: \",gt,\" pred: \",pred)\n",
    "            if gt == pred :\n",
    "                correct += 1\n",
    "            total += 1\n",
    "            targets.append(gt)\n",
    "            predicted.append(pred)\n",
    "            english_words.append(english)\n",
    "        import pandas as pd\n",
    "        df=pd.DataFrame({'English': english_words, 'Predicted': predicted, 'Target': targets})\n",
    "        df.to_csv('predictions_attention.csv')\n",
    "        word_test_accuracy = correct / total\n",
    "        print(\"test accuracy : \" ,word_test_accuracy )\n",
    "    \n",
    "    def get_predicted_word(self, inputs):\n",
    "        if self.config.cell_type in ['rnn', 'gru']:\n",
    "            hidden = [tf.zeros((1, self.config.hidden_units))]\n",
    "        else:\n",
    "            hidden = [tf.zeros((1, self.config.hidden_units)),\n",
    "                      tf.zeros((1, self.config.hidden_units))]          \n",
    "        encoder_input = tf.expand_dims(tf.convert_to_tensor(inputs), 0)\n",
    "        encoder_output, decoder_hidden = self.encoder(encoder_input, hidden)\n",
    "        decoder_input = tf.expand_dims([target_token_index['\\t']], 0)  # start token\n",
    "        predicted_word = ''\n",
    "        all_attention_weights = np.zeros((self.max_decoder_seq_length,self.max_encoder_seq_length))\n",
    "        for t in range(max_decoder_seq_length):\n",
    "            decoder_output, decoder_hidden, attention_weights = self.decoder(decoder_input, decoder_hidden, encoder_output)\n",
    "            token = np.argmax(decoder_output[0].numpy())\n",
    "            all_attention_weights[t] = attention_weights.numpy().reshape(-1)\n",
    "            if inverse_target_token_index[token] != \"\\n\":  # end token\n",
    "                predicted_word += inverse_target_token_index[token]\n",
    "            else:\n",
    "                return predicted_word, all_attention_weights\n",
    "            decoder_input = tf.expand_dims([token], 0) \n",
    "        return predicted_word, all_attention_weights"
   ]
  },
  {
   "cell_type": "code",
   "execution_count": 10,
   "metadata": {
    "colab": {
     "base_uri": "https://localhost:8080/"
    },
    "id": "dgK25YoT7VjO",
    "outputId": "5b3a0f16-4ac6-46f9-ec9a-173871d5ebed"
   },
   "outputs": [
    {
     "name": "stderr",
     "output_type": "stream",
     "text": [
      "/usr/local/lib/python3.7/dist-packages/ipykernel_launcher.py:77: FutureWarning: The error_bad_lines argument has been deprecated and will be removed in a future version.\n",
      "\n",
      "\n",
      "/usr/local/lib/python3.7/dist-packages/ipykernel_launcher.py:89: FutureWarning: The error_bad_lines argument has been deprecated and will be removed in a future version.\n",
      "\n",
      "\n",
      "/usr/local/lib/python3.7/dist-packages/ipykernel_launcher.py:90: FutureWarning: The error_bad_lines argument has been deprecated and will be removed in a future version.\n",
      "\n",
      "\n",
      "/usr/local/lib/python3.7/dist-packages/ipykernel_launcher.py:91: FutureWarning: The error_bad_lines argument has been deprecated and will be removed in a future version.\n",
      "\n",
      "\n",
      "172it [01:22,  2.08it/s]\n"
     ]
    },
    {
     "name": "stdout",
     "output_type": "stream",
     "text": [
      "Epoch 1 Loss 0.9952   \n"
     ]
    },
    {
     "name": "stderr",
     "output_type": "stream",
     "text": [
      "172it [00:43,  4.00it/s]\n"
     ]
    },
    {
     "name": "stdout",
     "output_type": "stream",
     "text": [
      "Epoch 2 Loss 0.5163   \n"
     ]
    },
    {
     "name": "stderr",
     "output_type": "stream",
     "text": [
      "172it [00:43,  4.00it/s]\n"
     ]
    },
    {
     "name": "stdout",
     "output_type": "stream",
     "text": [
      "Epoch 3 Loss 0.2372   \n"
     ]
    },
    {
     "name": "stderr",
     "output_type": "stream",
     "text": [
      "172it [00:43,  3.99it/s]\n"
     ]
    },
    {
     "name": "stdout",
     "output_type": "stream",
     "text": [
      "Epoch 4 Loss 0.1821   \n"
     ]
    },
    {
     "name": "stderr",
     "output_type": "stream",
     "text": [
      "172it [00:43,  3.99it/s]\n"
     ]
    },
    {
     "name": "stdout",
     "output_type": "stream",
     "text": [
      "Epoch 5 Loss 0.1592   \n"
     ]
    },
    {
     "name": "stderr",
     "output_type": "stream",
     "text": [
      "172it [00:43,  4.00it/s]\n"
     ]
    },
    {
     "name": "stdout",
     "output_type": "stream",
     "text": [
      "Epoch 6 Loss 0.1432   \n"
     ]
    },
    {
     "name": "stderr",
     "output_type": "stream",
     "text": [
      "172it [00:43,  4.00it/s]\n"
     ]
    },
    {
     "name": "stdout",
     "output_type": "stream",
     "text": [
      "Epoch 7 Loss 0.1297   \n"
     ]
    },
    {
     "name": "stderr",
     "output_type": "stream",
     "text": [
      "172it [00:43,  3.99it/s]\n"
     ]
    },
    {
     "name": "stdout",
     "output_type": "stream",
     "text": [
      "Epoch 8 Loss 0.1301   \n"
     ]
    },
    {
     "name": "stderr",
     "output_type": "stream",
     "text": [
      "172it [00:43,  4.00it/s]\n"
     ]
    },
    {
     "name": "stdout",
     "output_type": "stream",
     "text": [
      "Epoch 9 Loss 0.1124   \n"
     ]
    },
    {
     "name": "stderr",
     "output_type": "stream",
     "text": [
      "172it [00:43,  4.00it/s]\n"
     ]
    },
    {
     "name": "stdout",
     "output_type": "stream",
     "text": [
      "Epoch 10 Loss 0.1060   \n"
     ]
    },
    {
     "name": "stderr",
     "output_type": "stream",
     "text": [
      "172it [00:43,  3.99it/s]\n"
     ]
    },
    {
     "name": "stdout",
     "output_type": "stream",
     "text": [
      "Epoch 11 Loss 0.1006   \n"
     ]
    },
    {
     "name": "stderr",
     "output_type": "stream",
     "text": [
      "172it [00:42,  4.01it/s]\n"
     ]
    },
    {
     "name": "stdout",
     "output_type": "stream",
     "text": [
      "Epoch 12 Loss 0.0918   \n"
     ]
    },
    {
     "name": "stderr",
     "output_type": "stream",
     "text": [
      "172it [00:43,  4.00it/s]\n"
     ]
    },
    {
     "name": "stdout",
     "output_type": "stream",
     "text": [
      "Epoch 13 Loss 0.0879   \n"
     ]
    },
    {
     "name": "stderr",
     "output_type": "stream",
     "text": [
      "172it [00:42,  4.01it/s]\n"
     ]
    },
    {
     "name": "stdout",
     "output_type": "stream",
     "text": [
      "Epoch 14 Loss 0.0905   \n"
     ]
    },
    {
     "name": "stderr",
     "output_type": "stream",
     "text": [
      "172it [00:43,  4.00it/s]\n"
     ]
    },
    {
     "name": "stdout",
     "output_type": "stream",
     "text": [
      "Epoch 15 Loss 0.1310   \n"
     ]
    },
    {
     "name": "stderr",
     "output_type": "stream",
     "text": [
      "172it [00:42,  4.00it/s]\n"
     ]
    },
    {
     "name": "stdout",
     "output_type": "stream",
     "text": [
      "Epoch 16 Loss 0.0904   \n"
     ]
    },
    {
     "name": "stderr",
     "output_type": "stream",
     "text": [
      "172it [00:43,  3.99it/s]\n"
     ]
    },
    {
     "name": "stdout",
     "output_type": "stream",
     "text": [
      "Epoch 17 Loss 0.0798   \n"
     ]
    },
    {
     "name": "stderr",
     "output_type": "stream",
     "text": [
      "172it [00:43,  3.99it/s]\n"
     ]
    },
    {
     "name": "stdout",
     "output_type": "stream",
     "text": [
      "Epoch 18 Loss 0.0721   \n"
     ]
    },
    {
     "name": "stderr",
     "output_type": "stream",
     "text": [
      "172it [00:43,  3.99it/s]\n"
     ]
    },
    {
     "name": "stdout",
     "output_type": "stream",
     "text": [
      "Epoch 19 Loss 0.0763   \n"
     ]
    },
    {
     "name": "stderr",
     "output_type": "stream",
     "text": [
      "172it [00:42,  4.01it/s]"
     ]
    },
    {
     "name": "stdout",
     "output_type": "stream",
     "text": [
      "Epoch 20 Loss 0.0656   \n"
     ]
    },
    {
     "name": "stderr",
     "output_type": "stream",
     "text": [
      "\n"
     ]
    }
   ],
   "source": [
    "# Best hyperparameter configuration\n",
    "cfg_dict = {'batch_size': 256, 'cell_type': 'lstm', 'dropout': 0.3, 'epochs': 20, 'hidden_units': 256, 'initializer': 'orthogonal', 'input_embedding_size': 256, 'learning_rate': 0.002}\n",
    "\n",
    "class dotdict(dict):\n",
    "    \"\"\"dot.notation access to dictionary attributes\"\"\"\n",
    "    __getattr__ = dict.get\n",
    "    __setattr__ = dict.__setitem__\n",
    "    __delattr__ = dict.__delitem__\n",
    "\n",
    "config = dotdict(cfg_dict)\n",
    "num_batches = len(train_encoder_input_data)//config.batch_size\n",
    "dataset = tf.data.Dataset.from_tensor_slices((train_encoder_input_data, train_decoder_input_data)).shuffle(buffer_size)\n",
    "dataset = dataset.batch(config.batch_size, drop_remainder=True)\n",
    "model = TransliterationAttentionModel(config)\n",
    "model.train(dataset, config.batch_size, num_batches)"
   ]
  },
  {
   "cell_type": "code",
   "execution_count": null,
   "metadata": {
    "colab": {
     "base_uri": "https://localhost:8080/",
     "height": 999
    },
    "id": "1U3CceGy8Swz",
    "outputId": "4bc2b282-2e8a-4754-ec22-ee98610af570"
   },
   "outputs": [],
   "source": [
    "model.calculate_accuracy(split='test')"
   ]
  },
  {
   "cell_type": "markdown",
   "metadata": {
    "id": "xg2WYRK_zhf4"
   },
   "source": [
    "### Visualize Attention Heatmaps"
   ]
  },
  {
   "cell_type": "code",
   "execution_count": 30,
   "metadata": {
    "id": "OzG9zvK_zhZF"
   },
   "outputs": [],
   "source": [
    "# Attention plots\n",
    "from matplotlib.font_manager import FontProperties as fp\n",
    "\n",
    "\n",
    "def make_attention_heatmaps(word):\n",
    "    word = f'\\t{word}\\n'\n",
    "    tokenized = []\n",
    "    for w in word:\n",
    "        tokenized.append(input_token_index[w])\n",
    "    padded = sequence.pad_sequences([tokenized],maxlen=max_encoder_seq_length,padding=\"post\")\n",
    "    predicted, attention = model.get_predicted_word(padded[0],True)\n",
    "    attention = attention[:len(predicted), :len(word)]\n",
    "    predicted = list(predicted)\n",
    "    fig, ax = plt.subplots(1, 1, figsize=(5,5))\n",
    "    img = sb.heatmap(attention, cmap=\"YlGnBu\", cbar=True)\n",
    "    labels = list(word)\n",
    "    labels[0] = '<S>'\n",
    "    labels[-1] = '<E>'\n",
    "    ax.set_xticklabels(labels)\n",
    "    ax.set_yticklabels(predicted, fontdict={'fontsize':10}, rotation=0, fontproperties=fp(fname='Mukta.ttf'))\n",
    "    plt.show()\n",
    "    return"
   ]
  },
  {
   "cell_type": "code",
   "execution_count": 36,
   "metadata": {
    "colab": {
     "base_uri": "https://localhost:8080/",
     "height": 1000
    },
    "id": "XOXTn7STzhSf",
    "outputId": "1f2d9b16-20ae-4670-bd62-a9341b210f62"
   },
   "outputs": [
    {
     "data": {
      "image/png": "[encoded data removed]",
      "text/plain": [
       "<Figure size 360x360 with 2 Axes>"
      ]
     },
     "metadata": {
      "needs_background": "light"
     },
     "output_type": "display_data"
    },
    {
     "name": "stdout",
     "output_type": "stream",
     "text": [
      "1\n"
     ]
    },
    {
     "data": {
      "image/png": "[encoded data removed]",
      "text/plain": [
       "<Figure size 360x360 with 2 Axes>"
      ]
     },
     "metadata": {
      "needs_background": "light"
     },
     "output_type": "display_data"
    },
    {
     "name": "stdout",
     "output_type": "stream",
     "text": [
      "2\n"
     ]
    },
    {
     "data": {
      "image/png": "[encoded data removed]",
      "text/plain": [
       "<Figure size 360x360 with 2 Axes>"
      ]
     },
     "metadata": {
      "needs_background": "light"
     },
     "output_type": "display_data"
    },
    {
     "name": "stdout",
     "output_type": "stream",
     "text": [
      "3\n"
     ]
    },
    {
     "data": {
      "image/png": "[encoded data removed]",
      "text/plain": [
       "<Figure size 360x360 with 2 Axes>"
      ]
     },
     "metadata": {
      "needs_background": "light"
     },
     "output_type": "display_data"
    },
    {
     "name": "stdout",
     "output_type": "stream",
     "text": [
      "4\n"
     ]
    },
    {
     "data": {
      "image/png": "[encoded data removed]",
      "text/plain": [
       "<Figure size 360x360 with 2 Axes>"
      ]
     },
     "metadata": {
      "needs_background": "light"
     },
     "output_type": "display_data"
    },
    {
     "name": "stdout",
     "output_type": "stream",
     "text": [
      "5\n"
     ]
    },
    {
     "data": {
      "image/png": "[encoded data removed]",
      "text/plain": [
       "<Figure size 360x360 with 2 Axes>"
      ]
     },
     "metadata": {
      "needs_background": "light"
     },
     "output_type": "display_data"
    },
    {
     "name": "stdout",
     "output_type": "stream",
     "text": [
      "6\n"
     ]
    },
    {
     "data": {
      "image/png": "[encoded data removed]",
      "text/plain": [
       "<Figure size 360x360 with 2 Axes>"
      ]
     },
     "metadata": {
      "needs_background": "light"
     },
     "output_type": "display_data"
    },
    {
     "name": "stdout",
     "output_type": "stream",
     "text": [
      "7\n"
     ]
    },
    {
     "data": {
      "image/png": "[encoded data removed]",
      "text/plain": [
       "<Figure size 360x360 with 2 Axes>"
      ]
     },
     "metadata": {
      "needs_background": "light"
     },
     "output_type": "display_data"
    },
    {
     "name": "stdout",
     "output_type": "stream",
     "text": [
      "8\n"
     ]
    },
    {
     "data": {
      "image/png": "[encoded data removed]",
      "text/plain": [
       "<Figure size 360x360 with 2 Axes>"
      ]
     },
     "metadata": {
      "needs_background": "light"
     },
     "output_type": "display_data"
    },
    {
     "name": "stdout",
     "output_type": "stream",
     "text": [
      "9\n"
     ]
    },
    {
     "data": {
      "image/png": "[encoded data removed]",
      "text/plain": [
       "<Figure size 360x360 with 2 Axes>"
      ]
     },
     "metadata": {
      "needs_background": "light"
     },
     "output_type": "display_data"
    },
    {
     "name": "stdout",
     "output_type": "stream",
     "text": [
      "10\n"
     ]
    }
   ],
   "source": [
    "import random\n",
    "\n",
    "idxs = [i for i in range(len(test_encoder_input_data))]\n",
    "count = 1\n",
    "demo_words = ['amanati', 'atwal', 'awaazon', 'udaanaa', 'aayenge', 'aadharit', 'airway', 'ayodhyaanaath', 'udaane',  'kachche']\n",
    "for idx in idxs:\n",
    "    word = \"\"\n",
    "    for char in test_encoder_input_data[idx][1:]:\n",
    "        if inverse_input_token_index[char]!=\"\\n\":\n",
    "            word += inverse_input_token_index[char]\n",
    "        else:\n",
    "            break\n",
    "    if word in demo_words:\n",
    "      make_attention_heatmaps(word)\n",
    "      print(count)\n",
    "      count += 1"
   ]
  },
  {
   "cell_type": "code",
   "execution_count": null,
   "metadata": {
    "id": "Z4PkhwQfMwbs"
   },
   "outputs": [],
   "source": []
  }
 ],
 "metadata": {
  "accelerator": "GPU",
  "colab": {
   "collapsed_sections": [],
   "name": "Connections_attention_V3_run1_visualize_and_test_predictions_v2.ipynb",
   "provenance": []
  },
  "kernelspec": {
   "display_name": "Python 3 (ipykernel)",
   "language": "python",
   "name": "python3"
  },
  "language_info": {
   "codemirror_mode": {
    "name": "ipython",
    "version": 3
   },
   "file_extension": ".py",
   "mimetype": "text/x-python",
   "name": "python",
   "nbconvert_exporter": "python",
   "pygments_lexer": "ipython3",
   "version": "3.8.10"
  }
 },
 "nbformat": 4,
 "nbformat_minor": 1
}
