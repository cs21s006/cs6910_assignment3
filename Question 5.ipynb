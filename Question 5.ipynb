{
 "cells": [
  {
   "cell_type": "code",
   "execution_count": 1,
   "metadata": {
    "colab": {
     "base_uri": "https://localhost:8080/"
    },
    "id": "iiA3o83-4cun",
    "outputId": "33759091-bbd2-480e-8e4d-0503fa6bfb7f"
   },
   "outputs": [
    {
     "name": "stdout",
     "output_type": "stream",
     "text": [
      "Collecting wandb\n",
      "  Downloading wandb-0.12.16-py2.py3-none-any.whl (1.8 MB)\n",
      "\u001b[?25l\r",
      "\u001b[K     |▏                               | 10 kB 30.6 MB/s eta 0:00:01\r",
      "\u001b[K     |▍                               | 20 kB 24.1 MB/s eta 0:00:01\r",
      "\u001b[K     |▌                               | 30 kB 12.7 MB/s eta 0:00:01\r",
      "\u001b[K     |▊                               | 40 kB 10.0 MB/s eta 0:00:01\r",
      "\u001b[K     |█                               | 51 kB 5.9 MB/s eta 0:00:01\r",
      "\u001b[K     |█                               | 61 kB 7.0 MB/s eta 0:00:01\r",
      "\u001b[K     |█▎                              | 71 kB 7.5 MB/s eta 0:00:01\r",
      "\u001b[K     |█▌                              | 81 kB 7.0 MB/s eta 0:00:01\r",
      "\u001b[K     |█▋                              | 92 kB 7.8 MB/s eta 0:00:01\r",
      "\u001b[K     |█▉                              | 102 kB 6.8 MB/s eta 0:00:01\r",
      "\u001b[K     |██                              | 112 kB 6.8 MB/s eta 0:00:01\r",
      "\u001b[K     |██▏                             | 122 kB 6.8 MB/s eta 0:00:01\r",
      "\u001b[K     |██▍                             | 133 kB 6.8 MB/s eta 0:00:01\r",
      "\u001b[K     |██▋                             | 143 kB 6.8 MB/s eta 0:00:01\r",
      "\u001b[K     |██▊                             | 153 kB 6.8 MB/s eta 0:00:01\r",
      "\u001b[K     |███                             | 163 kB 6.8 MB/s eta 0:00:01\r",
      "\u001b[K     |███▏                            | 174 kB 6.8 MB/s eta 0:00:01\r",
      "\u001b[K     |███▎                            | 184 kB 6.8 MB/s eta 0:00:01\r",
      "\u001b[K     |███▌                            | 194 kB 6.8 MB/s eta 0:00:01\r",
      "\u001b[K     |███▋                            | 204 kB 6.8 MB/s eta 0:00:01\r",
      "\u001b[K     |███▉                            | 215 kB 6.8 MB/s eta 0:00:01\r",
      "\u001b[K     |████                            | 225 kB 6.8 MB/s eta 0:00:01\r",
      "\u001b[K     |████▏                           | 235 kB 6.8 MB/s eta 0:00:01\r",
      "\u001b[K     |████▍                           | 245 kB 6.8 MB/s eta 0:00:01\r",
      "\u001b[K     |████▋                           | 256 kB 6.8 MB/s eta 0:00:01\r",
      "\u001b[K     |████▊                           | 266 kB 6.8 MB/s eta 0:00:01\r",
      "\u001b[K     |█████                           | 276 kB 6.8 MB/s eta 0:00:01\r",
      "\u001b[K     |█████▏                          | 286 kB 6.8 MB/s eta 0:00:01\r",
      "\u001b[K     |█████▎                          | 296 kB 6.8 MB/s eta 0:00:01\r",
      "\u001b[K     |█████▌                          | 307 kB 6.8 MB/s eta 0:00:01\r",
      "\u001b[K     |█████▊                          | 317 kB 6.8 MB/s eta 0:00:01\r",
      "\u001b[K     |█████▉                          | 327 kB 6.8 MB/s eta 0:00:01\r",
      "\u001b[K     |██████                          | 337 kB 6.8 MB/s eta 0:00:01\r",
      "\u001b[K     |██████▎                         | 348 kB 6.8 MB/s eta 0:00:01\r",
      "\u001b[K     |██████▍                         | 358 kB 6.8 MB/s eta 0:00:01\r",
      "\u001b[K     |██████▋                         | 368 kB 6.8 MB/s eta 0:00:01\r",
      "\u001b[K     |██████▉                         | 378 kB 6.8 MB/s eta 0:00:01\r",
      "\u001b[K     |███████                         | 389 kB 6.8 MB/s eta 0:00:01\r",
      "\u001b[K     |███████▏                        | 399 kB 6.8 MB/s eta 0:00:01\r",
      "\u001b[K     |███████▎                        | 409 kB 6.8 MB/s eta 0:00:01\r",
      "\u001b[K     |███████▌                        | 419 kB 6.8 MB/s eta 0:00:01\r",
      "\u001b[K     |███████▊                        | 430 kB 6.8 MB/s eta 0:00:01\r",
      "\u001b[K     |███████▉                        | 440 kB 6.8 MB/s eta 0:00:01\r",
      "\u001b[K     |████████                        | 450 kB 6.8 MB/s eta 0:00:01\r",
      "\u001b[K     |████████▎                       | 460 kB 6.8 MB/s eta 0:00:01\r",
      "\u001b[K     |████████▍                       | 471 kB 6.8 MB/s eta 0:00:01\r",
      "\u001b[K     |████████▋                       | 481 kB 6.8 MB/s eta 0:00:01\r",
      "\u001b[K     |████████▉                       | 491 kB 6.8 MB/s eta 0:00:01\r",
      "\u001b[K     |█████████                       | 501 kB 6.8 MB/s eta 0:00:01\r",
      "\u001b[K     |█████████▏                      | 512 kB 6.8 MB/s eta 0:00:01\r",
      "\u001b[K     |█████████▍                      | 522 kB 6.8 MB/s eta 0:00:01\r",
      "\u001b[K     |█████████▌                      | 532 kB 6.8 MB/s eta 0:00:01\r",
      "\u001b[K     |█████████▊                      | 542 kB 6.8 MB/s eta 0:00:01\r",
      "\u001b[K     |██████████                      | 552 kB 6.8 MB/s eta 0:00:01\r",
      "\u001b[K     |██████████                      | 563 kB 6.8 MB/s eta 0:00:01\r",
      "\u001b[K     |██████████▎                     | 573 kB 6.8 MB/s eta 0:00:01\r",
      "\u001b[K     |██████████▌                     | 583 kB 6.8 MB/s eta 0:00:01\r",
      "\u001b[K     |██████████▋                     | 593 kB 6.8 MB/s eta 0:00:01\r",
      "\u001b[K     |██████████▉                     | 604 kB 6.8 MB/s eta 0:00:01\r",
      "\u001b[K     |███████████                     | 614 kB 6.8 MB/s eta 0:00:01\r",
      "\u001b[K     |███████████▏                    | 624 kB 6.8 MB/s eta 0:00:01\r",
      "\u001b[K     |███████████▍                    | 634 kB 6.8 MB/s eta 0:00:01\r",
      "\u001b[K     |███████████▌                    | 645 kB 6.8 MB/s eta 0:00:01\r",
      "\u001b[K     |███████████▊                    | 655 kB 6.8 MB/s eta 0:00:01\r",
      "\u001b[K     |████████████                    | 665 kB 6.8 MB/s eta 0:00:01\r",
      "\u001b[K     |████████████                    | 675 kB 6.8 MB/s eta 0:00:01\r",
      "\u001b[K     |████████████▎                   | 686 kB 6.8 MB/s eta 0:00:01\r",
      "\u001b[K     |████████████▌                   | 696 kB 6.8 MB/s eta 0:00:01\r",
      "\u001b[K     |████████████▋                   | 706 kB 6.8 MB/s eta 0:00:01\r",
      "\u001b[K     |████████████▉                   | 716 kB 6.8 MB/s eta 0:00:01\r",
      "\u001b[K     |█████████████                   | 727 kB 6.8 MB/s eta 0:00:01\r",
      "\u001b[K     |█████████████▏                  | 737 kB 6.8 MB/s eta 0:00:01\r",
      "\u001b[K     |█████████████▍                  | 747 kB 6.8 MB/s eta 0:00:01\r",
      "\u001b[K     |█████████████▋                  | 757 kB 6.8 MB/s eta 0:00:01\r",
      "\u001b[K     |█████████████▊                  | 768 kB 6.8 MB/s eta 0:00:01\r",
      "\u001b[K     |██████████████                  | 778 kB 6.8 MB/s eta 0:00:01\r",
      "\u001b[K     |██████████████▏                 | 788 kB 6.8 MB/s eta 0:00:01\r",
      "\u001b[K     |██████████████▎                 | 798 kB 6.8 MB/s eta 0:00:01\r",
      "\u001b[K     |██████████████▌                 | 808 kB 6.8 MB/s eta 0:00:01\r",
      "\u001b[K     |██████████████▋                 | 819 kB 6.8 MB/s eta 0:00:01\r",
      "\u001b[K     |██████████████▉                 | 829 kB 6.8 MB/s eta 0:00:01\r",
      "\u001b[K     |███████████████                 | 839 kB 6.8 MB/s eta 0:00:01\r",
      "\u001b[K     |███████████████▏                | 849 kB 6.8 MB/s eta 0:00:01\r",
      "\u001b[K     |███████████████▍                | 860 kB 6.8 MB/s eta 0:00:01\r",
      "\u001b[K     |███████████████▋                | 870 kB 6.8 MB/s eta 0:00:01\r",
      "\u001b[K     |███████████████▊                | 880 kB 6.8 MB/s eta 0:00:01\r",
      "\u001b[K     |████████████████                | 890 kB 6.8 MB/s eta 0:00:01\r",
      "\u001b[K     |████████████████▏               | 901 kB 6.8 MB/s eta 0:00:01\r",
      "\u001b[K     |████████████████▎               | 911 kB 6.8 MB/s eta 0:00:01\r",
      "\u001b[K     |████████████████▌               | 921 kB 6.8 MB/s eta 0:00:01\r",
      "\u001b[K     |████████████████▊               | 931 kB 6.8 MB/s eta 0:00:01\r",
      "\u001b[K     |████████████████▉               | 942 kB 6.8 MB/s eta 0:00:01\r",
      "\u001b[K     |█████████████████               | 952 kB 6.8 MB/s eta 0:00:01\r",
      "\u001b[K     |█████████████████▎              | 962 kB 6.8 MB/s eta 0:00:01\r",
      "\u001b[K     |█████████████████▍              | 972 kB 6.8 MB/s eta 0:00:01\r",
      "\u001b[K     |█████████████████▋              | 983 kB 6.8 MB/s eta 0:00:01\r",
      "\u001b[K     |█████████████████▉              | 993 kB 6.8 MB/s eta 0:00:01\r",
      "\u001b[K     |██████████████████              | 1.0 MB 6.8 MB/s eta 0:00:01\r",
      "\u001b[K     |██████████████████▏             | 1.0 MB 6.8 MB/s eta 0:00:01\r",
      "\u001b[K     |██████████████████▎             | 1.0 MB 6.8 MB/s eta 0:00:01\r",
      "\u001b[K     |██████████████████▌             | 1.0 MB 6.8 MB/s eta 0:00:01\r",
      "\u001b[K     |██████████████████▊             | 1.0 MB 6.8 MB/s eta 0:00:01\r",
      "\u001b[K     |██████████████████▉             | 1.1 MB 6.8 MB/s eta 0:00:01\r",
      "\u001b[K     |███████████████████             | 1.1 MB 6.8 MB/s eta 0:00:01\r",
      "\u001b[K     |███████████████████▎            | 1.1 MB 6.8 MB/s eta 0:00:01\r",
      "\u001b[K     |███████████████████▍            | 1.1 MB 6.8 MB/s eta 0:00:01\r",
      "\u001b[K     |███████████████████▋            | 1.1 MB 6.8 MB/s eta 0:00:01\r",
      "\u001b[K     |███████████████████▉            | 1.1 MB 6.8 MB/s eta 0:00:01\r",
      "\u001b[K     |████████████████████            | 1.1 MB 6.8 MB/s eta 0:00:01\r",
      "\u001b[K     |████████████████████▏           | 1.1 MB 6.8 MB/s eta 0:00:01\r",
      "\u001b[K     |████████████████████▍           | 1.1 MB 6.8 MB/s eta 0:00:01\r",
      "\u001b[K     |████████████████████▌           | 1.1 MB 6.8 MB/s eta 0:00:01\r",
      "\u001b[K     |████████████████████▊           | 1.2 MB 6.8 MB/s eta 0:00:01\r",
      "\u001b[K     |█████████████████████           | 1.2 MB 6.8 MB/s eta 0:00:01\r",
      "\u001b[K     |█████████████████████           | 1.2 MB 6.8 MB/s eta 0:00:01\r",
      "\u001b[K     |█████████████████████▎          | 1.2 MB 6.8 MB/s eta 0:00:01\r",
      "\u001b[K     |█████████████████████▌          | 1.2 MB 6.8 MB/s eta 0:00:01\r",
      "\u001b[K     |█████████████████████▋          | 1.2 MB 6.8 MB/s eta 0:00:01\r",
      "\u001b[K     |█████████████████████▉          | 1.2 MB 6.8 MB/s eta 0:00:01\r",
      "\u001b[K     |██████████████████████          | 1.2 MB 6.8 MB/s eta 0:00:01\r",
      "\u001b[K     |██████████████████████▏         | 1.2 MB 6.8 MB/s eta 0:00:01\r",
      "\u001b[K     |██████████████████████▍         | 1.2 MB 6.8 MB/s eta 0:00:01\r",
      "\u001b[K     |██████████████████████▌         | 1.3 MB 6.8 MB/s eta 0:00:01\r",
      "\u001b[K     |██████████████████████▊         | 1.3 MB 6.8 MB/s eta 0:00:01\r",
      "\u001b[K     |███████████████████████         | 1.3 MB 6.8 MB/s eta 0:00:01\r",
      "\u001b[K     |███████████████████████         | 1.3 MB 6.8 MB/s eta 0:00:01\r",
      "\u001b[K     |███████████████████████▎        | 1.3 MB 6.8 MB/s eta 0:00:01\r",
      "\u001b[K     |███████████████████████▌        | 1.3 MB 6.8 MB/s eta 0:00:01\r",
      "\u001b[K     |███████████████████████▋        | 1.3 MB 6.8 MB/s eta 0:00:01\r",
      "\u001b[K     |███████████████████████▉        | 1.3 MB 6.8 MB/s eta 0:00:01\r",
      "\u001b[K     |████████████████████████        | 1.3 MB 6.8 MB/s eta 0:00:01\r",
      "\u001b[K     |████████████████████████▏       | 1.4 MB 6.8 MB/s eta 0:00:01\r",
      "\u001b[K     |████████████████████████▍       | 1.4 MB 6.8 MB/s eta 0:00:01\r",
      "\u001b[K     |████████████████████████▋       | 1.4 MB 6.8 MB/s eta 0:00:01\r",
      "\u001b[K     |████████████████████████▊       | 1.4 MB 6.8 MB/s eta 0:00:01\r",
      "\u001b[K     |█████████████████████████       | 1.4 MB 6.8 MB/s eta 0:00:01\r",
      "\u001b[K     |█████████████████████████▏      | 1.4 MB 6.8 MB/s eta 0:00:01\r",
      "\u001b[K     |█████████████████████████▎      | 1.4 MB 6.8 MB/s eta 0:00:01\r",
      "\u001b[K     |█████████████████████████▌      | 1.4 MB 6.8 MB/s eta 0:00:01\r",
      "\u001b[K     |█████████████████████████▋      | 1.4 MB 6.8 MB/s eta 0:00:01\r",
      "\u001b[K     |█████████████████████████▉      | 1.4 MB 6.8 MB/s eta 0:00:01\r",
      "\u001b[K     |██████████████████████████      | 1.5 MB 6.8 MB/s eta 0:00:01\r",
      "\u001b[K     |██████████████████████████▏     | 1.5 MB 6.8 MB/s eta 0:00:01\r",
      "\u001b[K     |██████████████████████████▍     | 1.5 MB 6.8 MB/s eta 0:00:01\r",
      "\u001b[K     |██████████████████████████▋     | 1.5 MB 6.8 MB/s eta 0:00:01\r",
      "\u001b[K     |██████████████████████████▊     | 1.5 MB 6.8 MB/s eta 0:00:01\r",
      "\u001b[K     |███████████████████████████     | 1.5 MB 6.8 MB/s eta 0:00:01\r",
      "\u001b[K     |███████████████████████████▏    | 1.5 MB 6.8 MB/s eta 0:00:01\r",
      "\u001b[K     |███████████████████████████▎    | 1.5 MB 6.8 MB/s eta 0:00:01\r",
      "\u001b[K     |███████████████████████████▌    | 1.5 MB 6.8 MB/s eta 0:00:01\r",
      "\u001b[K     |███████████████████████████▊    | 1.5 MB 6.8 MB/s eta 0:00:01\r",
      "\u001b[K     |███████████████████████████▉    | 1.6 MB 6.8 MB/s eta 0:00:01\r",
      "\u001b[K     |████████████████████████████    | 1.6 MB 6.8 MB/s eta 0:00:01\r",
      "\u001b[K     |████████████████████████████▎   | 1.6 MB 6.8 MB/s eta 0:00:01\r",
      "\u001b[K     |████████████████████████████▍   | 1.6 MB 6.8 MB/s eta 0:00:01\r",
      "\u001b[K     |████████████████████████████▋   | 1.6 MB 6.8 MB/s eta 0:00:01\r",
      "\u001b[K     |████████████████████████████▉   | 1.6 MB 6.8 MB/s eta 0:00:01\r",
      "\u001b[K     |█████████████████████████████   | 1.6 MB 6.8 MB/s eta 0:00:01\r",
      "\u001b[K     |█████████████████████████████▏  | 1.6 MB 6.8 MB/s eta 0:00:01\r",
      "\u001b[K     |█████████████████████████████▎  | 1.6 MB 6.8 MB/s eta 0:00:01\r",
      "\u001b[K     |█████████████████████████████▌  | 1.6 MB 6.8 MB/s eta 0:00:01\r",
      "\u001b[K     |█████████████████████████████▊  | 1.7 MB 6.8 MB/s eta 0:00:01\r",
      "\u001b[K     |█████████████████████████████▉  | 1.7 MB 6.8 MB/s eta 0:00:01\r",
      "\u001b[K     |██████████████████████████████  | 1.7 MB 6.8 MB/s eta 0:00:01\r",
      "\u001b[K     |██████████████████████████████▎ | 1.7 MB 6.8 MB/s eta 0:00:01\r",
      "\u001b[K     |██████████████████████████████▍ | 1.7 MB 6.8 MB/s eta 0:00:01\r",
      "\u001b[K     |██████████████████████████████▋ | 1.7 MB 6.8 MB/s eta 0:00:01\r",
      "\u001b[K     |██████████████████████████████▉ | 1.7 MB 6.8 MB/s eta 0:00:01\r",
      "\u001b[K     |███████████████████████████████ | 1.7 MB 6.8 MB/s eta 0:00:01\r",
      "\u001b[K     |███████████████████████████████▏| 1.7 MB 6.8 MB/s eta 0:00:01\r",
      "\u001b[K     |███████████████████████████████▍| 1.8 MB 6.8 MB/s eta 0:00:01\r",
      "\u001b[K     |███████████████████████████████▌| 1.8 MB 6.8 MB/s eta 0:00:01\r",
      "\u001b[K     |███████████████████████████████▊| 1.8 MB 6.8 MB/s eta 0:00:01\r",
      "\u001b[K     |████████████████████████████████| 1.8 MB 6.8 MB/s eta 0:00:01\r",
      "\u001b[K     |████████████████████████████████| 1.8 MB 6.8 MB/s \n",
      "\u001b[?25hCollecting pathtools\n",
      "  Downloading pathtools-0.1.2.tar.gz (11 kB)\n",
      "Collecting docker-pycreds>=0.4.0\n",
      "  Downloading docker_pycreds-0.4.0-py2.py3-none-any.whl (9.0 kB)\n",
      "Requirement already satisfied: psutil>=5.0.0 in /usr/local/lib/python3.7/dist-packages (from wandb) (5.4.8)\n",
      "Collecting shortuuid>=0.5.0\n",
      "  Downloading shortuuid-1.0.8-py3-none-any.whl (9.5 kB)\n",
      "Collecting sentry-sdk>=1.0.0\n",
      "  Downloading sentry_sdk-1.5.11-py2.py3-none-any.whl (144 kB)\n",
      "\u001b[K     |████████████████████████████████| 144 kB 70.5 MB/s \n",
      "\u001b[?25hRequirement already satisfied: protobuf>=3.12.0 in /usr/local/lib/python3.7/dist-packages (from wandb) (3.17.3)\n",
      "Requirement already satisfied: setuptools in /usr/local/lib/python3.7/dist-packages (from wandb) (57.4.0)\n",
      "Requirement already satisfied: python-dateutil>=2.6.1 in /usr/local/lib/python3.7/dist-packages (from wandb) (2.8.2)\n",
      "Requirement already satisfied: requests<3,>=2.0.0 in /usr/local/lib/python3.7/dist-packages (from wandb) (2.23.0)\n",
      "Collecting setproctitle\n",
      "  Downloading setproctitle-1.2.3-cp37-cp37m-manylinux_2_5_x86_64.manylinux1_x86_64.manylinux_2_17_x86_64.manylinux2014_x86_64.whl (29 kB)\n",
      "Requirement already satisfied: Click!=8.0.0,>=7.0 in /usr/local/lib/python3.7/dist-packages (from wandb) (7.1.2)\n",
      "Requirement already satisfied: six>=1.13.0 in /usr/local/lib/python3.7/dist-packages (from wandb) (1.15.0)\n",
      "Requirement already satisfied: promise<3,>=2.0 in /usr/local/lib/python3.7/dist-packages (from wandb) (2.3)\n",
      "Collecting GitPython>=1.0.0\n",
      "  Downloading GitPython-3.1.27-py3-none-any.whl (181 kB)\n",
      "\u001b[K     |████████████████████████████████| 181 kB 73.5 MB/s \n",
      "\u001b[?25hRequirement already satisfied: PyYAML in /usr/local/lib/python3.7/dist-packages (from wandb) (3.13)\n",
      "Collecting gitdb<5,>=4.0.1\n",
      "  Downloading gitdb-4.0.9-py3-none-any.whl (63 kB)\n",
      "\u001b[K     |████████████████████████████████| 63 kB 2.2 MB/s \n",
      "\u001b[?25hRequirement already satisfied: typing-extensions>=3.7.4.3 in /usr/local/lib/python3.7/dist-packages (from GitPython>=1.0.0->wandb) (4.2.0)\n",
      "Collecting smmap<6,>=3.0.1\n",
      "  Downloading smmap-5.0.0-py3-none-any.whl (24 kB)\n",
      "Requirement already satisfied: chardet<4,>=3.0.2 in /usr/local/lib/python3.7/dist-packages (from requests<3,>=2.0.0->wandb) (3.0.4)\n",
      "Requirement already satisfied: urllib3!=1.25.0,!=1.25.1,<1.26,>=1.21.1 in /usr/local/lib/python3.7/dist-packages (from requests<3,>=2.0.0->wandb) (1.24.3)\n",
      "Requirement already satisfied: certifi>=2017.4.17 in /usr/local/lib/python3.7/dist-packages (from requests<3,>=2.0.0->wandb) (2021.10.8)\n",
      "Requirement already satisfied: idna<3,>=2.5 in /usr/local/lib/python3.7/dist-packages (from requests<3,>=2.0.0->wandb) (2.10)\n",
      "Building wheels for collected packages: pathtools\n",
      "  Building wheel for pathtools (setup.py) ... \u001b[?25l\u001b[?25hdone\n",
      "  Created wheel for pathtools: filename=pathtools-0.1.2-py3-none-any.whl size=8806 sha256=fec517d3894ca4f0cc32ccddb70771b4f67056cd885793f107c5a8044a21998c\n",
      "  Stored in directory: /root/.cache/pip/wheels/3e/31/09/fa59cef12cdcfecc627b3d24273699f390e71828921b2cbba2\n",
      "Successfully built pathtools\n",
      "Installing collected packages: smmap, gitdb, shortuuid, setproctitle, sentry-sdk, pathtools, GitPython, docker-pycreds, wandb\n",
      "Successfully installed GitPython-3.1.27 docker-pycreds-0.4.0 gitdb-4.0.9 pathtools-0.1.2 sentry-sdk-1.5.11 setproctitle-1.2.3 shortuuid-1.0.8 smmap-5.0.0 wandb-0.12.16\n"
     ]
    }
   ],
   "source": [
    "!pip install wandb"
   ]
  },
  {
   "cell_type": "code",
   "execution_count": 2,
   "metadata": {
    "id": "pQB-3bYKjODJ"
   },
   "outputs": [],
   "source": [
    "from tqdm import tqdm\n",
    "import pandas as pd\n",
    "import numpy as np\n",
    "\n",
    "import matplotlib.pyplot as plt\n",
    "\n",
    "import tensorflow as tf\n",
    "from keras.models import Model\n",
    "from keras.layers import Layer\n",
    "from keras.layers import SimpleRNN, LSTM, GRU, Dense\n",
    "from keras.layers.embeddings import Embedding\n",
    "from keras.preprocessing import sequence\n",
    "from tensorflow.keras.optimizers import Adam\n",
    "from keras.losses import SparseCategoricalCrossentropy"
   ]
  },
  {
   "cell_type": "markdown",
   "metadata": {},
   "source": [
    "### Load Data"
   ]
  },
  {
   "cell_type": "code",
   "execution_count": null,
   "metadata": {},
   "outputs": [],
   "source": [
    "TRAIN_PATH = \"hi.translit.sampled.train.tsv\"\n",
    "VAL_PATH = \"hi.translit.sampled.dev.tsv\"\n",
    "TEST_PATH = \"hi.translit.sampled.test.tsv\"\n",
    "\n",
    "df = pd.read_csv(TRAIN_PATH, sep=\"\\t\", header=None, error_bad_lines=False).dropna()\n",
    "hindi_words = [list(f'\\t{word}\\n') for word in df[0].tolist()]\n",
    "english_words = [list(f'\\t{word}\\n') for word in df[1].tolist()]\n",
    "# Creating sorted vocabulary of source and target language\n",
    "english_characters = sorted(list(set([char for word in english_words for char in word])))\n",
    "hindi_characters = sorted(list(set([char for word in hindi_words for char in word])))\n",
    "# Creating essential parameters\n",
    "max_encoder_seq_length = (np.max([len(i) for i in english_words]))\n",
    "max_decoder_seq_length = (np.max([len(i) for i in hindi_words]))\n",
    "num_encoder_tokens = len(english_characters)\n",
    "num_decoder_tokens = len(hindi_characters)\n",
    "# Mapping each character of vocabulary to index and vice versa\n",
    "input_token_index = dict([(char, i) for i, char in enumerate(english_characters)])\n",
    "inverse_input_token_index = {v: k for k, v in input_token_index.items()}\n",
    "target_token_index = dict([(char, i) for i, char in enumerate(hindi_characters)])\n",
    "inverse_target_token_index = {v: k for k, v in target_token_index.items()}\n",
    "\n",
    "def load_encoder_decoder_data(filepath, sep='\\t', header=None):\n",
    "  df = pd.read_csv(filepath, sep=sep, header=header, error_bad_lines=False).dropna()\n",
    "  decoder_target_data = np.zeros((df.shape[0],max_decoder_seq_length,num_decoder_tokens), dtype=\"float32\")\n",
    "  for i, hindi_text in enumerate(df[0].tolist()):\n",
    "      hindi_text = f'\\t{hindi_text}\\n'\n",
    "      for t, char in enumerate(hindi_text):\n",
    "          if t > 0:\n",
    "              decoder_target_data[i, t - 1, target_token_index[char]] = 1.0\n",
    "      decoder_target_data[i, t:, target_token_index[\"\\n\"]] = 1.0\n",
    "  encoder_input_data = []\n",
    "  for word in df[1].tolist():\n",
    "    encoder_input_data.append([input_token_index[char] for char in f'\\t{word}\\n'])\n",
    "  encoder_input_data = sequence.pad_sequences(encoder_input_data, maxlen=max_encoder_seq_length, padding=\"post\")\n",
    "  decoder_input_data = []\n",
    "  for word in df[0].tolist():\n",
    "    decoder_input_data.append([target_token_index[char] for char in f'\\t{word}\\n'])\n",
    "  decoder_input_data = sequence.pad_sequences(decoder_input_data, maxlen=max_decoder_seq_length, padding=\"post\")\n",
    "  return encoder_input_data, decoder_input_data, decoder_target_data\n",
    "\n",
    "# Train split\n",
    "train_encoder_input_data, train_decoder_input_data, train_decoder_target = load_encoder_decoder_data(TRAIN_PATH)\n",
    "# Validation split\n",
    "val_encoder_input_data, val_decoder_input_data, val_decoder_target = load_encoder_decoder_data(VAL_PATH)\n",
    "# Test split\n",
    "test_encoder_input_data, test_decoder_input_data, test_decoder_target = load_encoder_decoder_data(TEST_PATH)\n",
    "\n",
    "buffer_size = 100000"
   ]
  },
  {
   "cell_type": "markdown",
   "metadata": {},
   "source": [
    "### Define Model"
   ]
  },
  {
   "cell_type": "code",
   "execution_count": 4,
   "metadata": {
    "id": "GpGN_90bjKdm"
   },
   "outputs": [],
   "source": [
    "class BahdanauAttention(Layer):\n",
    "  def __init__(self, units):\n",
    "    super().__init__()\n",
    "    self.W_decoder = Dense(units)\n",
    "    self.W_encoder = Dense(units)\n",
    "    self.W_aggregate = Dense(1)\n",
    "\n",
    "  def call(self, query, values):\n",
    "    query_across_time = tf.expand_dims(query, 1)\n",
    "    decoder_transform = self.W_decoder(query_across_time)\n",
    "    encoder_transform = self.W_encoder(values)\n",
    "    score = tf.nn.tanh(encoder_transform + decoder_transform)\n",
    "    score = self.W_aggregate(score)\n",
    "    attention_weights = tf.nn.softmax(score, axis=1)\n",
    "    context = tf.reduce_sum((attention_weights * values), axis=1)\n",
    "    return context, attention_weights\n",
    "\n",
    "\n",
    "class Encoder(Model):\n",
    "  def __init__(self, config):\n",
    "    super(Encoder, self).__init__()\n",
    "    self.config = config\n",
    "    \n",
    "    # Embedding layer: (num_encoder_tokens, input_embedding_size)\n",
    "    self.encoder_embedding = Embedding(num_encoder_tokens, self.config.input_embedding_size, name='Encoder_embeddings')\n",
    "    \n",
    "    # Adding encoder layer\n",
    "    self.get_cell = {\n",
    "        'rnn': SimpleRNN(self.config.hidden_units, dropout=self.config.dropout, \n",
    "                   return_sequences=True, return_state=True,\n",
    "                   recurrent_initializer=self.config.initializer, name=f\"Encoder_0\"),\n",
    "        'gru': GRU(self.config.hidden_units, dropout=self.config.dropout, \n",
    "                   return_sequences=True, return_state=True,\n",
    "                   recurrent_initializer=self.config.initializer, name=f\"Encoder_0\"),\n",
    "        'lstm': LSTM(self.config.hidden_units, dropout=self.config.dropout, \n",
    "                   return_sequences=True, return_state=True,\n",
    "                   recurrent_initializer=self.config.initializer, name=f\"Encoder_0\"),\n",
    "    }\n",
    "    self.encoder_cell = self.get_cell[self.config.cell_type]\n",
    "\n",
    "\n",
    "  def call(self, encoder_input, hidden):\n",
    "    encoder_embedded = self.encoder_embedding(encoder_input)\n",
    "    if self.config.cell_type in ['rnn', 'gru']:\n",
    "        output, state = self.get_cell[self.config.cell_type](encoder_embedded, initial_state=hidden)\n",
    "    elif self.config.cell_type == \"lstm\":\n",
    "        output, state, context= self.get_cell[self.config.cell_type](encoder_embedded, initial_state=hidden)\n",
    "    return output, state\n",
    "\n",
    "  def init_hidden_states(self):\n",
    "      if self.config.cell_type in ['rnn', 'gru']:\n",
    "          return tf.zeros((self.config.batch_size, self.config.hidden_units))\n",
    "      else:\n",
    "        return (tf.zeros((self.config.batch_size, self.config.hidden_units)),\n",
    "                  tf.zeros((self.config.batch_size, self.config.hidden_units)))\n",
    "        \n",
    "class Decoder(Model):\n",
    "  def __init__(self, config):\n",
    "    super(Decoder, self).__init__()\n",
    "    self.config = config\n",
    "    # Attention Layer\n",
    "    self.attention = BahdanauAttention(self.config.hidden_units)\n",
    "    \n",
    "    # Embedding layer: (num_decoder_tokens, input_embedding_size)\n",
    "    self.decoder_embedding = Embedding(num_decoder_tokens, self.config.input_embedding_size)\n",
    "    \n",
    "    # Output dense layer: (num_decoder_tokens)\n",
    "    self.decoder_dense = Dense(num_decoder_tokens)\n",
    "    \n",
    "    # Adding decoder layer\n",
    "    self.get_cell = {\n",
    "        'rnn': SimpleRNN(self.config.hidden_units, dropout=self.config.dropout, \n",
    "                   return_sequences=True, return_state=True,\n",
    "                   recurrent_initializer=self.config.initializer, name=f\"Encoder_0\"),\n",
    "        'gru': GRU(self.config.hidden_units, dropout=self.config.dropout, \n",
    "                   return_sequences=True, return_state=True,\n",
    "                   recurrent_initializer=self.config.initializer, name=f\"Encoder_0\"),\n",
    "        'lstm': LSTM(self.config.hidden_units, dropout=self.config.dropout, \n",
    "                   return_sequences=True, return_state=True,\n",
    "                   recurrent_initializer=self.config.initializer, name=f\"Encoder_0\"),\n",
    "    }\n",
    "    self.decoder_cell = self.get_cell[self.config.cell_type]\n",
    "\n",
    "  def call(self, decoder_inputs, hidden, encoder_output):\n",
    "    context, attention_weights = self.attention(hidden, encoder_output)\n",
    "    decoder_embedded = self.decoder_embedding(decoder_inputs)\n",
    "    concatenated = tf.concat([tf.expand_dims(context, 1), decoder_embedded], axis=-1)\n",
    "    if self.config.cell_type in ['rnn', 'gru']:\n",
    "        output, state = self.get_cell[self.config.cell_type](concatenated)\n",
    "    elif self.config.cell_type == \"lstm\":\n",
    "        output, state, context= self.get_cell[self.config.cell_type](concatenated)\n",
    "    output = self.decoder_dense(tf.reshape(output, (-1, output.shape[2])))\n",
    "    return output, state, attention_weights"
   ]
  },
  {
   "cell_type": "code",
   "execution_count": 12,
   "metadata": {
    "id": "uyncJBbzl9OX"
   },
   "outputs": [],
   "source": [
    "class TransliterationAttentionModel:\n",
    "    def __init__(self, config):\n",
    "        self.config = config\n",
    "        self.encoder = Encoder(self.config)\n",
    "        self.decoder = Decoder(self.config)\n",
    "        self.optimizer = Adam(learning_rate=self.config.learning_rate)\n",
    "        self.loss_func = SparseCategoricalCrossentropy(from_logits=True, reduction='none')\n",
    "\n",
    "    @tf.function()    \n",
    "    def train_one_batch(self, encoder_inputs, decoder_targets):\n",
    "        loss = 0\n",
    "        # Initialize hidden states to zeroes\n",
    "        encoder_hidden = self.encoder.init_hidden_states()\n",
    "        with tf.GradientTape() as tape:\n",
    "            encoder_output, decoder_hidden = self.encoder(encoder_inputs, encoder_hidden)\n",
    "            decoder_input = tf.expand_dims([target_token_index['\\t']] * self.config.batch_size, 1)\n",
    "            for t in range(1, decoder_targets.shape[1]):\n",
    "                decoder_output, decoder_hidden, attention_weights = self.decoder(decoder_input, decoder_hidden, encoder_output)\n",
    "                batch_loss = self.loss_func(decoder_targets[:, t], decoder_output)\n",
    "                # Ignore pad index\n",
    "                batch_loss *= tf.cast(tf.math.logical_not(tf.math.equal(decoder_targets[:, t], 0)), dtype=batch_loss.dtype)\n",
    "                batch_loss = tf.reduce_mean(batch_loss)\n",
    "                dec_input = tf.expand_dims(decoder_targets[:, t], 1)\n",
    "                loss += batch_loss\n",
    "        gradients = tape.gradient(loss, self.encoder.trainable_variables + self.decoder.attention.trainable_variables + self.decoder.trainable_variables)\n",
    "        self.optimizer.apply_gradients(zip(gradients, self.encoder.trainable_variables + self.decoder.attention.trainable_variables + self.decoder.trainable_variables))\n",
    "        return (loss / decoder_targets.shape[1])\n",
    "\n",
    "    def train(self, dataset, batch_size, num_batches):\n",
    "        for epoch in range(1, self.config.epochs+1):\n",
    "            loss = 0\n",
    "            # Iterate batches over dataset and train \n",
    "            for (batch, (encoder_inputs, decoder_targets)) in tqdm(enumerate(dataset.take(num_batches))):\n",
    "                batch_loss = self.train_one_batch(encoder_inputs, decoder_targets)\n",
    "                loss += batch_loss \n",
    "            print(f'Epoch {epoch} Loss {loss/num_batches:.4f}')        \n",
    "    \n",
    "    def calculate_accuracy(self, split='val'):\n",
    "        if split == 'val':\n",
    "            total,correct = 0, 0\n",
    "            for i in range(len(val_decoder_input_data)):\n",
    "                gt = \"\"\n",
    "                for token in val_decoder_input_data[i][1:]:\n",
    "                    if inverse_target_token_index[token]==\"\\n\":\n",
    "                        break\n",
    "                    gt += inverse_target_token_index[token]\n",
    "                pred = self.get_predicted_word(val_encoder_input_data[i])\n",
    "                if gt == pred:\n",
    "                    correct += 1\n",
    "                total += 1\n",
    "                if i % 100 == 0:\n",
    "                    print(\" gt: \",gt,\" pred: \",pred)\n",
    "                    validation_word_accuracy=correct/total\n",
    "                    wandb.log({\"running_validation_word_accuracy\": validation_word_accuracy})\n",
    "            word_val_accuracy = correct / total\n",
    "            print(\"validation accuracy: \",word_val_accuracy)\n",
    "            wandb.log({'word_val_acc' : word_val_accuracy})\n",
    "        else:\n",
    "            total,correct = 0, 0\n",
    "            for i in range(len(test_decoder_input_data)):\n",
    "                gt = \"\"\n",
    "                for token in test_decoder_input_data[i][1:]:\n",
    "                    if inverse_target_token_index[token]==\"\\n\":\n",
    "                        break\n",
    "                    gt += inverse_target_token_index[token]\n",
    "                pred = self.get_predicted_word(test_encoder_input_data[i])\n",
    "                if gt == pred:\n",
    "                    correct += 1\n",
    "                total += 1\n",
    "                if i % 100 == 0:\n",
    "                    print(\" gt: \",gt,\" pred: \",pred)\n",
    "            word_test_accuracy = correct / total\n",
    "            print(\"test accuracy : \" ,word_test_accuracy )\n",
    "            wandb.log({'word_test_acc' : word_test_accuracy})\n",
    "    \n",
    "    def get_predicted_word(self, inputs):\n",
    "        if self.config.cell_type in ['rnn', 'gru']:\n",
    "            hidden = [tf.zeros((1, self.config.hidden_units))]\n",
    "        else:\n",
    "            hidden = [tf.zeros((1, self.config.hidden_units)),\n",
    "                      tf.zeros((1, self.config.hidden_units))]          \n",
    "        encoder_input = tf.expand_dims(tf.convert_to_tensor(inputs), 0)\n",
    "        encoder_output, decoder_hidden = self.encoder(encoder_input, hidden)\n",
    "        decoder_input = tf.expand_dims([target_token_index['\\t']], 0)  # append start token\n",
    "        predicted_word = ''\n",
    "        for t in range(max_decoder_seq_length):\n",
    "            decoder_output, decoder_hidden, attention_weights = self.decoder(decoder_input, decoder_hidden, encoder_output)\n",
    "            token = np.argmax(decoder_output[0].numpy())\n",
    "            if inverse_target_token_index[token] != \"\\n\":  # if not end token\n",
    "                predicted_word += inverse_target_token_index[token]\n",
    "            else:\n",
    "                return predicted_word\n",
    "            decoder_input = tf.expand_dims([token], 0) \n",
    "        return predicted_word\n"
   ]
  },
  {
   "cell_type": "code",
   "execution_count": 13,
   "metadata": {
    "colab": {
     "base_uri": "https://localhost:8080/"
    },
    "id": "hp8lnVQTmMgf",
    "outputId": "604f6d79-84ee-46ba-84af-44ee868dfe11"
   },
   "outputs": [
    {
     "name": "stdout",
     "output_type": "stream",
     "text": [
      "Create sweep with ID: u0qyvmkv\n",
      "Sweep URL: https://wandb.ai/cs21s006_cs21s043/cs6910_assigment3_attention/sweeps/u0qyvmkv\n",
      "sweep_id:  u0qyvmkv\n"
     ]
    }
   ],
   "source": [
    "import wandb\n",
    "wandb.login()\n",
    "sweep_config={\n",
    "    'method': 'bayes',\n",
    "    'metric': {\n",
    "        'name': 'word_val_acc',\n",
    "        'goal': 'maximize'\n",
    "    },\n",
    "    'parameters':{\n",
    "        'dropout': {\n",
    "            'values': [0, 0.3]\n",
    "        },\n",
    "        'learning_rate': {\n",
    "            'values': [0.0006,0.001, 0.002]\n",
    "        },\n",
    "        'batch_size': {\n",
    "            'values': [128,256]\n",
    "        },\n",
    "        'input_embedding_size': {\n",
    "            'values': [128, 256, 512]\n",
    "        },\n",
    "        'hidden_units':{\n",
    "            'values': [256, 512,768]\n",
    "        },\n",
    "        'cell_type': {\n",
    "            'values': ['gru','lstm']\n",
    "        },\n",
    "        'epochs':{\n",
    "            'values': [15,20]\n",
    "        },\n",
    "       'initializer':{\n",
    "            'values':[\"glorot_uniform\",\"orthogonal\"]\n",
    "        }\n",
    "    }\n",
    "}\n",
    "\n",
    "sweep_id = wandb.sweep(sweep_config, project=\"cs6910_assigment3_attention\", entity=\"cs21s006_cs21s043\")\n",
    "print('sweep_id: ', sweep_id)\n",
    "\n",
    "def spawn_fn():\n",
    "      with wandb.init(project=\"cs6910_assigment3_attention\", entity=\"cs21s006_cs21s043\") as run:\n",
    "        config = wandb.config\n",
    "        print(config)\n",
    "        wandb.run.name = 'ep-'+str(config.epochs)+'-dr-'+str(config.dropout)+'-lr-'+str(config.learning_rate)+'-bs'+str(config.batch_size)+'-es-'+str(config.input_embedding_size)\\\n",
    "        +'-hs-'+str(config.hidden_units)+'-cell-'+str(config.cell_type)+'-init-'+str(config.initializer)\n",
    "        num_batches = len(train_encoder_input_data)//config.batch_size\n",
    "        dataset = tf.data.Dataset.from_tensor_slices((train_encoder_input_data, train_decoder_input_data)).shuffle(buffer_size)\n",
    "        dataset = dataset.batch(config.batch_size, drop_remainder=True)\n",
    "        model = TransliterationAttentionModel(config)\n",
    "        model.train(dataset, config.batch_size, num_batches)\n",
    "        print(\"Calculating validation scores:\")\n",
    "        model.calculate_accuracy(split='val')\n",
    "        print(\"Calculating test scores:\")\n",
    "        model.calculate_accuracy(split='test')"
   ]
  },
  {
   "cell_type": "code",
   "execution_count": 14,
   "metadata": {
    "colab": {
     "base_uri": "https://localhost:8080/",
     "height": 1000,
     "referenced_widgets": [
      "f53d96963d174b62b54dabd64f4f7028",
      "23c5cd6bd3c34932a49645fb4fc510e3",
      "637cf9b62a3844a49035cf1939dabae2",
      "ec913e2554414eab84a0e91cb94a03e3",
      "093e8058ee2343159ef8c8cb4f2ac280",
      "d18ff70ca8114f1695bdd98033f3009e",
      "2a6879e36ecb4ddebb8f284819617e22",
      "a2db092bb3034f1db67c601ce7628b3c",
      "871a18a44e934914b814fd4f6f998b54",
      "8b253e82932f431bb2dde04389765966",
      "c9552790564b43caac1c76eef5169615",
      "e1acbebbb58c46b4a611d1fc29bbc090",
      "19574eea21214536b7f7ce989bb52ef8",
      "6545a21e1eda4ca2bf4339fdb165de99",
      "e38cf241333646859106fbfa4f820c4f",
      "53d5c815eef346978cc7cd57b10e6e3f",
      "f6e1ae07afa948e893998056896f7522",
      "9f2a4bab0a87486d90c4132877be8cc4",
      "8676fb01adb94f8e91cfa1df03609dbc",
      "4a9a631106934187833d7297010c23c8",
      "8a1fdbafb6b84694ae039b97c8fa334c",
      "48a1d53f91c04a848aded1e0e9052ec3",
      "60bad5de2ccc44f2b3dcd029266f4e66",
      "345e63629bcc493b9aa4b1417e126cec",
      "23f9c558c6634cbab5cd7eeb3d24bd5b",
      "1f2fdc9248bd4dc78a86e3b74ff5f8b3",
      "5e5fea1f1970411dac39db7f8882fe60",
      "b1dbb33cc7724393aafd13bccc4443b5",
      "85cdc7b827324b99b199baa1e5dd2e1a",
      "9fa696c41a3347eb9879b066cf8b2166",
      "383fbcd72f32444da1d79df2e6c0c663",
      "9ca61ac0a0ad408eab98826cbe704304",
      "8b0f20627fc248229e3b0a85bbbf8cb9",
      "bb74b9f3afd14558aceadd9c792bebb3",
      "13584d6c60f141d9a6584781f9f8d9a9",
      "76c2e285e7cb4488aa7637b615039e0b",
      "4b8dd28808cb4709a41a2c16a8b38b5b",
      "3799a39ca13d4749863295bc8916c815",
      "adbd3c3fcc9449a9a1099eb0f475bba8",
      "c9af314ea12f40dabb5a73b293c01d1e"
     ]
    },
    "id": "Xqf5aZL37XER",
    "outputId": "dcf333fc-009e-437f-9b3a-3a74c00a3c8f"
   },
   "outputs": [
    {
     "name": "stderr",
     "output_type": "stream",
     "text": [
      "\u001b[34m\u001b[1mwandb\u001b[0m: Agent Starting Run: qve0573e with config:\n",
      "\u001b[34m\u001b[1mwandb\u001b[0m: \tbatch_size: 128\n",
      "\u001b[34m\u001b[1mwandb\u001b[0m: \tcell_type: gru\n",
      "\u001b[34m\u001b[1mwandb\u001b[0m: \tdropout: 0.3\n",
      "\u001b[34m\u001b[1mwandb\u001b[0m: \tepochs: 20\n",
      "\u001b[34m\u001b[1mwandb\u001b[0m: \thidden_units: 768\n",
      "\u001b[34m\u001b[1mwandb\u001b[0m: \tinitializer: orthogonal\n",
      "\u001b[34m\u001b[1mwandb\u001b[0m: \tinput_embedding_size: 256\n",
      "\u001b[34m\u001b[1mwandb\u001b[0m: \tlearning_rate: 0.0006\n",
      "\u001b[34m\u001b[1mwandb\u001b[0m: \u001b[33mWARNING\u001b[0m Ignored wandb.init() arg project when running a sweep.\n",
      "\u001b[34m\u001b[1mwandb\u001b[0m: \u001b[33mWARNING\u001b[0m Ignored wandb.init() arg entity when running a sweep.\n"
     ]
    },
    {
     "data": {
      "text/html": [
       "Tracking run with wandb version 0.12.16"
      ],
      "text/plain": [
       "<IPython.core.display.HTML object>"
      ]
     },
     "metadata": {},
     "output_type": "display_data"
    },
    {
     "data": {
      "text/html": [
       "Run data is saved locally in <code>/content/wandb/run-20220504_172619-qve0573e</code>"
      ],
      "text/plain": [
       "<IPython.core.display.HTML object>"
      ]
     },
     "metadata": {},
     "output_type": "display_data"
    },
    {
     "data": {
      "text/html": [
       "Syncing run <strong><a href=\"https://wandb.ai/cs21s006_cs21s043/cs6910_assigment3_attention/runs/qve0573e\" target=\"_blank\">crisp-sweep-2</a></strong> to <a href=\"https://wandb.ai/cs21s006_cs21s043/cs6910_assigment3_attention\" target=\"_blank\">Weights & Biases</a> (<a href=\"https://wandb.me/run\" target=\"_blank\">docs</a>)<br/>Sweep page:  <a href=\"https://wandb.ai/cs21s006_cs21s043/cs6910_assigment3_attention/sweeps/h6lw7vkh\" target=\"_blank\">https://wandb.ai/cs21s006_cs21s043/cs6910_assigment3_attention/sweeps/h6lw7vkh</a>"
      ],
      "text/plain": [
       "<IPython.core.display.HTML object>"
      ]
     },
     "metadata": {},
     "output_type": "display_data"
    },
    {
     "name": "stdout",
     "output_type": "stream",
     "text": [
      "{'batch_size': 128, 'cell_type': 'gru', 'dropout': 0.3, 'epochs': 20, 'hidden_units': 768, 'initializer': 'orthogonal', 'input_embedding_size': 256, 'learning_rate': 0.0006}\n"
     ]
    },
    {
     "name": "stderr",
     "output_type": "stream",
     "text": [
      "/usr/local/lib/python3.7/dist-packages/ipykernel_launcher.py:77: FutureWarning: The error_bad_lines argument has been deprecated and will be removed in a future version.\n",
      "\n",
      "\n",
      "/usr/local/lib/python3.7/dist-packages/ipykernel_launcher.py:89: FutureWarning: The error_bad_lines argument has been deprecated and will be removed in a future version.\n",
      "\n",
      "\n",
      "/usr/local/lib/python3.7/dist-packages/ipykernel_launcher.py:90: FutureWarning: The error_bad_lines argument has been deprecated and will be removed in a future version.\n",
      "\n",
      "\n",
      "/usr/local/lib/python3.7/dist-packages/ipykernel_launcher.py:91: FutureWarning: The error_bad_lines argument has been deprecated and will be removed in a future version.\n",
      "\n",
      "\n",
      "345it [01:07,  5.14it/s]\n"
     ]
    },
    {
     "name": "stdout",
     "output_type": "stream",
     "text": [
      "Epoch 1 Loss 0.9865   \n"
     ]
    },
    {
     "name": "stderr",
     "output_type": "stream",
     "text": [
      "345it [00:43,  7.89it/s]\n"
     ]
    },
    {
     "name": "stdout",
     "output_type": "stream",
     "text": [
      "Epoch 2 Loss 0.6817   \n"
     ]
    },
    {
     "name": "stderr",
     "output_type": "stream",
     "text": [
      "345it [00:44,  7.77it/s]\n"
     ]
    },
    {
     "name": "stdout",
     "output_type": "stream",
     "text": [
      "Epoch 3 Loss 0.2528   \n"
     ]
    },
    {
     "name": "stderr",
     "output_type": "stream",
     "text": [
      "345it [00:44,  7.68it/s]\n"
     ]
    },
    {
     "name": "stdout",
     "output_type": "stream",
     "text": [
      "Epoch 4 Loss 0.1756   \n"
     ]
    },
    {
     "name": "stderr",
     "output_type": "stream",
     "text": [
      "345it [00:45,  7.63it/s]\n"
     ]
    },
    {
     "name": "stdout",
     "output_type": "stream",
     "text": [
      "Epoch 5 Loss 0.1442   \n"
     ]
    },
    {
     "name": "stderr",
     "output_type": "stream",
     "text": [
      "345it [00:45,  7.59it/s]\n"
     ]
    },
    {
     "name": "stdout",
     "output_type": "stream",
     "text": [
      "Epoch 6 Loss 0.1318   \n"
     ]
    },
    {
     "name": "stderr",
     "output_type": "stream",
     "text": [
      "345it [00:45,  7.58it/s]\n"
     ]
    },
    {
     "name": "stdout",
     "output_type": "stream",
     "text": [
      "Epoch 7 Loss 0.1156   \n"
     ]
    },
    {
     "name": "stderr",
     "output_type": "stream",
     "text": [
      "345it [00:45,  7.57it/s]\n"
     ]
    },
    {
     "name": "stdout",
     "output_type": "stream",
     "text": [
      "Epoch 8 Loss 0.0993   \n"
     ]
    },
    {
     "name": "stderr",
     "output_type": "stream",
     "text": [
      "345it [00:45,  7.57it/s]\n"
     ]
    },
    {
     "name": "stdout",
     "output_type": "stream",
     "text": [
      "Epoch 9 Loss 0.1017   \n"
     ]
    },
    {
     "name": "stderr",
     "output_type": "stream",
     "text": [
      "345it [00:45,  7.57it/s]\n"
     ]
    },
    {
     "name": "stdout",
     "output_type": "stream",
     "text": [
      "Epoch 10 Loss 0.0801   \n"
     ]
    },
    {
     "name": "stderr",
     "output_type": "stream",
     "text": [
      "345it [00:45,  7.57it/s]\n"
     ]
    },
    {
     "name": "stdout",
     "output_type": "stream",
     "text": [
      "Epoch 11 Loss 0.0702   \n"
     ]
    },
    {
     "name": "stderr",
     "output_type": "stream",
     "text": [
      "345it [00:45,  7.57it/s]\n"
     ]
    },
    {
     "name": "stdout",
     "output_type": "stream",
     "text": [
      "Epoch 12 Loss 0.0630   \n"
     ]
    },
    {
     "name": "stderr",
     "output_type": "stream",
     "text": [
      "345it [00:45,  7.57it/s]\n"
     ]
    },
    {
     "name": "stdout",
     "output_type": "stream",
     "text": [
      "Epoch 13 Loss 0.0630   \n"
     ]
    },
    {
     "name": "stderr",
     "output_type": "stream",
     "text": [
      "345it [00:45,  7.58it/s]\n"
     ]
    },
    {
     "name": "stdout",
     "output_type": "stream",
     "text": [
      "Epoch 14 Loss 0.0665   \n"
     ]
    },
    {
     "name": "stderr",
     "output_type": "stream",
     "text": [
      "345it [00:45,  7.57it/s]\n"
     ]
    },
    {
     "name": "stdout",
     "output_type": "stream",
     "text": [
      "Epoch 15 Loss 0.0670   \n"
     ]
    },
    {
     "name": "stderr",
     "output_type": "stream",
     "text": [
      "345it [00:45,  7.57it/s]\n"
     ]
    },
    {
     "name": "stdout",
     "output_type": "stream",
     "text": [
      "Epoch 16 Loss 0.0567   \n"
     ]
    },
    {
     "name": "stderr",
     "output_type": "stream",
     "text": [
      "345it [00:45,  7.57it/s]\n"
     ]
    },
    {
     "name": "stdout",
     "output_type": "stream",
     "text": [
      "Epoch 17 Loss 0.0417   \n"
     ]
    },
    {
     "name": "stderr",
     "output_type": "stream",
     "text": [
      "345it [00:45,  7.57it/s]\n"
     ]
    },
    {
     "name": "stdout",
     "output_type": "stream",
     "text": [
      "Epoch 18 Loss 0.0366   \n"
     ]
    },
    {
     "name": "stderr",
     "output_type": "stream",
     "text": [
      "345it [00:45,  7.57it/s]\n"
     ]
    },
    {
     "name": "stdout",
     "output_type": "stream",
     "text": [
      "Epoch 19 Loss 0.0338   \n"
     ]
    },
    {
     "name": "stderr",
     "output_type": "stream",
     "text": [
      "345it [00:44,  7.79it/s]\n"
     ]
    },
    {
     "name": "stdout",
     "output_type": "stream",
     "text": [
      "Epoch 20 Loss 0.0445   \n",
      "Calculating validation scores:\n",
      " gt:  अंकन  pred:  आंकन\n",
      " gt:  अनुसूया  pred:  अनुसूय\n",
      " gt:  असमानताएं  pred:  असमानतयान\n",
      " gt:  आश्चर्यजनक  pred:  आश्चर्यमणक\n",
      " gt:  उतराई  pred:  उतराई\n",
      " gt:  एड  pred:  एडी\n",
      " gt:  कंट्रोल्ड  pred:  कंट्रोल्ड\n",
      " gt:  काउंटर  pred:  कंटर\n",
      " gt:  कैरेक्टर्स  pred:  चैराक्टर्स\n",
      " gt:  खट्टा  pred:  खट्टा\n",
      " gt:  गीले  pred:  गिले\n",
      " gt:  चचेरी  pred:  चाचेरी\n",
      " gt:  छाछ  pred:  छाछ\n",
      " gt:  जनसूचना  pred:  जनसूचना\n",
      " gt:  जियान  pred:  जीएं\n",
      " gt:  झोंकने  pred:  झोंकने\n",
      " gt:  डायनासोरों  pred:  डायनसोरो\n",
      " gt:  तर  pred:  तार\n",
      " gt:  थैला  pred:  थैला\n",
      " gt:  दिलायी  pred:  दिलायी\n",
      " gt:  नक्सलवादियों  pred:  नकसलवादियों\n",
      " gt:  निरक्षरता  pred:  निरक्षरता\n",
      " gt:  पप्पी  pred:  पापी\n",
      " gt:  पिछड़ी  pred:  पिछड़ी\n",
      " gt:  प्रतिनिधत्व  pred:  प्रतिनिधि\n",
      " gt:  फालना  pred:  फलना\n",
      " gt:  बचाएं  pred:  बचाएं\n",
      " gt:  बाइंडर  pred:  बिंदर\n",
      " gt:  बैनेट  pred:  बैनेट\n",
      " gt:  भुगतता  pred:  भूगता\n",
      " gt:  मनाया  pred:  मानाया\n",
      " gt:  मिलिंद  pred:  मिलिंड\n",
      " gt:  मैनी  pred:  मान्य\n",
      " gt:  रफीक  pred:  रफिक\n",
      " gt:  रिषभ  pred:  रिशभ\n",
      " gt:  लड़ाकों  pred:  लादाकों\n",
      " gt:  वर्षा  pred:  वर्षा\n",
      " gt:  वैद्यराज  pred:  वैद्याराज\n",
      " gt:  शीर्षक  pred:  शीर्षक\n",
      " gt:  सत्यांश  pred:  सत्यांश\n",
      " gt:  सिंह  pred:  सिंहा\n",
      " gt:  सेट  pred:  सेत\n",
      " gt:  स्वभाव  pred:  स्वाभाव\n",
      " gt:  हाश्मी  pred:  हाशमी\n",
      "validation accuracy:  0.39513538320330427\n",
      "Calculating test scores:\n",
      " gt:  अंक  pred:  एंक\n",
      " gt:  अनुकूलता  pred:  अनुकूलता\n",
      " gt:  अवरु  pred:  आवरू\n",
      " gt:  आबरू  pred:  आब्रू\n",
      " gt:  इनहेलेशन  pred:  इन्हेलेशन\n",
      " gt:  उमेश  pred:  उम्मेश\n",
      " gt:  एस्फाल्ट  pred:  असफलत\n",
      " gt:  कपिंग  pred:  केपिंग\n",
      " gt:  कासिम  pred:  कसीम\n",
      " gt:  क्षितिज  pred:  क्षितिज\n",
      " gt:  गिरजाघरों  pred:  गिरजाघरों\n",
      " gt:  चतुष्कोणीय  pred:  चतुशकोनीय\n",
      " gt:  छागला  pred:  छगला\n",
      " gt:  जलगति  pred:  जलागती\n",
      " gt:  जुए  pred:  जू\n",
      " gt:  टाऊ  pred:  ताऊ\n",
      " gt:  डुलने  pred:  दुलने\n",
      " gt:  तापमानों  pred:  तापमानों\n",
      " gt:  दहल  pred:  दहाल\n",
      " gt:  देवापुर  pred:  देवापुर\n",
      " gt:  नजरियों  pred:  नजरियों\n",
      " gt:  निपटारा  pred:  निपटारा\n",
      " gt:  पटकथाएं  pred:  पटकथाएं\n",
      " gt:  पाठशालाएं  pred:  पाठशालाएं\n",
      " gt:  पुष्पा  pred:  पुष्प\n",
      " gt:  प्राथमिकता  pred:  प्रथमिकता\n",
      " gt:  फिरती  pred:  फिर्टी\n",
      " gt:  बतलाए  pred:  बतलाए\n",
      " gt:  बाल्टी  pred:  बालती\n",
      " gt:  बोदरा  pred:  बोद्रा\n",
      " gt:  भूलो  pred:  भूलो\n",
      " gt:  महकने  pred:  महकाने\n",
      " gt:  मुबारकपुर  pred:  मुबार्कपुर\n",
      " gt:  मोहानी  pred:  मोहनी\n",
      " gt:  राजमां  pred:  राजमान\n",
      " gt:  रेशे  pred:  रेशे\n",
      " gt:  लांचर  pred:  लांचर\n",
      " gt:  वर्णित  pred:  वर्नीत\n",
      " gt:  विमर्शों  pred:  विमार्शों\n",
      " gt:  शमिताभ  pred:  शमिताभ\n",
      " gt:  संप्रभुता  pred:  संप्रभुता\n",
      " gt:  सरगना  pred:  सरगना\n",
      " gt:  सिमटे  pred:  सीमते\n",
      " gt:  सेल्फ  pred:  सेल्फ\n",
      " gt:  स्वीट  pred:  स्वीट\n",
      " gt:  होस्टेस  pred:  होस्ट्स\n",
      "test accuracy :  0.39626832518880495\n"
     ]
    },
    {
     "data": {
      "text/html": [
       "Waiting for W&B process to finish... <strong style=\"color:green\">(success).</strong>"
      ],
      "text/plain": [
       "<IPython.core.display.HTML object>"
      ]
     },
     "metadata": {},
     "output_type": "display_data"
    },
    {
     "data": {
      "application/vnd.jupyter.widget-view+json": {
       "model_id": "f53d96963d174b62b54dabd64f4f7028",
       "version_major": 2,
       "version_minor": 0
      },
      "text/plain": [
       "VBox(children=(Label(value='0.001 MB of 0.001 MB uploaded (0.000 MB deduped)\\r'), FloatProgress(value=1.0, max…"
      ]
     },
     "metadata": {},
     "output_type": "display_data"
    },
    {
     "data": {
      "text/html": [
       "<style>\n",
       "    table.wandb td:nth-child(1) { padding: 0 10px; text-align: left ; width: auto;} td:nth-child(2) {text-align: left ; width: 100%}\n",
       "    .wandb-row { display: flex; flex-direction: row; flex-wrap: wrap; justify-content: flex-start; width: 100% }\n",
       "    .wandb-col { display: flex; flex-direction: column; flex-basis: 100%; flex: 1; padding: 10px; }\n",
       "    </style>\n",
       "<div class=\"wandb-row\"><div class=\"wandb-col\"><h3>Run history:</h3><br/><table class=\"wandb\"><tr><td>running_validation_word_accuracy</td><td>▁▇▆▇▇▇▇▇▇▇▇▇▇▇█▇▇▇▇█████████████████████</td></tr><tr><td>word_test_acc</td><td>▁</td></tr><tr><td>word_val_acc</td><td>▁</td></tr></table><br/></div><div class=\"wandb-col\"><h3>Run summary:</h3><br/><table class=\"wandb\"><tr><td>running_validation_word_accuracy</td><td>0.39642</td></tr><tr><td>word_test_acc</td><td>0.39627</td></tr><tr><td>word_val_acc</td><td>0.39514</td></tr></table><br/></div></div>"
      ],
      "text/plain": [
       "<IPython.core.display.HTML object>"
      ]
     },
     "metadata": {},
     "output_type": "display_data"
    },
    {
     "data": {
      "text/html": [
       "Synced <strong style=\"color:#cdcd00\">crisp-sweep-2</strong>: <a href=\"https://wandb.ai/cs21s006_cs21s043/cs6910_assigment3_attention/runs/qve0573e\" target=\"_blank\">https://wandb.ai/cs21s006_cs21s043/cs6910_assigment3_attention/runs/qve0573e</a><br/>Synced 5 W&B file(s), 0 media file(s), 0 artifact file(s) and 0 other file(s)"
      ],
      "text/plain": [
       "<IPython.core.display.HTML object>"
      ]
     },
     "metadata": {},
     "output_type": "display_data"
    },
    {
     "data": {
      "text/html": [
       "Find logs at: <code>./wandb/run-20220504_172619-qve0573e/logs</code>"
      ],
      "text/plain": [
       "<IPython.core.display.HTML object>"
      ]
     },
     "metadata": {},
     "output_type": "display_data"
    },
    {
     "name": "stderr",
     "output_type": "stream",
     "text": [
      "\u001b[34m\u001b[1mwandb\u001b[0m: Agent Starting Run: le6zqho9 with config:\n",
      "\u001b[34m\u001b[1mwandb\u001b[0m: \tbatch_size: 256\n",
      "\u001b[34m\u001b[1mwandb\u001b[0m: \tcell_type: lstm\n",
      "\u001b[34m\u001b[1mwandb\u001b[0m: \tdropout: 0.3\n",
      "\u001b[34m\u001b[1mwandb\u001b[0m: \tepochs: 20\n",
      "\u001b[34m\u001b[1mwandb\u001b[0m: \thidden_units: 768\n",
      "\u001b[34m\u001b[1mwandb\u001b[0m: \tinitializer: glorot_uniform\n",
      "\u001b[34m\u001b[1mwandb\u001b[0m: \tinput_embedding_size: 128\n",
      "\u001b[34m\u001b[1mwandb\u001b[0m: \tlearning_rate: 0.002\n",
      "\u001b[34m\u001b[1mwandb\u001b[0m: \u001b[33mWARNING\u001b[0m Ignored wandb.init() arg project when running a sweep.\n",
      "\u001b[34m\u001b[1mwandb\u001b[0m: \u001b[33mWARNING\u001b[0m Ignored wandb.init() arg entity when running a sweep.\n"
     ]
    },
    {
     "data": {
      "text/html": [
       "Tracking run with wandb version 0.12.16"
      ],
      "text/plain": [
       "<IPython.core.display.HTML object>"
      ]
     },
     "metadata": {},
     "output_type": "display_data"
    },
    {
     "data": {
      "text/html": [
       "Run data is saved locally in <code>/content/wandb/run-20220504_175309-le6zqho9</code>"
      ],
      "text/plain": [
       "<IPython.core.display.HTML object>"
      ]
     },
     "metadata": {},
     "output_type": "display_data"
    },
    {
     "data": {
      "text/html": [
       "Syncing run <strong><a href=\"https://wandb.ai/cs21s006_cs21s043/cs6910_assigment3_attention/runs/le6zqho9\" target=\"_blank\">magic-sweep-4</a></strong> to <a href=\"https://wandb.ai/cs21s006_cs21s043/cs6910_assigment3_attention\" target=\"_blank\">Weights & Biases</a> (<a href=\"https://wandb.me/run\" target=\"_blank\">docs</a>)<br/>Sweep page:  <a href=\"https://wandb.ai/cs21s006_cs21s043/cs6910_assigment3_attention/sweeps/h6lw7vkh\" target=\"_blank\">https://wandb.ai/cs21s006_cs21s043/cs6910_assigment3_attention/sweeps/h6lw7vkh</a>"
      ],
      "text/plain": [
       "<IPython.core.display.HTML object>"
      ]
     },
     "metadata": {},
     "output_type": "display_data"
    },
    {
     "name": "stdout",
     "output_type": "stream",
     "text": [
      "{'batch_size': 256, 'cell_type': 'lstm', 'dropout': 0.3, 'epochs': 20, 'hidden_units': 768, 'initializer': 'glorot_uniform', 'input_embedding_size': 128, 'learning_rate': 0.002}\n"
     ]
    },
    {
     "name": "stderr",
     "output_type": "stream",
     "text": [
      "172it [01:03,  2.69it/s]\n"
     ]
    },
    {
     "name": "stdout",
     "output_type": "stream",
     "text": [
      "Epoch 1 Loss 1.0036   \n"
     ]
    },
    {
     "name": "stderr",
     "output_type": "stream",
     "text": [
      "172it [00:38,  4.44it/s]\n"
     ]
    },
    {
     "name": "stdout",
     "output_type": "stream",
     "text": [
      "Epoch 2 Loss 0.5061   \n"
     ]
    },
    {
     "name": "stderr",
     "output_type": "stream",
     "text": [
      "172it [00:39,  4.34it/s]\n"
     ]
    },
    {
     "name": "stdout",
     "output_type": "stream",
     "text": [
      "Epoch 3 Loss 0.2049   \n"
     ]
    },
    {
     "name": "stderr",
     "output_type": "stream",
     "text": [
      "172it [00:40,  4.29it/s]\n"
     ]
    },
    {
     "name": "stdout",
     "output_type": "stream",
     "text": [
      "Epoch 4 Loss 0.1585   \n"
     ]
    },
    {
     "name": "stderr",
     "output_type": "stream",
     "text": [
      "172it [00:40,  4.25it/s]\n"
     ]
    },
    {
     "name": "stdout",
     "output_type": "stream",
     "text": [
      "Epoch 5 Loss 0.1331   \n"
     ]
    },
    {
     "name": "stderr",
     "output_type": "stream",
     "text": [
      "172it [00:40,  4.22it/s]\n"
     ]
    },
    {
     "name": "stdout",
     "output_type": "stream",
     "text": [
      "Epoch 6 Loss 0.1140   \n"
     ]
    },
    {
     "name": "stderr",
     "output_type": "stream",
     "text": [
      "172it [00:40,  4.21it/s]\n"
     ]
    },
    {
     "name": "stdout",
     "output_type": "stream",
     "text": [
      "Epoch 7 Loss 0.1135   \n"
     ]
    },
    {
     "name": "stderr",
     "output_type": "stream",
     "text": [
      "172it [00:40,  4.20it/s]\n"
     ]
    },
    {
     "name": "stdout",
     "output_type": "stream",
     "text": [
      "Epoch 8 Loss 0.0931   \n"
     ]
    },
    {
     "name": "stderr",
     "output_type": "stream",
     "text": [
      "172it [00:39,  4.32it/s]\n"
     ]
    },
    {
     "name": "stdout",
     "output_type": "stream",
     "text": [
      "Epoch 9 Loss 0.0758   \n"
     ]
    },
    {
     "name": "stderr",
     "output_type": "stream",
     "text": [
      "172it [00:40,  4.26it/s]\n"
     ]
    },
    {
     "name": "stdout",
     "output_type": "stream",
     "text": [
      "Epoch 10 Loss 0.0797   \n"
     ]
    },
    {
     "name": "stderr",
     "output_type": "stream",
     "text": [
      "172it [00:40,  4.23it/s]\n"
     ]
    },
    {
     "name": "stdout",
     "output_type": "stream",
     "text": [
      "Epoch 11 Loss 0.0653   \n"
     ]
    },
    {
     "name": "stderr",
     "output_type": "stream",
     "text": [
      "172it [00:40,  4.22it/s]\n"
     ]
    },
    {
     "name": "stdout",
     "output_type": "stream",
     "text": [
      "Epoch 12 Loss 0.0852   \n"
     ]
    },
    {
     "name": "stderr",
     "output_type": "stream",
     "text": [
      "172it [00:40,  4.20it/s]\n"
     ]
    },
    {
     "name": "stdout",
     "output_type": "stream",
     "text": [
      "Epoch 13 Loss 0.0759   \n"
     ]
    },
    {
     "name": "stderr",
     "output_type": "stream",
     "text": [
      "172it [00:41,  4.19it/s]\n"
     ]
    },
    {
     "name": "stdout",
     "output_type": "stream",
     "text": [
      "Epoch 14 Loss 0.0559   \n"
     ]
    },
    {
     "name": "stderr",
     "output_type": "stream",
     "text": [
      "172it [00:41,  4.18it/s]\n"
     ]
    },
    {
     "name": "stdout",
     "output_type": "stream",
     "text": [
      "Epoch 15 Loss 0.0457   \n"
     ]
    },
    {
     "name": "stderr",
     "output_type": "stream",
     "text": [
      "172it [00:41,  4.18it/s]\n"
     ]
    },
    {
     "name": "stdout",
     "output_type": "stream",
     "text": [
      "Epoch 16 Loss 0.0393   \n"
     ]
    },
    {
     "name": "stderr",
     "output_type": "stream",
     "text": [
      "172it [00:41,  4.17it/s]\n"
     ]
    },
    {
     "name": "stdout",
     "output_type": "stream",
     "text": [
      "Epoch 17 Loss 0.0347   \n"
     ]
    },
    {
     "name": "stderr",
     "output_type": "stream",
     "text": [
      "172it [00:39,  4.32it/s]\n"
     ]
    },
    {
     "name": "stdout",
     "output_type": "stream",
     "text": [
      "Epoch 18 Loss 0.0452   \n"
     ]
    },
    {
     "name": "stderr",
     "output_type": "stream",
     "text": [
      "172it [00:40,  4.27it/s]\n"
     ]
    },
    {
     "name": "stdout",
     "output_type": "stream",
     "text": [
      "Epoch 19 Loss 0.0572   \n"
     ]
    },
    {
     "name": "stderr",
     "output_type": "stream",
     "text": [
      "172it [00:40,  4.23it/s]\n"
     ]
    },
    {
     "name": "stdout",
     "output_type": "stream",
     "text": [
      "Epoch 20 Loss 0.0402   \n",
      "Calculating validation scores:\n",
      " gt:  अंकन  pred:  आंकन\n",
      " gt:  अनुसूया  pred:  अनुसूया\n",
      " gt:  असमानताएं  pred:  असमानतयें\n",
      " gt:  आश्चर्यजनक  pred:  आश्चर्यजनक\n",
      " gt:  उतराई  pred:  उतराई\n",
      " gt:  एड  pred:  एडी\n",
      " gt:  कंट्रोल्ड  pred:  कॉन्ट्रोलर्ड\n",
      " gt:  काउंटर  pred:  कंटर\n",
      " gt:  कैरेक्टर्स  pred:  चार्स्टर्स\n",
      " gt:  खट्टा  pred:  खट्टा\n",
      " gt:  गीले  pred:  गीले\n",
      " gt:  चचेरी  pred:  चचेरी\n",
      " gt:  छाछ  pred:  छाछ\n",
      " gt:  जनसूचना  pred:  जनसूचना\n",
      " gt:  जियान  pred:  जिएं\n",
      " gt:  झोंकने  pred:  झोंकने\n",
      " gt:  डायनासोरों  pred:  डायनेसोरो\n",
      " gt:  तर  pred:  तर\n",
      " gt:  थैला  pred:  थाईला\n",
      " gt:  दिलायी  pred:  दिलाई\n",
      " gt:  नक्सलवादियों  pred:  नकसालवादियों\n",
      " gt:  निरक्षरता  pred:  निराक्षरता\n",
      " gt:  पप्पी  pred:  पापी\n",
      " gt:  पिछड़ी  pred:  पिछड़ी\n",
      " gt:  प्रतिनिधत्व  pred:  प्रतिनिधित्व\n",
      " gt:  फालना  pred:  फलना\n",
      " gt:  बचाएं  pred:  बचाएं\n",
      " gt:  बाइंडर  pred:  बिंदर\n",
      " gt:  बैनेट  pred:  बैनेट\n",
      " gt:  भुगतता  pred:  भुगताता\n",
      " gt:  मनाया  pred:  मानाया\n",
      " gt:  मिलिंद  pred:  मिलींड\n",
      " gt:  मैनी  pred:  मान्य\n",
      " gt:  रफीक  pred:  रफ़िक\n",
      " gt:  रिषभ  pred:  ऋषभ\n",
      " gt:  लड़ाकों  pred:  लड़ाकों\n",
      " gt:  वर्षा  pred:  वर्षा\n",
      " gt:  वैद्यराज  pred:  वैद्यराज\n",
      " gt:  शीर्षक  pred:  शीर्षक\n",
      " gt:  सत्यांश  pred:  सत्यांश\n",
      " gt:  सिंह  pred:  सिंहा\n",
      " gt:  सेट  pred:  सेट\n",
      " gt:  स्वभाव  pred:  स्वाभाव\n",
      " gt:  हाश्मी  pred:  हाशमी\n",
      "validation accuracy:  0.4109683340982102\n",
      "Calculating test scores:\n",
      " gt:  अंक  pred:  अंक\n",
      " gt:  अनुकूलता  pred:  अनुकूलता\n",
      " gt:  अवरु  pred:  अवरू\n",
      " gt:  आबरू  pred:  आबरू\n",
      " gt:  इनहेलेशन  pred:  इन्हेलेशन\n",
      " gt:  उमेश  pred:  उम्यू\n",
      " gt:  एस्फाल्ट  pred:  अस्फलत\n",
      " gt:  कपिंग  pred:  कापिंग\n",
      " gt:  कासिम  pred:  कसीम\n",
      " gt:  क्षितिज  pred:  क्षितिज\n",
      " gt:  गिरजाघरों  pred:  गिरजाघरों\n",
      " gt:  चतुष्कोणीय  pred:  चतुशकोणिय\n",
      " gt:  छागला  pred:  छागला\n",
      " gt:  जलगति  pred:  जलागती\n",
      " gt:  जुए  pred:  जू\n",
      " gt:  टाऊ  pred:  ताऊ\n",
      " gt:  डुलने  pred:  दूलने\n",
      " gt:  तापमानों  pred:  तापमनों\n",
      " gt:  दहल  pred:  दहल\n",
      " gt:  देवापुर  pred:  देवपुर\n",
      " gt:  नजरियों  pred:  नज़रियों\n",
      " gt:  निपटारा  pred:  निपटारा\n",
      " gt:  पटकथाएं  pred:  पटकथाएं\n",
      " gt:  पाठशालाएं  pred:  पाठशालाएं\n",
      " gt:  पुष्पा  pred:  पुष्प\n",
      " gt:  प्राथमिकता  pred:  प्रथमिकता\n",
      " gt:  फिरती  pred:  फिरती\n",
      " gt:  बतलाए  pred:  बतलाए\n",
      " gt:  बाल्टी  pred:  बालती\n",
      " gt:  बोदरा  pred:  बोद्रा\n",
      " gt:  भूलो  pred:  भुलो\n",
      " gt:  महकने  pred:  महकाने\n",
      " gt:  मुबारकपुर  pred:  मुबारकपुर\n",
      " gt:  मोहानी  pred:  मोहनी\n",
      " gt:  राजमां  pred:  राजमान\n",
      " gt:  रेशे  pred:  रेशे\n",
      " gt:  लांचर  pred:  लांचर\n",
      " gt:  वर्णित  pred:  वर्नित\n",
      " gt:  विमर्शों  pred:  विमर्षों\n",
      " gt:  शमिताभ  pred:  शमिताभ\n",
      " gt:  संप्रभुता  pred:  संप्रभूता\n",
      " gt:  सरगना  pred:  सरगना\n",
      " gt:  सिमटे  pred:  सिमटे\n",
      " gt:  सेल्फ  pred:  सेल्फ\n",
      " gt:  स्वीट  pred:  स्वीट\n",
      " gt:  होस्टेस  pred:  हस्सेस\n",
      "test accuracy :  0.4051532652154598\n"
     ]
    },
    {
     "data": {
      "text/html": [
       "Waiting for W&B process to finish... <strong style=\"color:green\">(success).</strong>"
      ],
      "text/plain": [
       "<IPython.core.display.HTML object>"
      ]
     },
     "metadata": {},
     "output_type": "display_data"
    },
    {
     "data": {
      "application/vnd.jupyter.widget-view+json": {
       "model_id": "871a18a44e934914b814fd4f6f998b54",
       "version_major": 2,
       "version_minor": 0
      },
      "text/plain": [
       "VBox(children=(Label(value='0.001 MB of 0.001 MB uploaded (0.000 MB deduped)\\r'), FloatProgress(value=1.0, max…"
      ]
     },
     "metadata": {},
     "output_type": "display_data"
    },
    {
     "data": {
      "text/html": [
       "<style>\n",
       "    table.wandb td:nth-child(1) { padding: 0 10px; text-align: left ; width: auto;} td:nth-child(2) {text-align: left ; width: 100%}\n",
       "    .wandb-row { display: flex; flex-direction: row; flex-wrap: wrap; justify-content: flex-start; width: 100% }\n",
       "    .wandb-col { display: flex; flex-direction: column; flex-basis: 100%; flex: 1; padding: 10px; }\n",
       "    </style>\n",
       "<div class=\"wandb-row\"><div class=\"wandb-col\"><h3>Run history:</h3><br/><table class=\"wandb\"><tr><td>running_validation_word_accuracy</td><td>▁▇▇▇▇▇▇▇▇▇▇▇████████████████████████████</td></tr><tr><td>word_test_acc</td><td>▁</td></tr><tr><td>word_val_acc</td><td>▁</td></tr></table><br/></div><div class=\"wandb-col\"><h3>Run summary:</h3><br/><table class=\"wandb\"><tr><td>running_validation_word_accuracy</td><td>0.41339</td></tr><tr><td>word_test_acc</td><td>0.40515</td></tr><tr><td>word_val_acc</td><td>0.41097</td></tr></table><br/></div></div>"
      ],
      "text/plain": [
       "<IPython.core.display.HTML object>"
      ]
     },
     "metadata": {},
     "output_type": "display_data"
    },
    {
     "data": {
      "text/html": [
       "Synced <strong style=\"color:#cdcd00\">magic-sweep-4</strong>: <a href=\"https://wandb.ai/cs21s006_cs21s043/cs6910_assigment3_attention/runs/le6zqho9\" target=\"_blank\">https://wandb.ai/cs21s006_cs21s043/cs6910_assigment3_attention/runs/le6zqho9</a><br/>Synced 5 W&B file(s), 0 media file(s), 0 artifact file(s) and 0 other file(s)"
      ],
      "text/plain": [
       "<IPython.core.display.HTML object>"
      ]
     },
     "metadata": {},
     "output_type": "display_data"
    },
    {
     "data": {
      "text/html": [
       "Find logs at: <code>./wandb/run-20220504_175309-le6zqho9/logs</code>"
      ],
      "text/plain": [
       "<IPython.core.display.HTML object>"
      ]
     },
     "metadata": {},
     "output_type": "display_data"
    },
    {
     "name": "stderr",
     "output_type": "stream",
     "text": [
      "\u001b[34m\u001b[1mwandb\u001b[0m: Agent Starting Run: 9x3k0ij9 with config:\n",
      "\u001b[34m\u001b[1mwandb\u001b[0m: \tbatch_size: 256\n",
      "\u001b[34m\u001b[1mwandb\u001b[0m: \tcell_type: lstm\n",
      "\u001b[34m\u001b[1mwandb\u001b[0m: \tdropout: 0.3\n",
      "\u001b[34m\u001b[1mwandb\u001b[0m: \tepochs: 20\n",
      "\u001b[34m\u001b[1mwandb\u001b[0m: \thidden_units: 768\n",
      "\u001b[34m\u001b[1mwandb\u001b[0m: \tinitializer: orthogonal\n",
      "\u001b[34m\u001b[1mwandb\u001b[0m: \tinput_embedding_size: 128\n",
      "\u001b[34m\u001b[1mwandb\u001b[0m: \tlearning_rate: 0.001\n",
      "\u001b[34m\u001b[1mwandb\u001b[0m: \u001b[33mWARNING\u001b[0m Ignored wandb.init() arg project when running a sweep.\n",
      "\u001b[34m\u001b[1mwandb\u001b[0m: \u001b[33mWARNING\u001b[0m Ignored wandb.init() arg entity when running a sweep.\n"
     ]
    },
    {
     "data": {
      "text/html": [
       "Tracking run with wandb version 0.12.16"
      ],
      "text/plain": [
       "<IPython.core.display.HTML object>"
      ]
     },
     "metadata": {},
     "output_type": "display_data"
    },
    {
     "data": {
      "text/html": [
       "Run data is saved locally in <code>/content/wandb/run-20220504_182009-9x3k0ij9</code>"
      ],
      "text/plain": [
       "<IPython.core.display.HTML object>"
      ]
     },
     "metadata": {},
     "output_type": "display_data"
    },
    {
     "data": {
      "text/html": [
       "Syncing run <strong><a href=\"https://wandb.ai/cs21s006_cs21s043/cs6910_assigment3_attention/runs/9x3k0ij9\" target=\"_blank\">crimson-sweep-6</a></strong> to <a href=\"https://wandb.ai/cs21s006_cs21s043/cs6910_assigment3_attention\" target=\"_blank\">Weights & Biases</a> (<a href=\"https://wandb.me/run\" target=\"_blank\">docs</a>)<br/>Sweep page:  <a href=\"https://wandb.ai/cs21s006_cs21s043/cs6910_assigment3_attention/sweeps/h6lw7vkh\" target=\"_blank\">https://wandb.ai/cs21s006_cs21s043/cs6910_assigment3_attention/sweeps/h6lw7vkh</a>"
      ],
      "text/plain": [
       "<IPython.core.display.HTML object>"
      ]
     },
     "metadata": {},
     "output_type": "display_data"
    },
    {
     "name": "stdout",
     "output_type": "stream",
     "text": [
      "{'batch_size': 256, 'cell_type': 'lstm', 'dropout': 0.3, 'epochs': 20, 'hidden_units': 768, 'initializer': 'orthogonal', 'input_embedding_size': 128, 'learning_rate': 0.001}\n"
     ]
    },
    {
     "name": "stderr",
     "output_type": "stream",
     "text": [
      "172it [01:04,  2.68it/s]\n"
     ]
    },
    {
     "name": "stdout",
     "output_type": "stream",
     "text": [
      "Epoch 1 Loss 1.0435   \n"
     ]
    },
    {
     "name": "stderr",
     "output_type": "stream",
     "text": [
      "172it [00:38,  4.42it/s]\n"
     ]
    },
    {
     "name": "stdout",
     "output_type": "stream",
     "text": [
      "Epoch 2 Loss 0.8352   \n"
     ]
    },
    {
     "name": "stderr",
     "output_type": "stream",
     "text": [
      "172it [00:39,  4.34it/s]\n"
     ]
    },
    {
     "name": "stdout",
     "output_type": "stream",
     "text": [
      "Epoch 3 Loss 0.4315   \n"
     ]
    },
    {
     "name": "stderr",
     "output_type": "stream",
     "text": [
      "172it [00:40,  4.28it/s]\n"
     ]
    },
    {
     "name": "stdout",
     "output_type": "stream",
     "text": [
      "Epoch 4 Loss 0.2209   \n"
     ]
    },
    {
     "name": "stderr",
     "output_type": "stream",
     "text": [
      "172it [00:40,  4.23it/s]\n"
     ]
    },
    {
     "name": "stdout",
     "output_type": "stream",
     "text": [
      "Epoch 5 Loss 0.1735   \n"
     ]
    },
    {
     "name": "stderr",
     "output_type": "stream",
     "text": [
      "172it [00:40,  4.21it/s]\n"
     ]
    },
    {
     "name": "stdout",
     "output_type": "stream",
     "text": [
      "Epoch 6 Loss 0.1493   \n"
     ]
    },
    {
     "name": "stderr",
     "output_type": "stream",
     "text": [
      "172it [00:41,  4.19it/s]\n"
     ]
    },
    {
     "name": "stdout",
     "output_type": "stream",
     "text": [
      "Epoch 7 Loss 0.1375   \n"
     ]
    },
    {
     "name": "stderr",
     "output_type": "stream",
     "text": [
      "172it [00:39,  4.31it/s]\n"
     ]
    },
    {
     "name": "stdout",
     "output_type": "stream",
     "text": [
      "Epoch 8 Loss 0.1173   \n"
     ]
    },
    {
     "name": "stderr",
     "output_type": "stream",
     "text": [
      "172it [00:40,  4.26it/s]\n"
     ]
    },
    {
     "name": "stdout",
     "output_type": "stream",
     "text": [
      "Epoch 9 Loss 0.1060   \n"
     ]
    },
    {
     "name": "stderr",
     "output_type": "stream",
     "text": [
      "172it [00:40,  4.22it/s]\n"
     ]
    },
    {
     "name": "stdout",
     "output_type": "stream",
     "text": [
      "Epoch 10 Loss 0.1456   \n"
     ]
    },
    {
     "name": "stderr",
     "output_type": "stream",
     "text": [
      "172it [00:40,  4.20it/s]\n"
     ]
    },
    {
     "name": "stdout",
     "output_type": "stream",
     "text": [
      "Epoch 11 Loss 0.1361   \n"
     ]
    },
    {
     "name": "stderr",
     "output_type": "stream",
     "text": [
      "172it [00:41,  4.19it/s]\n"
     ]
    },
    {
     "name": "stdout",
     "output_type": "stream",
     "text": [
      "Epoch 12 Loss 0.0987   \n"
     ]
    },
    {
     "name": "stderr",
     "output_type": "stream",
     "text": [
      "172it [00:39,  4.32it/s]\n"
     ]
    },
    {
     "name": "stdout",
     "output_type": "stream",
     "text": [
      "Epoch 13 Loss 0.0845   \n"
     ]
    },
    {
     "name": "stderr",
     "output_type": "stream",
     "text": [
      "172it [00:40,  4.26it/s]\n"
     ]
    },
    {
     "name": "stdout",
     "output_type": "stream",
     "text": [
      "Epoch 14 Loss 0.0772   \n"
     ]
    },
    {
     "name": "stderr",
     "output_type": "stream",
     "text": [
      "172it [00:40,  4.22it/s]\n"
     ]
    },
    {
     "name": "stdout",
     "output_type": "stream",
     "text": [
      "Epoch 15 Loss 0.0717   \n"
     ]
    },
    {
     "name": "stderr",
     "output_type": "stream",
     "text": [
      "172it [00:40,  4.20it/s]\n"
     ]
    },
    {
     "name": "stdout",
     "output_type": "stream",
     "text": [
      "Epoch 16 Loss 0.0711   \n"
     ]
    },
    {
     "name": "stderr",
     "output_type": "stream",
     "text": [
      "172it [00:40,  4.20it/s]\n"
     ]
    },
    {
     "name": "stdout",
     "output_type": "stream",
     "text": [
      "Epoch 17 Loss 0.0688   \n"
     ]
    },
    {
     "name": "stderr",
     "output_type": "stream",
     "text": [
      "172it [00:39,  4.33it/s]\n"
     ]
    },
    {
     "name": "stdout",
     "output_type": "stream",
     "text": [
      "Epoch 18 Loss 0.0556   \n"
     ]
    },
    {
     "name": "stderr",
     "output_type": "stream",
     "text": [
      "172it [00:40,  4.26it/s]\n"
     ]
    },
    {
     "name": "stdout",
     "output_type": "stream",
     "text": [
      "Epoch 19 Loss 0.0526   \n"
     ]
    },
    {
     "name": "stderr",
     "output_type": "stream",
     "text": [
      "172it [00:40,  4.22it/s]\n"
     ]
    },
    {
     "name": "stdout",
     "output_type": "stream",
     "text": [
      "Epoch 20 Loss 0.0501   \n",
      "Calculating validation scores:\n",
      " gt:  अंकन  pred:  अंकन\n",
      " gt:  अनुसूया  pred:  अनुसूया\n",
      " gt:  असमानताएं  pred:  असमानतयें\n",
      " gt:  आश्चर्यजनक  pred:  अश्चर्यदनक\n",
      " gt:  उतराई  pred:  उतरे\n",
      " gt:  एड  pred:  एड\n",
      " gt:  कंट्रोल्ड  pred:  कॉन्ट्रोल्ड\n",
      " gt:  काउंटर  pred:  काउंटर\n",
      " gt:  कैरेक्टर्स  pred:  चारकतर्स\n",
      " gt:  खट्टा  pred:  खट्टा\n",
      " gt:  गीले  pred:  गिले\n",
      " gt:  चचेरी  pred:  चाचरी\n",
      " gt:  छाछ  pred:  छाच\n",
      " gt:  जनसूचना  pred:  जनसूच्णा\n",
      " gt:  जियान  pred:  जीयान\n",
      " gt:  झोंकने  pred:  झोंकाने\n",
      " gt:  डायनासोरों  pred:  डायनेनरो\n",
      " gt:  तर  pred:  तर्र\n",
      " gt:  थैला  pred:  थैला\n",
      " gt:  दिलायी  pred:  दिलायी\n",
      " gt:  नक्सलवादियों  pred:  नकसलवादियों\n",
      " gt:  निरक्षरता  pred:  निरक्षणता\n",
      " gt:  पप्पी  pred:  पेपी\n",
      " gt:  पिछड़ी  pred:  पिछड़ी\n",
      " gt:  प्रतिनिधत्व  pred:  प्रतिनिधित्व\n",
      " gt:  फालना  pred:  फलना\n",
      " gt:  बचाएं  pred:  बचाएं\n",
      " gt:  बाइंडर  pred:  बिंदर\n",
      " gt:  बैनेट  pred:  बैनेट\n",
      " gt:  भुगतता  pred:  भूगताता\n",
      " gt:  मनाया  pred:  मानाया\n",
      " gt:  मिलिंद  pred:  मिलींड\n",
      " gt:  मैनी  pred:  मान्य\n",
      " gt:  रफीक  pred:  राफिक\n",
      " gt:  रिषभ  pred:  रिशभ\n",
      " gt:  लड़ाकों  pred:  लड़कों\n",
      " gt:  वर्षा  pred:  वर्षा\n",
      " gt:  वैद्यराज  pred:  वैद्याराज\n",
      " gt:  शीर्षक  pred:  शीर्षक\n",
      " gt:  सत्यांश  pred:  सत्यांश\n",
      " gt:  सिंह  pred:  सिंहा\n",
      " gt:  सेट  pred:  सेट\n",
      " gt:  स्वभाव  pred:  स्वाभाव\n",
      " gt:  हाश्मी  pred:  हाशमी\n",
      "validation accuracy:  0.3997246443322625\n",
      "Calculating test scores:\n",
      " gt:  अंक  pred:  अंक\n",
      " gt:  अनुकूलता  pred:  अनुकूलता\n",
      " gt:  अवरु  pred:  अवरू\n",
      " gt:  आबरू  pred:  आब्रू\n",
      " gt:  इनहेलेशन  pred:  इन्हेलेशन\n",
      " gt:  उमेश  pred:  यूमेश\n",
      " gt:  एस्फाल्ट  pred:  अस्फलत\n",
      " gt:  कपिंग  pred:  कपिंग\n",
      " gt:  कासिम  pred:  कसीम\n",
      " gt:  क्षितिज  pred:  क्षितीज\n",
      " gt:  गिरजाघरों  pred:  गिरजाघरों\n",
      " gt:  चतुष्कोणीय  pred:  चतुश्कोनीय\n",
      " gt:  छागला  pred:  छागला\n",
      " gt:  जलगति  pred:  जलागति\n",
      " gt:  जुए  pred:  जू\n",
      " gt:  टाऊ  pred:  ताऊ\n",
      " gt:  डुलने  pred:  दुलने\n",
      " gt:  तापमानों  pred:  तापमानों\n",
      " gt:  दहल  pred:  दहल\n",
      " gt:  देवापुर  pred:  देवपुर\n",
      " gt:  नजरियों  pred:  नज़रियों\n",
      " gt:  निपटारा  pred:  निपटारा\n",
      " gt:  पटकथाएं  pred:  पटकथाएं\n",
      " gt:  पाठशालाएं  pred:  पाठशालाएं\n",
      " gt:  पुष्पा  pred:  पुष्प\n",
      " gt:  प्राथमिकता  pred:  प्रथमिकता\n",
      " gt:  फिरती  pred:  फर्टी\n",
      " gt:  बतलाए  pred:  बतलाये\n",
      " gt:  बाल्टी  pred:  बालती\n",
      " gt:  बोदरा  pred:  बोडरा\n",
      " gt:  भूलो  pred:  भुलो\n",
      " gt:  महकने  pred:  महकाने\n",
      " gt:  मुबारकपुर  pred:  मुबर्कपुर\n",
      " gt:  मोहानी  pred:  मोहनी\n",
      " gt:  राजमां  pred:  राजमान\n",
      " gt:  रेशे  pred:  रेशे\n",
      " gt:  लांचर  pred:  लांछार\n",
      " gt:  वर्णित  pred:  वर्नीत\n",
      " gt:  विमर्शों  pred:  विमर्शों\n",
      " gt:  शमिताभ  pred:  शमिताभ\n",
      " gt:  संप्रभुता  pred:  संप्रभुता\n",
      " gt:  सरगना  pred:  सारगना\n",
      " gt:  सिमटे  pred:  सीमते\n",
      " gt:  सेल्फ  pred:  सेल्फ\n",
      " gt:  स्वीट  pred:  स्वीत\n",
      " gt:  होस्टेस  pred:  होस्टेस\n",
      "test accuracy :  0.4035984007107952\n"
     ]
    },
    {
     "data": {
      "text/html": [
       "Waiting for W&B process to finish... <strong style=\"color:green\">(success).</strong>"
      ],
      "text/plain": [
       "<IPython.core.display.HTML object>"
      ]
     },
     "metadata": {},
     "output_type": "display_data"
    },
    {
     "data": {
      "application/vnd.jupyter.widget-view+json": {
       "model_id": "f6e1ae07afa948e893998056896f7522",
       "version_major": 2,
       "version_minor": 0
      },
      "text/plain": [
       "VBox(children=(Label(value='0.001 MB of 0.001 MB uploaded (0.000 MB deduped)\\r'), FloatProgress(value=1.0, max…"
      ]
     },
     "metadata": {},
     "output_type": "display_data"
    },
    {
     "data": {
      "text/html": [
       "<style>\n",
       "    table.wandb td:nth-child(1) { padding: 0 10px; text-align: left ; width: auto;} td:nth-child(2) {text-align: left ; width: 100%}\n",
       "    .wandb-row { display: flex; flex-direction: row; flex-wrap: wrap; justify-content: flex-start; width: 100% }\n",
       "    .wandb-col { display: flex; flex-direction: column; flex-basis: 100%; flex: 1; padding: 10px; }\n",
       "    </style>\n",
       "<div class=\"wandb-row\"><div class=\"wandb-col\"><h3>Run history:</h3><br/><table class=\"wandb\"><tr><td>running_validation_word_accuracy</td><td>█▂▂▁▁▁▁▁▁▁▁▁▁▁▁▁▁▁▁▁▁▁▁▂▂▂▂▁▁▁▁▁▁▁▁▁▁▁▂▂</td></tr><tr><td>word_test_acc</td><td>▁</td></tr><tr><td>word_val_acc</td><td>▁</td></tr></table><br/></div><div class=\"wandb-col\"><h3>Run summary:</h3><br/><table class=\"wandb\"><tr><td>running_validation_word_accuracy</td><td>0.40153</td></tr><tr><td>word_test_acc</td><td>0.4036</td></tr><tr><td>word_val_acc</td><td>0.39972</td></tr></table><br/></div></div>"
      ],
      "text/plain": [
       "<IPython.core.display.HTML object>"
      ]
     },
     "metadata": {},
     "output_type": "display_data"
    },
    {
     "data": {
      "text/html": [
       "Synced <strong style=\"color:#cdcd00\">crimson-sweep-6</strong>: <a href=\"https://wandb.ai/cs21s006_cs21s043/cs6910_assigment3_attention/runs/9x3k0ij9\" target=\"_blank\">https://wandb.ai/cs21s006_cs21s043/cs6910_assigment3_attention/runs/9x3k0ij9</a><br/>Synced 5 W&B file(s), 0 media file(s), 0 artifact file(s) and 0 other file(s)"
      ],
      "text/plain": [
       "<IPython.core.display.HTML object>"
      ]
     },
     "metadata": {},
     "output_type": "display_data"
    },
    {
     "data": {
      "text/html": [
       "Find logs at: <code>./wandb/run-20220504_182009-9x3k0ij9/logs</code>"
      ],
      "text/plain": [
       "<IPython.core.display.HTML object>"
      ]
     },
     "metadata": {},
     "output_type": "display_data"
    },
    {
     "name": "stderr",
     "output_type": "stream",
     "text": [
      "\u001b[34m\u001b[1mwandb\u001b[0m: Agent Starting Run: r005d4oo with config:\n",
      "\u001b[34m\u001b[1mwandb\u001b[0m: \tbatch_size: 256\n",
      "\u001b[34m\u001b[1mwandb\u001b[0m: \tcell_type: lstm\n",
      "\u001b[34m\u001b[1mwandb\u001b[0m: \tdropout: 0.3\n",
      "\u001b[34m\u001b[1mwandb\u001b[0m: \tepochs: 20\n",
      "\u001b[34m\u001b[1mwandb\u001b[0m: \thidden_units: 768\n",
      "\u001b[34m\u001b[1mwandb\u001b[0m: \tinitializer: glorot_uniform\n",
      "\u001b[34m\u001b[1mwandb\u001b[0m: \tinput_embedding_size: 128\n",
      "\u001b[34m\u001b[1mwandb\u001b[0m: \tlearning_rate: 0.001\n",
      "\u001b[34m\u001b[1mwandb\u001b[0m: \u001b[33mWARNING\u001b[0m Ignored wandb.init() arg project when running a sweep.\n",
      "\u001b[34m\u001b[1mwandb\u001b[0m: \u001b[33mWARNING\u001b[0m Ignored wandb.init() arg entity when running a sweep.\n"
     ]
    },
    {
     "data": {
      "text/html": [
       "Tracking run with wandb version 0.12.16"
      ],
      "text/plain": [
       "<IPython.core.display.HTML object>"
      ]
     },
     "metadata": {},
     "output_type": "display_data"
    },
    {
     "data": {
      "text/html": [
       "Run data is saved locally in <code>/content/wandb/run-20220504_184802-r005d4oo</code>"
      ],
      "text/plain": [
       "<IPython.core.display.HTML object>"
      ]
     },
     "metadata": {},
     "output_type": "display_data"
    },
    {
     "data": {
      "text/html": [
       "Syncing run <strong><a href=\"https://wandb.ai/cs21s006_cs21s043/cs6910_assigment3_attention/runs/r005d4oo\" target=\"_blank\">exalted-sweep-8</a></strong> to <a href=\"https://wandb.ai/cs21s006_cs21s043/cs6910_assigment3_attention\" target=\"_blank\">Weights & Biases</a> (<a href=\"https://wandb.me/run\" target=\"_blank\">docs</a>)<br/>Sweep page:  <a href=\"https://wandb.ai/cs21s006_cs21s043/cs6910_assigment3_attention/sweeps/h6lw7vkh\" target=\"_blank\">https://wandb.ai/cs21s006_cs21s043/cs6910_assigment3_attention/sweeps/h6lw7vkh</a>"
      ],
      "text/plain": [
       "<IPython.core.display.HTML object>"
      ]
     },
     "metadata": {},
     "output_type": "display_data"
    },
    {
     "name": "stdout",
     "output_type": "stream",
     "text": [
      "{'batch_size': 256, 'cell_type': 'lstm', 'dropout': 0.3, 'epochs': 20, 'hidden_units': 768, 'initializer': 'glorot_uniform', 'input_embedding_size': 128, 'learning_rate': 0.001}\n"
     ]
    },
    {
     "name": "stderr",
     "output_type": "stream",
     "text": [
      "172it [01:03,  2.69it/s]\n"
     ]
    },
    {
     "name": "stdout",
     "output_type": "stream",
     "text": [
      "Epoch 1 Loss 1.0407   \n"
     ]
    },
    {
     "name": "stderr",
     "output_type": "stream",
     "text": [
      "172it [00:39,  4.40it/s]\n"
     ]
    },
    {
     "name": "stdout",
     "output_type": "stream",
     "text": [
      "Epoch 2 Loss 0.7794   \n"
     ]
    },
    {
     "name": "stderr",
     "output_type": "stream",
     "text": [
      "172it [00:39,  4.32it/s]\n"
     ]
    },
    {
     "name": "stdout",
     "output_type": "stream",
     "text": [
      "Epoch 3 Loss 0.3809   \n"
     ]
    },
    {
     "name": "stderr",
     "output_type": "stream",
     "text": [
      "172it [00:40,  4.28it/s]\n"
     ]
    },
    {
     "name": "stdout",
     "output_type": "stream",
     "text": [
      "Epoch 4 Loss 0.2298   \n"
     ]
    },
    {
     "name": "stderr",
     "output_type": "stream",
     "text": [
      "172it [00:40,  4.24it/s]\n"
     ]
    },
    {
     "name": "stdout",
     "output_type": "stream",
     "text": [
      "Epoch 5 Loss 0.1788   \n"
     ]
    },
    {
     "name": "stderr",
     "output_type": "stream",
     "text": [
      "172it [00:40,  4.20it/s]\n"
     ]
    },
    {
     "name": "stdout",
     "output_type": "stream",
     "text": [
      "Epoch 6 Loss 0.1538   \n"
     ]
    },
    {
     "name": "stderr",
     "output_type": "stream",
     "text": [
      "172it [00:41,  4.19it/s]\n"
     ]
    },
    {
     "name": "stdout",
     "output_type": "stream",
     "text": [
      "Epoch 7 Loss 0.1374   \n"
     ]
    },
    {
     "name": "stderr",
     "output_type": "stream",
     "text": [
      "172it [00:41,  4.18it/s]\n"
     ]
    },
    {
     "name": "stdout",
     "output_type": "stream",
     "text": [
      "Epoch 8 Loss 0.1230   \n"
     ]
    },
    {
     "name": "stderr",
     "output_type": "stream",
     "text": [
      "172it [00:39,  4.32it/s]\n"
     ]
    },
    {
     "name": "stdout",
     "output_type": "stream",
     "text": [
      "Epoch 9 Loss 0.1083   \n"
     ]
    },
    {
     "name": "stderr",
     "output_type": "stream",
     "text": [
      "172it [00:40,  4.25it/s]\n"
     ]
    },
    {
     "name": "stdout",
     "output_type": "stream",
     "text": [
      "Epoch 10 Loss 0.0981   \n"
     ]
    },
    {
     "name": "stderr",
     "output_type": "stream",
     "text": [
      "172it [00:40,  4.21it/s]\n"
     ]
    },
    {
     "name": "stdout",
     "output_type": "stream",
     "text": [
      "Epoch 11 Loss 0.1079   \n"
     ]
    },
    {
     "name": "stderr",
     "output_type": "stream",
     "text": [
      "172it [00:41,  4.19it/s]\n"
     ]
    },
    {
     "name": "stdout",
     "output_type": "stream",
     "text": [
      "Epoch 12 Loss 0.0814   \n"
     ]
    },
    {
     "name": "stderr",
     "output_type": "stream",
     "text": [
      "172it [00:41,  4.19it/s]\n"
     ]
    },
    {
     "name": "stdout",
     "output_type": "stream",
     "text": [
      "Epoch 13 Loss 0.0764   \n"
     ]
    },
    {
     "name": "stderr",
     "output_type": "stream",
     "text": [
      "172it [00:39,  4.33it/s]\n"
     ]
    },
    {
     "name": "stdout",
     "output_type": "stream",
     "text": [
      "Epoch 14 Loss 0.0720   \n"
     ]
    },
    {
     "name": "stderr",
     "output_type": "stream",
     "text": [
      "172it [00:40,  4.27it/s]\n"
     ]
    },
    {
     "name": "stdout",
     "output_type": "stream",
     "text": [
      "Epoch 15 Loss 0.0870   \n"
     ]
    },
    {
     "name": "stderr",
     "output_type": "stream",
     "text": [
      "172it [00:40,  4.22it/s]\n"
     ]
    },
    {
     "name": "stdout",
     "output_type": "stream",
     "text": [
      "Epoch 16 Loss 0.0637   \n"
     ]
    },
    {
     "name": "stderr",
     "output_type": "stream",
     "text": [
      "172it [00:40,  4.21it/s]\n"
     ]
    },
    {
     "name": "stdout",
     "output_type": "stream",
     "text": [
      "Epoch 17 Loss 0.0617   \n"
     ]
    },
    {
     "name": "stderr",
     "output_type": "stream",
     "text": [
      "172it [00:41,  4.19it/s]\n"
     ]
    },
    {
     "name": "stdout",
     "output_type": "stream",
     "text": [
      "Epoch 18 Loss 0.0757   \n"
     ]
    },
    {
     "name": "stderr",
     "output_type": "stream",
     "text": [
      "172it [00:39,  4.32it/s]\n"
     ]
    },
    {
     "name": "stdout",
     "output_type": "stream",
     "text": [
      "Epoch 19 Loss 0.0728   \n"
     ]
    },
    {
     "name": "stderr",
     "output_type": "stream",
     "text": [
      "172it [00:40,  4.25it/s]\n"
     ]
    },
    {
     "name": "stdout",
     "output_type": "stream",
     "text": [
      "Epoch 20 Loss 0.0581   \n",
      "Calculating validation scores:\n",
      " gt:  अंकन  pred:  अंकन\n",
      " gt:  अनुसूया  pred:  अनुसूया\n",
      " gt:  असमानताएं  pred:  असमानतयें\n",
      " gt:  आश्चर्यजनक  pred:  अश्चर्यजनक\n",
      " gt:  उतराई  pred:  उतरे\n",
      " gt:  एड  pred:  एडी\n",
      " gt:  कंट्रोल्ड  pred:  कंट्रोलेड\n",
      " gt:  काउंटर  pred:  कंटर\n",
      " gt:  कैरेक्टर्स  pred:  चारास्टर्स\n",
      " gt:  खट्टा  pred:  खत्टा\n",
      " gt:  गीले  pred:  गिले\n",
      " gt:  चचेरी  pred:  चचेरी\n",
      " gt:  छाछ  pred:  छच\n",
      " gt:  जनसूचना  pred:  जनसूचना\n",
      " gt:  जियान  pred:  जिएन\n",
      " gt:  झोंकने  pred:  झोंकने\n",
      " gt:  डायनासोरों  pred:  डायनसरो\n",
      " gt:  तर  pred:  तर्र\n",
      " gt:  थैला  pred:  थैला\n",
      " gt:  दिलायी  pred:  दिलाई\n",
      " gt:  नक्सलवादियों  pred:  नक्सलवादियों\n",
      " gt:  निरक्षरता  pred:  निराक्षरता\n",
      " gt:  पप्पी  pred:  पप्पी\n",
      " gt:  पिछड़ी  pred:  पिछड़ी\n",
      " gt:  प्रतिनिधत्व  pred:  प्रतिनिधित्व\n",
      " gt:  फालना  pred:  फलना\n",
      " gt:  बचाएं  pred:  बचाएं\n",
      " gt:  बाइंडर  pred:  बिंदर\n",
      " gt:  बैनेट  pred:  बैनेट\n",
      " gt:  भुगतता  pred:  भुगताता\n",
      " gt:  मनाया  pred:  मानाया\n",
      " gt:  मिलिंद  pred:  मिलींड\n",
      " gt:  मैनी  pred:  मान्य\n",
      " gt:  रफीक  pred:  राफिक\n",
      " gt:  रिषभ  pred:  रिशभ\n",
      " gt:  लड़ाकों  pred:  लड़ाकों\n",
      " gt:  वर्षा  pred:  वर्षा\n",
      " gt:  वैद्यराज  pred:  वैद्यराज\n",
      " gt:  शीर्षक  pred:  शीर्षक\n",
      " gt:  सत्यांश  pred:  सत्यांश\n",
      " gt:  सिंह  pred:  सिंहा\n",
      " gt:  सेट  pred:  सेट\n",
      " gt:  स्वभाव  pred:  स्वाभाव\n",
      " gt:  हाश्मी  pred:  हाशमी\n",
      "validation accuracy:  0.3978889398806792\n",
      "Calculating test scores:\n",
      " gt:  अंक  pred:  एंक\n",
      " gt:  अनुकूलता  pred:  अनुकूलता\n",
      " gt:  अवरु  pred:  अवरू\n",
      " gt:  आबरू  pred:  आबरू\n",
      " gt:  इनहेलेशन  pred:  इन्हलेशन\n",
      " gt:  उमेश  pred:  उम्स्स\n",
      " gt:  एस्फाल्ट  pred:  अस्फालत\n",
      " gt:  कपिंग  pred:  कापिंग\n",
      " gt:  कासिम  pred:  कसीम\n",
      " gt:  क्षितिज  pred:  क्षितीज\n",
      " gt:  गिरजाघरों  pred:  गिरजाघारों\n",
      " gt:  चतुष्कोणीय  pred:  चतुशकोनिय\n",
      " gt:  छागला  pred:  छाल्ला\n",
      " gt:  जलगति  pred:  जलागती\n",
      " gt:  जुए  pred:  जूए\n",
      " gt:  टाऊ  pred:  टाव\n",
      " gt:  डुलने  pred:  दुलने\n",
      " gt:  तापमानों  pred:  तापमानों\n",
      " gt:  दहल  pred:  डहाल\n",
      " gt:  देवापुर  pred:  देवापुर\n",
      " gt:  नजरियों  pred:  नजरियों\n",
      " gt:  निपटारा  pred:  निपटरा\n",
      " gt:  पटकथाएं  pred:  पटकथाएं\n",
      " gt:  पाठशालाएं  pred:  पाठशालयाएं\n",
      " gt:  पुष्पा  pred:  पुष्पा\n",
      " gt:  प्राथमिकता  pred:  प्राथमिकता\n",
      " gt:  फिरती  pred:  फर्ती\n",
      " gt:  बतलाए  pred:  बतलाए\n",
      " gt:  बाल्टी  pred:  बालती\n",
      " gt:  बोदरा  pred:  बोड़रा\n",
      " gt:  भूलो  pred:  भुलो\n",
      " gt:  महकने  pred:  महकाने\n",
      " gt:  मुबारकपुर  pred:  मुबार्कपुर\n",
      " gt:  मोहानी  pred:  मोहनी\n",
      " gt:  राजमां  pred:  राजमान\n",
      " gt:  रेशे  pred:  रेशे\n",
      " gt:  लांचर  pred:  लांचर\n",
      " gt:  वर्णित  pred:  वार्णित\n",
      " gt:  विमर्शों  pred:  विमार्शों\n",
      " gt:  शमिताभ  pred:  शमिताभ\n",
      " gt:  संप्रभुता  pred:  संप्रभुता\n",
      " gt:  सरगना  pred:  सरगना\n",
      " gt:  सिमटे  pred:  सीमते\n",
      " gt:  सेल्फ  pred:  सेल्फ\n",
      " gt:  स्वीट  pred:  स्वीट\n",
      " gt:  होस्टेस  pred:  होस्टेस\n",
      "test accuracy :  0.39338071968014215\n"
     ]
    },
    {
     "data": {
      "text/html": [
       "Waiting for W&B process to finish... <strong style=\"color:green\">(success).</strong>"
      ],
      "text/plain": [
       "<IPython.core.display.HTML object>"
      ]
     },
     "metadata": {},
     "output_type": "display_data"
    },
    {
     "data": {
      "application/vnd.jupyter.widget-view+json": {
       "model_id": "23f9c558c6634cbab5cd7eeb3d24bd5b",
       "version_major": 2,
       "version_minor": 0
      },
      "text/plain": [
       "VBox(children=(Label(value='0.001 MB of 0.001 MB uploaded (0.000 MB deduped)\\r'), FloatProgress(value=1.0, max…"
      ]
     },
     "metadata": {},
     "output_type": "display_data"
    },
    {
     "data": {
      "text/html": [
       "<style>\n",
       "    table.wandb td:nth-child(1) { padding: 0 10px; text-align: left ; width: auto;} td:nth-child(2) {text-align: left ; width: 100%}\n",
       "    .wandb-row { display: flex; flex-direction: row; flex-wrap: wrap; justify-content: flex-start; width: 100% }\n",
       "    .wandb-col { display: flex; flex-direction: column; flex-basis: 100%; flex: 1; padding: 10px; }\n",
       "    </style>\n",
       "<div class=\"wandb-row\"><div class=\"wandb-col\"><h3>Run history:</h3><br/><table class=\"wandb\"><tr><td>running_validation_word_accuracy</td><td>█▂▂▂▁▁▁▁▁▁▁▁▁▁▁▁▁▁▁▁▁▁▁▁▂▁▁▁▁▁▁▁▁▁▁▁▂▂▂▂</td></tr><tr><td>word_test_acc</td><td>▁</td></tr><tr><td>word_val_acc</td><td>▁</td></tr></table><br/></div><div class=\"wandb-col\"><h3>Run summary:</h3><br/><table class=\"wandb\"><tr><td>running_validation_word_accuracy</td><td>0.39874</td></tr><tr><td>word_test_acc</td><td>0.39338</td></tr><tr><td>word_val_acc</td><td>0.39789</td></tr></table><br/></div></div>"
      ],
      "text/plain": [
       "<IPython.core.display.HTML object>"
      ]
     },
     "metadata": {},
     "output_type": "display_data"
    },
    {
     "data": {
      "text/html": [
       "Synced <strong style=\"color:#cdcd00\">exalted-sweep-8</strong>: <a href=\"https://wandb.ai/cs21s006_cs21s043/cs6910_assigment3_attention/runs/r005d4oo\" target=\"_blank\">https://wandb.ai/cs21s006_cs21s043/cs6910_assigment3_attention/runs/r005d4oo</a><br/>Synced 5 W&B file(s), 0 media file(s), 0 artifact file(s) and 0 other file(s)"
      ],
      "text/plain": [
       "<IPython.core.display.HTML object>"
      ]
     },
     "metadata": {},
     "output_type": "display_data"
    },
    {
     "data": {
      "text/html": [
       "Find logs at: <code>./wandb/run-20220504_184802-r005d4oo/logs</code>"
      ],
      "text/plain": [
       "<IPython.core.display.HTML object>"
      ]
     },
     "metadata": {},
     "output_type": "display_data"
    },
    {
     "name": "stderr",
     "output_type": "stream",
     "text": [
      "\u001b[34m\u001b[1mwandb\u001b[0m: Agent Starting Run: 1wgodbc6 with config:\n",
      "\u001b[34m\u001b[1mwandb\u001b[0m: \tbatch_size: 256\n",
      "\u001b[34m\u001b[1mwandb\u001b[0m: \tcell_type: gru\n",
      "\u001b[34m\u001b[1mwandb\u001b[0m: \tdropout: 0.3\n",
      "\u001b[34m\u001b[1mwandb\u001b[0m: \tepochs: 15\n",
      "\u001b[34m\u001b[1mwandb\u001b[0m: \thidden_units: 768\n",
      "\u001b[34m\u001b[1mwandb\u001b[0m: \tinitializer: orthogonal\n",
      "\u001b[34m\u001b[1mwandb\u001b[0m: \tinput_embedding_size: 256\n",
      "\u001b[34m\u001b[1mwandb\u001b[0m: \tlearning_rate: 0.0006\n",
      "\u001b[34m\u001b[1mwandb\u001b[0m: \u001b[33mWARNING\u001b[0m Ignored wandb.init() arg project when running a sweep.\n",
      "\u001b[34m\u001b[1mwandb\u001b[0m: \u001b[33mWARNING\u001b[0m Ignored wandb.init() arg entity when running a sweep.\n"
     ]
    },
    {
     "data": {
      "text/html": [
       "Tracking run with wandb version 0.12.16"
      ],
      "text/plain": [
       "<IPython.core.display.HTML object>"
      ]
     },
     "metadata": {},
     "output_type": "display_data"
    },
    {
     "data": {
      "text/html": [
       "Run data is saved locally in <code>/content/wandb/run-20220504_191528-1wgodbc6</code>"
      ],
      "text/plain": [
       "<IPython.core.display.HTML object>"
      ]
     },
     "metadata": {},
     "output_type": "display_data"
    },
    {
     "data": {
      "text/html": [
       "Syncing run <strong><a href=\"https://wandb.ai/cs21s006_cs21s043/cs6910_assigment3_attention/runs/1wgodbc6\" target=\"_blank\">frosty-sweep-10</a></strong> to <a href=\"https://wandb.ai/cs21s006_cs21s043/cs6910_assigment3_attention\" target=\"_blank\">Weights & Biases</a> (<a href=\"https://wandb.me/run\" target=\"_blank\">docs</a>)<br/>Sweep page:  <a href=\"https://wandb.ai/cs21s006_cs21s043/cs6910_assigment3_attention/sweeps/h6lw7vkh\" target=\"_blank\">https://wandb.ai/cs21s006_cs21s043/cs6910_assigment3_attention/sweeps/h6lw7vkh</a>"
      ],
      "text/plain": [
       "<IPython.core.display.HTML object>"
      ]
     },
     "metadata": {},
     "output_type": "display_data"
    },
    {
     "name": "stdout",
     "output_type": "stream",
     "text": [
      "{'batch_size': 256, 'cell_type': 'gru', 'dropout': 0.3, 'epochs': 15, 'hidden_units': 768, 'initializer': 'orthogonal', 'input_embedding_size': 256, 'learning_rate': 0.0006}\n"
     ]
    },
    {
     "name": "stderr",
     "output_type": "stream",
     "text": [
      "172it [00:59,  2.89it/s]\n"
     ]
    },
    {
     "name": "stdout",
     "output_type": "stream",
     "text": [
      "Epoch 1 Loss 1.0507   \n"
     ]
    },
    {
     "name": "stderr",
     "output_type": "stream",
     "text": [
      "172it [00:36,  4.76it/s]\n"
     ]
    },
    {
     "name": "stdout",
     "output_type": "stream",
     "text": [
      "Epoch 2 Loss 0.9032   \n"
     ]
    },
    {
     "name": "stderr",
     "output_type": "stream",
     "text": [
      "172it [00:36,  4.69it/s]\n"
     ]
    },
    {
     "name": "stdout",
     "output_type": "stream",
     "text": [
      "Epoch 3 Loss 0.7836   \n"
     ]
    },
    {
     "name": "stderr",
     "output_type": "stream",
     "text": [
      "172it [00:37,  4.63it/s]\n"
     ]
    },
    {
     "name": "stdout",
     "output_type": "stream",
     "text": [
      "Epoch 4 Loss 0.5107   \n"
     ]
    },
    {
     "name": "stderr",
     "output_type": "stream",
     "text": [
      "172it [00:37,  4.60it/s]\n"
     ]
    },
    {
     "name": "stdout",
     "output_type": "stream",
     "text": [
      "Epoch 5 Loss 0.2613   \n"
     ]
    },
    {
     "name": "stderr",
     "output_type": "stream",
     "text": [
      "172it [00:37,  4.58it/s]\n"
     ]
    },
    {
     "name": "stdout",
     "output_type": "stream",
     "text": [
      "Epoch 6 Loss 0.1886   \n"
     ]
    },
    {
     "name": "stderr",
     "output_type": "stream",
     "text": [
      "172it [00:37,  4.57it/s]\n"
     ]
    },
    {
     "name": "stdout",
     "output_type": "stream",
     "text": [
      "Epoch 7 Loss 0.1567   \n"
     ]
    },
    {
     "name": "stderr",
     "output_type": "stream",
     "text": [
      "172it [00:37,  4.55it/s]\n"
     ]
    },
    {
     "name": "stdout",
     "output_type": "stream",
     "text": [
      "Epoch 8 Loss 0.1457   \n"
     ]
    },
    {
     "name": "stderr",
     "output_type": "stream",
     "text": [
      "172it [00:37,  4.54it/s]\n"
     ]
    },
    {
     "name": "stdout",
     "output_type": "stream",
     "text": [
      "Epoch 9 Loss 0.1295   \n"
     ]
    },
    {
     "name": "stderr",
     "output_type": "stream",
     "text": [
      "172it [00:37,  4.54it/s]\n"
     ]
    },
    {
     "name": "stdout",
     "output_type": "stream",
     "text": [
      "Epoch 10 Loss 0.1162   \n"
     ]
    },
    {
     "name": "stderr",
     "output_type": "stream",
     "text": [
      "172it [00:37,  4.53it/s]\n"
     ]
    },
    {
     "name": "stdout",
     "output_type": "stream",
     "text": [
      "Epoch 11 Loss 0.1195   \n"
     ]
    },
    {
     "name": "stderr",
     "output_type": "stream",
     "text": [
      "172it [00:37,  4.54it/s]\n"
     ]
    },
    {
     "name": "stdout",
     "output_type": "stream",
     "text": [
      "Epoch 12 Loss 0.1077   \n"
     ]
    },
    {
     "name": "stderr",
     "output_type": "stream",
     "text": [
      "172it [00:37,  4.54it/s]\n"
     ]
    },
    {
     "name": "stdout",
     "output_type": "stream",
     "text": [
      "Epoch 13 Loss 0.0889   \n"
     ]
    },
    {
     "name": "stderr",
     "output_type": "stream",
     "text": [
      "172it [00:37,  4.54it/s]\n"
     ]
    },
    {
     "name": "stdout",
     "output_type": "stream",
     "text": [
      "Epoch 14 Loss 0.0793   \n"
     ]
    },
    {
     "name": "stderr",
     "output_type": "stream",
     "text": [
      "172it [00:37,  4.54it/s]\n"
     ]
    },
    {
     "name": "stdout",
     "output_type": "stream",
     "text": [
      "Epoch 15 Loss 0.0819   \n",
      "Calculating validation scores:\n",
      " gt:  अंकन  pred:  एंकन\n",
      " gt:  अनुसूया  pred:  अनुस्य\n",
      " gt:  असमानताएं  pred:  असमांताएं\n",
      " gt:  आश्चर्यजनक  pred:  अश्चर्यजनक\n",
      " gt:  उतराई  pred:  उत्रे\n",
      " gt:  एड  pred:  एडी\n",
      " gt:  कंट्रोल्ड  pred:  कंट्रॉल्ड\n",
      " gt:  काउंटर  pred:  काउंटर\n",
      " gt:  कैरेक्टर्स  pred:  चराक्टर्स\n",
      " gt:  खट्टा  pred:  खत्ता\n",
      " gt:  गीले  pred:  गिले\n",
      " gt:  चचेरी  pred:  चचरी\n",
      " gt:  छाछ  pred:  छाछ\n",
      " gt:  जनसूचना  pred:  जनसूचना\n",
      " gt:  जियान  pred:  जियन\n",
      " gt:  झोंकने  pred:  झोंकने\n",
      " gt:  डायनासोरों  pred:  डायूमासोरो\n",
      " gt:  तर  pred:  तर्र\n",
      " gt:  थैला  pred:  ठैला\n",
      " gt:  दिलायी  pred:  दिलायी\n",
      " gt:  नक्सलवादियों  pred:  नकसाल्वादियों\n",
      " gt:  निरक्षरता  pred:  निरक्षरता\n",
      " gt:  पप्पी  pred:  पाप्पी\n",
      " gt:  पिछड़ी  pred:  पिछड़ी\n",
      " gt:  प्रतिनिधत्व  pred:  प्रतिनिधित्व\n",
      " gt:  फालना  pred:  फलना\n",
      " gt:  बचाएं  pred:  बचाएं\n",
      " gt:  बाइंडर  pred:  बिंदर\n",
      " gt:  बैनेट  pred:  बैनेट\n",
      " gt:  भुगतता  pred:  भूगताता\n",
      " gt:  मनाया  pred:  मानाया\n",
      " gt:  मिलिंद  pred:  मिलिंड\n",
      " gt:  मैनी  pred:  मान्य\n",
      " gt:  रफीक  pred:  रफिक\n",
      " gt:  रिषभ  pred:  रिशभ\n",
      " gt:  लड़ाकों  pred:  लड़कों\n",
      " gt:  वर्षा  pred:  वर्षा\n",
      " gt:  वैद्यराज  pred:  वैद्याराज\n",
      " gt:  शीर्षक  pred:  शीर्षक\n",
      " gt:  सत्यांश  pred:  सत्यांश\n",
      " gt:  सिंह  pred:  सिंह\n",
      " gt:  सेट  pred:  सेट\n",
      " gt:  स्वभाव  pred:  स्वभाव\n",
      " gt:  हाश्मी  pred:  हाशमी\n",
      "validation accuracy:  0.39261128958237723\n",
      "Calculating test scores:\n",
      " gt:  अंक  pred:  एंक\n",
      " gt:  अनुकूलता  pred:  अनुकूलता\n",
      " gt:  अवरु  pred:  अवरू\n",
      " gt:  आबरू  pred:  आबरू\n",
      " gt:  इनहेलेशन  pred:  इन्हेलेशन\n",
      " gt:  उमेश  pred:  उम्मेश\n",
      " gt:  एस्फाल्ट  pred:  एस्पल्ट\n",
      " gt:  कपिंग  pred:  कपिंग\n",
      " gt:  कासिम  pred:  कसीम\n",
      " gt:  क्षितिज  pred:  क्षितिज\n",
      " gt:  गिरजाघरों  pred:  गिरजघरों\n",
      " gt:  चतुष्कोणीय  pred:  चतुशकोनिय\n",
      " gt:  छागला  pred:  छग्ला\n",
      " gt:  जलगति  pred:  जलगती\n",
      " gt:  जुए  pred:  जुए\n",
      " gt:  टाऊ  pred:  ताऊ\n",
      " gt:  डुलने  pred:  दुलने\n",
      " gt:  तापमानों  pred:  तप्मनों\n",
      " gt:  दहल  pred:  दहाल\n",
      " gt:  देवापुर  pred:  देवपुर\n",
      " gt:  नजरियों  pred:  नज़रियों\n",
      " gt:  निपटारा  pred:  निपटारा\n",
      " gt:  पटकथाएं  pred:  पटकथाएं\n",
      " gt:  पाठशालाएं  pred:  पाठशालाएं\n",
      " gt:  पुष्पा  pred:  पुष्प\n",
      " gt:  प्राथमिकता  pred:  प्रथमिकता\n",
      " gt:  फिरती  pred:  फिर्ती\n",
      " gt:  बतलाए  pred:  बतलाए\n",
      " gt:  बाल्टी  pred:  बालती\n",
      " gt:  बोदरा  pred:  बोदरा\n",
      " gt:  भूलो  pred:  भूलो\n",
      " gt:  महकने  pred:  महकाने\n",
      " gt:  मुबारकपुर  pred:  मुबार्कपुर\n",
      " gt:  मोहानी  pred:  मोहनी\n",
      " gt:  राजमां  pred:  राजमान\n",
      " gt:  रेशे  pred:  रेशे\n",
      " gt:  लांचर  pred:  लांचर\n",
      " gt:  वर्णित  pred:  वर्नीत\n",
      " gt:  विमर्शों  pred:  विमार्शों\n",
      " gt:  शमिताभ  pred:  शमिताभ\n",
      " gt:  संप्रभुता  pred:  संप्रभुता\n",
      " gt:  सरगना  pred:  सारगना\n",
      " gt:  सिमटे  pred:  सीमते\n",
      " gt:  सेल्फ  pred:  सेल्फ\n",
      " gt:  स्वीट  pred:  स्वीत\n",
      " gt:  होस्टेस  pred:  होस्टेस\n",
      "test accuracy :  0.39626832518880495\n"
     ]
    },
    {
     "data": {
      "text/html": [
       "Waiting for W&B process to finish... <strong style=\"color:green\">(success).</strong>"
      ],
      "text/plain": [
       "<IPython.core.display.HTML object>"
      ]
     },
     "metadata": {},
     "output_type": "display_data"
    },
    {
     "data": {
      "application/vnd.jupyter.widget-view+json": {
       "model_id": "8b0f20627fc248229e3b0a85bbbf8cb9",
       "version_major": 2,
       "version_minor": 0
      },
      "text/plain": [
       "VBox(children=(Label(value='0.001 MB of 0.001 MB uploaded (0.000 MB deduped)\\r'), FloatProgress(value=1.0, max…"
      ]
     },
     "metadata": {},
     "output_type": "display_data"
    },
    {
     "data": {
      "text/html": [
       "<style>\n",
       "    table.wandb td:nth-child(1) { padding: 0 10px; text-align: left ; width: auto;} td:nth-child(2) {text-align: left ; width: 100%}\n",
       "    .wandb-row { display: flex; flex-direction: row; flex-wrap: wrap; justify-content: flex-start; width: 100% }\n",
       "    .wandb-col { display: flex; flex-direction: column; flex-basis: 100%; flex: 1; padding: 10px; }\n",
       "    </style>\n",
       "<div class=\"wandb-row\"><div class=\"wandb-col\"><h3>Run history:</h3><br/><table class=\"wandb\"><tr><td>running_validation_word_accuracy</td><td>▁██▇▇▇▇▇▇▇▇▇▇▇▇▇▇▇▇▇▇▇▇▇▇▇▇▇▇▇▇▇▇▇▇▇▇▇▇▇</td></tr><tr><td>word_test_acc</td><td>▁</td></tr><tr><td>word_val_acc</td><td>▁</td></tr></table><br/></div><div class=\"wandb-col\"><h3>Run summary:</h3><br/><table class=\"wandb\"><tr><td>running_validation_word_accuracy</td><td>0.39363</td></tr><tr><td>word_test_acc</td><td>0.39627</td></tr><tr><td>word_val_acc</td><td>0.39261</td></tr></table><br/></div></div>"
      ],
      "text/plain": [
       "<IPython.core.display.HTML object>"
      ]
     },
     "metadata": {},
     "output_type": "display_data"
    },
    {
     "data": {
      "text/html": [
       "Synced <strong style=\"color:#cdcd00\">frosty-sweep-10</strong>: <a href=\"https://wandb.ai/cs21s006_cs21s043/cs6910_assigment3_attention/runs/1wgodbc6\" target=\"_blank\">https://wandb.ai/cs21s006_cs21s043/cs6910_assigment3_attention/runs/1wgodbc6</a><br/>Synced 5 W&B file(s), 0 media file(s), 0 artifact file(s) and 0 other file(s)"
      ],
      "text/plain": [
       "<IPython.core.display.HTML object>"
      ]
     },
     "metadata": {},
     "output_type": "display_data"
    },
    {
     "data": {
      "text/html": [
       "Find logs at: <code>./wandb/run-20220504_191528-1wgodbc6/logs</code>"
      ],
      "text/plain": [
       "<IPython.core.display.HTML object>"
      ]
     },
     "metadata": {},
     "output_type": "display_data"
    }
   ],
   "source": [
    "wandb.agent(\"h6lw7vkh\", spawn_fn,count=5)"
   ]
  },
  {
   "cell_type": "code",
   "execution_count": null,
   "metadata": {},
   "outputs": [],
   "source": []
  }
 ],
 "metadata": {
  "accelerator": "GPU",
  "colab": {
   "collapsed_sections": [],
   "name": "attention_v3_run2.ipynb",
   "provenance": []
  },
  "kernelspec": {
   "display_name": "Python 3 (ipykernel)",
   "language": "python",
   "name": "python3"
  },
  "language_info": {
   "codemirror_mode": {
    "name": "ipython",
    "version": 3
   },
   "file_extension": ".py",
   "mimetype": "text/x-python",
   "name": "python",
   "nbconvert_exporter": "python",
   "pygments_lexer": "ipython3",
   "version": "3.8.10"
  },
  "widgets": {
   "application/vnd.jupyter.widget-state+json": {
    "093e8058ee2343159ef8c8cb4f2ac280": {
     "model_module": "@jupyter-widgets/base",
     "model_module_version": "1.2.0",
     "model_name": "LayoutModel",
     "state": {
      "_model_module": "@jupyter-widgets/base",
      "_model_module_version": "1.2.0",
      "_model_name": "LayoutModel",
      "_view_count": null,
      "_view_module": "@jupyter-widgets/base",
      "_view_module_version": "1.2.0",
      "_view_name": "LayoutView",
      "align_content": null,
      "align_items": null,
      "align_self": null,
      "border": null,
      "bottom": null,
      "display": null,
      "flex": null,
      "flex_flow": null,
      "grid_area": null,
      "grid_auto_columns": null,
      "grid_auto_flow": null,
      "grid_auto_rows": null,
      "grid_column": null,
      "grid_gap": null,
      "grid_row": null,
      "grid_template_areas": null,
      "grid_template_columns": null,
      "grid_template_rows": null,
      "height": null,
      "justify_content": null,
      "justify_items": null,
      "left": null,
      "margin": null,
      "max_height": null,
      "max_width": null,
      "min_height": null,
      "min_width": null,
      "object_fit": null,
      "object_position": null,
      "order": null,
      "overflow": null,
      "overflow_x": null,
      "overflow_y": null,
      "padding": null,
      "right": null,
      "top": null,
      "visibility": null,
      "width": null
     }
    },
    "13584d6c60f141d9a6584781f9f8d9a9": {
     "model_module": "@jupyter-widgets/controls",
     "model_module_version": "1.5.0",
     "model_name": "FloatProgressModel",
     "state": {
      "_dom_classes": [],
      "_model_module": "@jupyter-widgets/controls",
      "_model_module_version": "1.5.0",
      "_model_name": "FloatProgressModel",
      "_view_count": null,
      "_view_module": "@jupyter-widgets/controls",
      "_view_module_version": "1.5.0",
      "_view_name": "ProgressView",
      "bar_style": "",
      "description": "",
      "description_tooltip": null,
      "layout": "IPY_MODEL_adbd3c3fcc9449a9a1099eb0f475bba8",
      "max": 1,
      "min": 0,
      "orientation": "horizontal",
      "style": "IPY_MODEL_c9af314ea12f40dabb5a73b293c01d1e",
      "value": 1
     }
    },
    "19574eea21214536b7f7ce989bb52ef8": {
     "model_module": "@jupyter-widgets/base",
     "model_module_version": "1.2.0",
     "model_name": "LayoutModel",
     "state": {
      "_model_module": "@jupyter-widgets/base",
      "_model_module_version": "1.2.0",
      "_model_name": "LayoutModel",
      "_view_count": null,
      "_view_module": "@jupyter-widgets/base",
      "_view_module_version": "1.2.0",
      "_view_name": "LayoutView",
      "align_content": null,
      "align_items": null,
      "align_self": null,
      "border": null,
      "bottom": null,
      "display": null,
      "flex": null,
      "flex_flow": null,
      "grid_area": null,
      "grid_auto_columns": null,
      "grid_auto_flow": null,
      "grid_auto_rows": null,
      "grid_column": null,
      "grid_gap": null,
      "grid_row": null,
      "grid_template_areas": null,
      "grid_template_columns": null,
      "grid_template_rows": null,
      "height": null,
      "justify_content": null,
      "justify_items": null,
      "left": null,
      "margin": null,
      "max_height": null,
      "max_width": null,
      "min_height": null,
      "min_width": null,
      "object_fit": null,
      "object_position": null,
      "order": null,
      "overflow": null,
      "overflow_x": null,
      "overflow_y": null,
      "padding": null,
      "right": null,
      "top": null,
      "visibility": null,
      "width": null
     }
    },
    "1f2fdc9248bd4dc78a86e3b74ff5f8b3": {
     "model_module": "@jupyter-widgets/controls",
     "model_module_version": "1.5.0",
     "model_name": "LabelModel",
     "state": {
      "_dom_classes": [],
      "_model_module": "@jupyter-widgets/controls",
      "_model_module_version": "1.5.0",
      "_model_name": "LabelModel",
      "_view_count": null,
      "_view_module": "@jupyter-widgets/controls",
      "_view_module_version": "1.5.0",
      "_view_name": "LabelView",
      "description": "",
      "description_tooltip": null,
      "layout": "IPY_MODEL_85cdc7b827324b99b199baa1e5dd2e1a",
      "placeholder": "​",
      "style": "IPY_MODEL_9fa696c41a3347eb9879b066cf8b2166",
      "value": "0.015 MB of 0.015 MB uploaded (0.000 MB deduped)\r"
     }
    },
    "23c5cd6bd3c34932a49645fb4fc510e3": {
     "model_module": "@jupyter-widgets/controls",
     "model_module_version": "1.5.0",
     "model_name": "LabelModel",
     "state": {
      "_dom_classes": [],
      "_model_module": "@jupyter-widgets/controls",
      "_model_module_version": "1.5.0",
      "_model_name": "LabelModel",
      "_view_count": null,
      "_view_module": "@jupyter-widgets/controls",
      "_view_module_version": "1.5.0",
      "_view_name": "LabelView",
      "description": "",
      "description_tooltip": null,
      "layout": "IPY_MODEL_093e8058ee2343159ef8c8cb4f2ac280",
      "placeholder": "​",
      "style": "IPY_MODEL_d18ff70ca8114f1695bdd98033f3009e",
      "value": "0.015 MB of 0.015 MB uploaded (0.000 MB deduped)\r"
     }
    },
    "23f9c558c6634cbab5cd7eeb3d24bd5b": {
     "model_module": "@jupyter-widgets/controls",
     "model_module_version": "1.5.0",
     "model_name": "VBoxModel",
     "state": {
      "_dom_classes": [],
      "_model_module": "@jupyter-widgets/controls",
      "_model_module_version": "1.5.0",
      "_model_name": "VBoxModel",
      "_view_count": null,
      "_view_module": "@jupyter-widgets/controls",
      "_view_module_version": "1.5.0",
      "_view_name": "VBoxView",
      "box_style": "",
      "children": [
       "IPY_MODEL_1f2fdc9248bd4dc78a86e3b74ff5f8b3",
       "IPY_MODEL_5e5fea1f1970411dac39db7f8882fe60"
      ],
      "layout": "IPY_MODEL_b1dbb33cc7724393aafd13bccc4443b5"
     }
    },
    "2a6879e36ecb4ddebb8f284819617e22": {
     "model_module": "@jupyter-widgets/base",
     "model_module_version": "1.2.0",
     "model_name": "LayoutModel",
     "state": {
      "_model_module": "@jupyter-widgets/base",
      "_model_module_version": "1.2.0",
      "_model_name": "LayoutModel",
      "_view_count": null,
      "_view_module": "@jupyter-widgets/base",
      "_view_module_version": "1.2.0",
      "_view_name": "LayoutView",
      "align_content": null,
      "align_items": null,
      "align_self": null,
      "border": null,
      "bottom": null,
      "display": null,
      "flex": null,
      "flex_flow": null,
      "grid_area": null,
      "grid_auto_columns": null,
      "grid_auto_flow": null,
      "grid_auto_rows": null,
      "grid_column": null,
      "grid_gap": null,
      "grid_row": null,
      "grid_template_areas": null,
      "grid_template_columns": null,
      "grid_template_rows": null,
      "height": null,
      "justify_content": null,
      "justify_items": null,
      "left": null,
      "margin": null,
      "max_height": null,
      "max_width": null,
      "min_height": null,
      "min_width": null,
      "object_fit": null,
      "object_position": null,
      "order": null,
      "overflow": null,
      "overflow_x": null,
      "overflow_y": null,
      "padding": null,
      "right": null,
      "top": null,
      "visibility": null,
      "width": null
     }
    },
    "345e63629bcc493b9aa4b1417e126cec": {
     "model_module": "@jupyter-widgets/controls",
     "model_module_version": "1.5.0",
     "model_name": "ProgressStyleModel",
     "state": {
      "_model_module": "@jupyter-widgets/controls",
      "_model_module_version": "1.5.0",
      "_model_name": "ProgressStyleModel",
      "_view_count": null,
      "_view_module": "@jupyter-widgets/base",
      "_view_module_version": "1.2.0",
      "_view_name": "StyleView",
      "bar_color": null,
      "description_width": ""
     }
    },
    "3799a39ca13d4749863295bc8916c815": {
     "model_module": "@jupyter-widgets/controls",
     "model_module_version": "1.5.0",
     "model_name": "DescriptionStyleModel",
     "state": {
      "_model_module": "@jupyter-widgets/controls",
      "_model_module_version": "1.5.0",
      "_model_name": "DescriptionStyleModel",
      "_view_count": null,
      "_view_module": "@jupyter-widgets/base",
      "_view_module_version": "1.2.0",
      "_view_name": "StyleView",
      "description_width": ""
     }
    },
    "383fbcd72f32444da1d79df2e6c0c663": {
     "model_module": "@jupyter-widgets/base",
     "model_module_version": "1.2.0",
     "model_name": "LayoutModel",
     "state": {
      "_model_module": "@jupyter-widgets/base",
      "_model_module_version": "1.2.0",
      "_model_name": "LayoutModel",
      "_view_count": null,
      "_view_module": "@jupyter-widgets/base",
      "_view_module_version": "1.2.0",
      "_view_name": "LayoutView",
      "align_content": null,
      "align_items": null,
      "align_self": null,
      "border": null,
      "bottom": null,
      "display": null,
      "flex": null,
      "flex_flow": null,
      "grid_area": null,
      "grid_auto_columns": null,
      "grid_auto_flow": null,
      "grid_auto_rows": null,
      "grid_column": null,
      "grid_gap": null,
      "grid_row": null,
      "grid_template_areas": null,
      "grid_template_columns": null,
      "grid_template_rows": null,
      "height": null,
      "justify_content": null,
      "justify_items": null,
      "left": null,
      "margin": null,
      "max_height": null,
      "max_width": null,
      "min_height": null,
      "min_width": null,
      "object_fit": null,
      "object_position": null,
      "order": null,
      "overflow": null,
      "overflow_x": null,
      "overflow_y": null,
      "padding": null,
      "right": null,
      "top": null,
      "visibility": null,
      "width": null
     }
    },
    "4249766b74f74a99acd4413570013ef8": {
     "model_module": "@jupyter-widgets/base",
     "model_module_version": "1.2.0",
     "model_name": "LayoutModel",
     "state": {
      "_model_module": "@jupyter-widgets/base",
      "_model_module_version": "1.2.0",
      "_model_name": "LayoutModel",
      "_view_count": null,
      "_view_module": "@jupyter-widgets/base",
      "_view_module_version": "1.2.0",
      "_view_name": "LayoutView",
      "align_content": null,
      "align_items": null,
      "align_self": null,
      "border": null,
      "bottom": null,
      "display": null,
      "flex": null,
      "flex_flow": null,
      "grid_area": null,
      "grid_auto_columns": null,
      "grid_auto_flow": null,
      "grid_auto_rows": null,
      "grid_column": null,
      "grid_gap": null,
      "grid_row": null,
      "grid_template_areas": null,
      "grid_template_columns": null,
      "grid_template_rows": null,
      "height": null,
      "justify_content": null,
      "justify_items": null,
      "left": null,
      "margin": null,
      "max_height": null,
      "max_width": null,
      "min_height": null,
      "min_width": null,
      "object_fit": null,
      "object_position": null,
      "order": null,
      "overflow": null,
      "overflow_x": null,
      "overflow_y": null,
      "padding": null,
      "right": null,
      "top": null,
      "visibility": null,
      "width": null
     }
    },
    "48a1d53f91c04a848aded1e0e9052ec3": {
     "model_module": "@jupyter-widgets/controls",
     "model_module_version": "1.5.0",
     "model_name": "DescriptionStyleModel",
     "state": {
      "_model_module": "@jupyter-widgets/controls",
      "_model_module_version": "1.5.0",
      "_model_name": "DescriptionStyleModel",
      "_view_count": null,
      "_view_module": "@jupyter-widgets/base",
      "_view_module_version": "1.2.0",
      "_view_name": "StyleView",
      "description_width": ""
     }
    },
    "48bad7a18557482db00e904e6b397095": {
     "model_module": "@jupyter-widgets/base",
     "model_module_version": "1.2.0",
     "model_name": "LayoutModel",
     "state": {
      "_model_module": "@jupyter-widgets/base",
      "_model_module_version": "1.2.0",
      "_model_name": "LayoutModel",
      "_view_count": null,
      "_view_module": "@jupyter-widgets/base",
      "_view_module_version": "1.2.0",
      "_view_name": "LayoutView",
      "align_content": null,
      "align_items": null,
      "align_self": null,
      "border": null,
      "bottom": null,
      "display": null,
      "flex": null,
      "flex_flow": null,
      "grid_area": null,
      "grid_auto_columns": null,
      "grid_auto_flow": null,
      "grid_auto_rows": null,
      "grid_column": null,
      "grid_gap": null,
      "grid_row": null,
      "grid_template_areas": null,
      "grid_template_columns": null,
      "grid_template_rows": null,
      "height": null,
      "justify_content": null,
      "justify_items": null,
      "left": null,
      "margin": null,
      "max_height": null,
      "max_width": null,
      "min_height": null,
      "min_width": null,
      "object_fit": null,
      "object_position": null,
      "order": null,
      "overflow": null,
      "overflow_x": null,
      "overflow_y": null,
      "padding": null,
      "right": null,
      "top": null,
      "visibility": null,
      "width": null
     }
    },
    "4a9a631106934187833d7297010c23c8": {
     "model_module": "@jupyter-widgets/base",
     "model_module_version": "1.2.0",
     "model_name": "LayoutModel",
     "state": {
      "_model_module": "@jupyter-widgets/base",
      "_model_module_version": "1.2.0",
      "_model_name": "LayoutModel",
      "_view_count": null,
      "_view_module": "@jupyter-widgets/base",
      "_view_module_version": "1.2.0",
      "_view_name": "LayoutView",
      "align_content": null,
      "align_items": null,
      "align_self": null,
      "border": null,
      "bottom": null,
      "display": null,
      "flex": null,
      "flex_flow": null,
      "grid_area": null,
      "grid_auto_columns": null,
      "grid_auto_flow": null,
      "grid_auto_rows": null,
      "grid_column": null,
      "grid_gap": null,
      "grid_row": null,
      "grid_template_areas": null,
      "grid_template_columns": null,
      "grid_template_rows": null,
      "height": null,
      "justify_content": null,
      "justify_items": null,
      "left": null,
      "margin": null,
      "max_height": null,
      "max_width": null,
      "min_height": null,
      "min_width": null,
      "object_fit": null,
      "object_position": null,
      "order": null,
      "overflow": null,
      "overflow_x": null,
      "overflow_y": null,
      "padding": null,
      "right": null,
      "top": null,
      "visibility": null,
      "width": null
     }
    },
    "4b8dd28808cb4709a41a2c16a8b38b5b": {
     "model_module": "@jupyter-widgets/base",
     "model_module_version": "1.2.0",
     "model_name": "LayoutModel",
     "state": {
      "_model_module": "@jupyter-widgets/base",
      "_model_module_version": "1.2.0",
      "_model_name": "LayoutModel",
      "_view_count": null,
      "_view_module": "@jupyter-widgets/base",
      "_view_module_version": "1.2.0",
      "_view_name": "LayoutView",
      "align_content": null,
      "align_items": null,
      "align_self": null,
      "border": null,
      "bottom": null,
      "display": null,
      "flex": null,
      "flex_flow": null,
      "grid_area": null,
      "grid_auto_columns": null,
      "grid_auto_flow": null,
      "grid_auto_rows": null,
      "grid_column": null,
      "grid_gap": null,
      "grid_row": null,
      "grid_template_areas": null,
      "grid_template_columns": null,
      "grid_template_rows": null,
      "height": null,
      "justify_content": null,
      "justify_items": null,
      "left": null,
      "margin": null,
      "max_height": null,
      "max_width": null,
      "min_height": null,
      "min_width": null,
      "object_fit": null,
      "object_position": null,
      "order": null,
      "overflow": null,
      "overflow_x": null,
      "overflow_y": null,
      "padding": null,
      "right": null,
      "top": null,
      "visibility": null,
      "width": null
     }
    },
    "513cbbd46268428bb5e4513bfe0d75b7": {
     "model_module": "@jupyter-widgets/base",
     "model_module_version": "1.2.0",
     "model_name": "LayoutModel",
     "state": {
      "_model_module": "@jupyter-widgets/base",
      "_model_module_version": "1.2.0",
      "_model_name": "LayoutModel",
      "_view_count": null,
      "_view_module": "@jupyter-widgets/base",
      "_view_module_version": "1.2.0",
      "_view_name": "LayoutView",
      "align_content": null,
      "align_items": null,
      "align_self": null,
      "border": null,
      "bottom": null,
      "display": null,
      "flex": null,
      "flex_flow": null,
      "grid_area": null,
      "grid_auto_columns": null,
      "grid_auto_flow": null,
      "grid_auto_rows": null,
      "grid_column": null,
      "grid_gap": null,
      "grid_row": null,
      "grid_template_areas": null,
      "grid_template_columns": null,
      "grid_template_rows": null,
      "height": null,
      "justify_content": null,
      "justify_items": null,
      "left": null,
      "margin": null,
      "max_height": null,
      "max_width": null,
      "min_height": null,
      "min_width": null,
      "object_fit": null,
      "object_position": null,
      "order": null,
      "overflow": null,
      "overflow_x": null,
      "overflow_y": null,
      "padding": null,
      "right": null,
      "top": null,
      "visibility": null,
      "width": null
     }
    },
    "53d5c815eef346978cc7cd57b10e6e3f": {
     "model_module": "@jupyter-widgets/controls",
     "model_module_version": "1.5.0",
     "model_name": "ProgressStyleModel",
     "state": {
      "_model_module": "@jupyter-widgets/controls",
      "_model_module_version": "1.5.0",
      "_model_name": "ProgressStyleModel",
      "_view_count": null,
      "_view_module": "@jupyter-widgets/base",
      "_view_module_version": "1.2.0",
      "_view_name": "StyleView",
      "bar_color": null,
      "description_width": ""
     }
    },
    "5e5fea1f1970411dac39db7f8882fe60": {
     "model_module": "@jupyter-widgets/controls",
     "model_module_version": "1.5.0",
     "model_name": "FloatProgressModel",
     "state": {
      "_dom_classes": [],
      "_model_module": "@jupyter-widgets/controls",
      "_model_module_version": "1.5.0",
      "_model_name": "FloatProgressModel",
      "_view_count": null,
      "_view_module": "@jupyter-widgets/controls",
      "_view_module_version": "1.5.0",
      "_view_name": "ProgressView",
      "bar_style": "",
      "description": "",
      "description_tooltip": null,
      "layout": "IPY_MODEL_383fbcd72f32444da1d79df2e6c0c663",
      "max": 1,
      "min": 0,
      "orientation": "horizontal",
      "style": "IPY_MODEL_9ca61ac0a0ad408eab98826cbe704304",
      "value": 1
     }
    },
    "60bad5de2ccc44f2b3dcd029266f4e66": {
     "model_module": "@jupyter-widgets/base",
     "model_module_version": "1.2.0",
     "model_name": "LayoutModel",
     "state": {
      "_model_module": "@jupyter-widgets/base",
      "_model_module_version": "1.2.0",
      "_model_name": "LayoutModel",
      "_view_count": null,
      "_view_module": "@jupyter-widgets/base",
      "_view_module_version": "1.2.0",
      "_view_name": "LayoutView",
      "align_content": null,
      "align_items": null,
      "align_self": null,
      "border": null,
      "bottom": null,
      "display": null,
      "flex": null,
      "flex_flow": null,
      "grid_area": null,
      "grid_auto_columns": null,
      "grid_auto_flow": null,
      "grid_auto_rows": null,
      "grid_column": null,
      "grid_gap": null,
      "grid_row": null,
      "grid_template_areas": null,
      "grid_template_columns": null,
      "grid_template_rows": null,
      "height": null,
      "justify_content": null,
      "justify_items": null,
      "left": null,
      "margin": null,
      "max_height": null,
      "max_width": null,
      "min_height": null,
      "min_width": null,
      "object_fit": null,
      "object_position": null,
      "order": null,
      "overflow": null,
      "overflow_x": null,
      "overflow_y": null,
      "padding": null,
      "right": null,
      "top": null,
      "visibility": null,
      "width": null
     }
    },
    "630517b2c1f04c9e9ad2b63ab666774c": {
     "model_module": "@jupyter-widgets/controls",
     "model_module_version": "1.5.0",
     "model_name": "ProgressStyleModel",
     "state": {
      "_model_module": "@jupyter-widgets/controls",
      "_model_module_version": "1.5.0",
      "_model_name": "ProgressStyleModel",
      "_view_count": null,
      "_view_module": "@jupyter-widgets/base",
      "_view_module_version": "1.2.0",
      "_view_name": "StyleView",
      "bar_color": null,
      "description_width": ""
     }
    },
    "637cf9b62a3844a49035cf1939dabae2": {
     "model_module": "@jupyter-widgets/controls",
     "model_module_version": "1.5.0",
     "model_name": "FloatProgressModel",
     "state": {
      "_dom_classes": [],
      "_model_module": "@jupyter-widgets/controls",
      "_model_module_version": "1.5.0",
      "_model_name": "FloatProgressModel",
      "_view_count": null,
      "_view_module": "@jupyter-widgets/controls",
      "_view_module_version": "1.5.0",
      "_view_name": "ProgressView",
      "bar_style": "",
      "description": "",
      "description_tooltip": null,
      "layout": "IPY_MODEL_2a6879e36ecb4ddebb8f284819617e22",
      "max": 1,
      "min": 0,
      "orientation": "horizontal",
      "style": "IPY_MODEL_a2db092bb3034f1db67c601ce7628b3c",
      "value": 1
     }
    },
    "6545a21e1eda4ca2bf4339fdb165de99": {
     "model_module": "@jupyter-widgets/controls",
     "model_module_version": "1.5.0",
     "model_name": "DescriptionStyleModel",
     "state": {
      "_model_module": "@jupyter-widgets/controls",
      "_model_module_version": "1.5.0",
      "_model_name": "DescriptionStyleModel",
      "_view_count": null,
      "_view_module": "@jupyter-widgets/base",
      "_view_module_version": "1.2.0",
      "_view_name": "StyleView",
      "description_width": ""
     }
    },
    "68ec7560f7da48ae9278caff11579213": {
     "model_module": "@jupyter-widgets/controls",
     "model_module_version": "1.5.0",
     "model_name": "DescriptionStyleModel",
     "state": {
      "_model_module": "@jupyter-widgets/controls",
      "_model_module_version": "1.5.0",
      "_model_name": "DescriptionStyleModel",
      "_view_count": null,
      "_view_module": "@jupyter-widgets/base",
      "_view_module_version": "1.2.0",
      "_view_name": "StyleView",
      "description_width": ""
     }
    },
    "76c2e285e7cb4488aa7637b615039e0b": {
     "model_module": "@jupyter-widgets/base",
     "model_module_version": "1.2.0",
     "model_name": "LayoutModel",
     "state": {
      "_model_module": "@jupyter-widgets/base",
      "_model_module_version": "1.2.0",
      "_model_name": "LayoutModel",
      "_view_count": null,
      "_view_module": "@jupyter-widgets/base",
      "_view_module_version": "1.2.0",
      "_view_name": "LayoutView",
      "align_content": null,
      "align_items": null,
      "align_self": null,
      "border": null,
      "bottom": null,
      "display": null,
      "flex": null,
      "flex_flow": null,
      "grid_area": null,
      "grid_auto_columns": null,
      "grid_auto_flow": null,
      "grid_auto_rows": null,
      "grid_column": null,
      "grid_gap": null,
      "grid_row": null,
      "grid_template_areas": null,
      "grid_template_columns": null,
      "grid_template_rows": null,
      "height": null,
      "justify_content": null,
      "justify_items": null,
      "left": null,
      "margin": null,
      "max_height": null,
      "max_width": null,
      "min_height": null,
      "min_width": null,
      "object_fit": null,
      "object_position": null,
      "order": null,
      "overflow": null,
      "overflow_x": null,
      "overflow_y": null,
      "padding": null,
      "right": null,
      "top": null,
      "visibility": null,
      "width": null
     }
    },
    "8234392476504422a38d0b7875406b44": {
     "model_module": "@jupyter-widgets/controls",
     "model_module_version": "1.5.0",
     "model_name": "FloatProgressModel",
     "state": {
      "_dom_classes": [],
      "_model_module": "@jupyter-widgets/controls",
      "_model_module_version": "1.5.0",
      "_model_name": "FloatProgressModel",
      "_view_count": null,
      "_view_module": "@jupyter-widgets/controls",
      "_view_module_version": "1.5.0",
      "_view_name": "ProgressView",
      "bar_style": "",
      "description": "",
      "description_tooltip": null,
      "layout": "IPY_MODEL_48bad7a18557482db00e904e6b397095",
      "max": 1,
      "min": 0,
      "orientation": "horizontal",
      "style": "IPY_MODEL_630517b2c1f04c9e9ad2b63ab666774c",
      "value": 1
     }
    },
    "85cdc7b827324b99b199baa1e5dd2e1a": {
     "model_module": "@jupyter-widgets/base",
     "model_module_version": "1.2.0",
     "model_name": "LayoutModel",
     "state": {
      "_model_module": "@jupyter-widgets/base",
      "_model_module_version": "1.2.0",
      "_model_name": "LayoutModel",
      "_view_count": null,
      "_view_module": "@jupyter-widgets/base",
      "_view_module_version": "1.2.0",
      "_view_name": "LayoutView",
      "align_content": null,
      "align_items": null,
      "align_self": null,
      "border": null,
      "bottom": null,
      "display": null,
      "flex": null,
      "flex_flow": null,
      "grid_area": null,
      "grid_auto_columns": null,
      "grid_auto_flow": null,
      "grid_auto_rows": null,
      "grid_column": null,
      "grid_gap": null,
      "grid_row": null,
      "grid_template_areas": null,
      "grid_template_columns": null,
      "grid_template_rows": null,
      "height": null,
      "justify_content": null,
      "justify_items": null,
      "left": null,
      "margin": null,
      "max_height": null,
      "max_width": null,
      "min_height": null,
      "min_width": null,
      "object_fit": null,
      "object_position": null,
      "order": null,
      "overflow": null,
      "overflow_x": null,
      "overflow_y": null,
      "padding": null,
      "right": null,
      "top": null,
      "visibility": null,
      "width": null
     }
    },
    "8676fb01adb94f8e91cfa1df03609dbc": {
     "model_module": "@jupyter-widgets/controls",
     "model_module_version": "1.5.0",
     "model_name": "FloatProgressModel",
     "state": {
      "_dom_classes": [],
      "_model_module": "@jupyter-widgets/controls",
      "_model_module_version": "1.5.0",
      "_model_name": "FloatProgressModel",
      "_view_count": null,
      "_view_module": "@jupyter-widgets/controls",
      "_view_module_version": "1.5.0",
      "_view_name": "ProgressView",
      "bar_style": "",
      "description": "",
      "description_tooltip": null,
      "layout": "IPY_MODEL_60bad5de2ccc44f2b3dcd029266f4e66",
      "max": 1,
      "min": 0,
      "orientation": "horizontal",
      "style": "IPY_MODEL_345e63629bcc493b9aa4b1417e126cec",
      "value": 1
     }
    },
    "871a18a44e934914b814fd4f6f998b54": {
     "model_module": "@jupyter-widgets/controls",
     "model_module_version": "1.5.0",
     "model_name": "VBoxModel",
     "state": {
      "_dom_classes": [],
      "_model_module": "@jupyter-widgets/controls",
      "_model_module_version": "1.5.0",
      "_model_name": "VBoxModel",
      "_view_count": null,
      "_view_module": "@jupyter-widgets/controls",
      "_view_module_version": "1.5.0",
      "_view_name": "VBoxView",
      "box_style": "",
      "children": [
       "IPY_MODEL_8b253e82932f431bb2dde04389765966",
       "IPY_MODEL_c9552790564b43caac1c76eef5169615"
      ],
      "layout": "IPY_MODEL_e1acbebbb58c46b4a611d1fc29bbc090"
     }
    },
    "8a1fdbafb6b84694ae039b97c8fa334c": {
     "model_module": "@jupyter-widgets/base",
     "model_module_version": "1.2.0",
     "model_name": "LayoutModel",
     "state": {
      "_model_module": "@jupyter-widgets/base",
      "_model_module_version": "1.2.0",
      "_model_name": "LayoutModel",
      "_view_count": null,
      "_view_module": "@jupyter-widgets/base",
      "_view_module_version": "1.2.0",
      "_view_name": "LayoutView",
      "align_content": null,
      "align_items": null,
      "align_self": null,
      "border": null,
      "bottom": null,
      "display": null,
      "flex": null,
      "flex_flow": null,
      "grid_area": null,
      "grid_auto_columns": null,
      "grid_auto_flow": null,
      "grid_auto_rows": null,
      "grid_column": null,
      "grid_gap": null,
      "grid_row": null,
      "grid_template_areas": null,
      "grid_template_columns": null,
      "grid_template_rows": null,
      "height": null,
      "justify_content": null,
      "justify_items": null,
      "left": null,
      "margin": null,
      "max_height": null,
      "max_width": null,
      "min_height": null,
      "min_width": null,
      "object_fit": null,
      "object_position": null,
      "order": null,
      "overflow": null,
      "overflow_x": null,
      "overflow_y": null,
      "padding": null,
      "right": null,
      "top": null,
      "visibility": null,
      "width": null
     }
    },
    "8b0f20627fc248229e3b0a85bbbf8cb9": {
     "model_module": "@jupyter-widgets/controls",
     "model_module_version": "1.5.0",
     "model_name": "VBoxModel",
     "state": {
      "_dom_classes": [],
      "_model_module": "@jupyter-widgets/controls",
      "_model_module_version": "1.5.0",
      "_model_name": "VBoxModel",
      "_view_count": null,
      "_view_module": "@jupyter-widgets/controls",
      "_view_module_version": "1.5.0",
      "_view_name": "VBoxView",
      "box_style": "",
      "children": [
       "IPY_MODEL_bb74b9f3afd14558aceadd9c792bebb3",
       "IPY_MODEL_13584d6c60f141d9a6584781f9f8d9a9"
      ],
      "layout": "IPY_MODEL_76c2e285e7cb4488aa7637b615039e0b"
     }
    },
    "8b253e82932f431bb2dde04389765966": {
     "model_module": "@jupyter-widgets/controls",
     "model_module_version": "1.5.0",
     "model_name": "LabelModel",
     "state": {
      "_dom_classes": [],
      "_model_module": "@jupyter-widgets/controls",
      "_model_module_version": "1.5.0",
      "_model_name": "LabelModel",
      "_view_count": null,
      "_view_module": "@jupyter-widgets/controls",
      "_view_module_version": "1.5.0",
      "_view_name": "LabelView",
      "description": "",
      "description_tooltip": null,
      "layout": "IPY_MODEL_19574eea21214536b7f7ce989bb52ef8",
      "placeholder": "​",
      "style": "IPY_MODEL_6545a21e1eda4ca2bf4339fdb165de99",
      "value": "0.015 MB of 0.015 MB uploaded (0.000 MB deduped)\r"
     }
    },
    "9ca61ac0a0ad408eab98826cbe704304": {
     "model_module": "@jupyter-widgets/controls",
     "model_module_version": "1.5.0",
     "model_name": "ProgressStyleModel",
     "state": {
      "_model_module": "@jupyter-widgets/controls",
      "_model_module_version": "1.5.0",
      "_model_name": "ProgressStyleModel",
      "_view_count": null,
      "_view_module": "@jupyter-widgets/base",
      "_view_module_version": "1.2.0",
      "_view_name": "StyleView",
      "bar_color": null,
      "description_width": ""
     }
    },
    "9f2a4bab0a87486d90c4132877be8cc4": {
     "model_module": "@jupyter-widgets/controls",
     "model_module_version": "1.5.0",
     "model_name": "LabelModel",
     "state": {
      "_dom_classes": [],
      "_model_module": "@jupyter-widgets/controls",
      "_model_module_version": "1.5.0",
      "_model_name": "LabelModel",
      "_view_count": null,
      "_view_module": "@jupyter-widgets/controls",
      "_view_module_version": "1.5.0",
      "_view_name": "LabelView",
      "description": "",
      "description_tooltip": null,
      "layout": "IPY_MODEL_8a1fdbafb6b84694ae039b97c8fa334c",
      "placeholder": "​",
      "style": "IPY_MODEL_48a1d53f91c04a848aded1e0e9052ec3",
      "value": "0.015 MB of 0.015 MB uploaded (0.000 MB deduped)\r"
     }
    },
    "9fa696c41a3347eb9879b066cf8b2166": {
     "model_module": "@jupyter-widgets/controls",
     "model_module_version": "1.5.0",
     "model_name": "DescriptionStyleModel",
     "state": {
      "_model_module": "@jupyter-widgets/controls",
      "_model_module_version": "1.5.0",
      "_model_name": "DescriptionStyleModel",
      "_view_count": null,
      "_view_module": "@jupyter-widgets/base",
      "_view_module_version": "1.2.0",
      "_view_name": "StyleView",
      "description_width": ""
     }
    },
    "a2db092bb3034f1db67c601ce7628b3c": {
     "model_module": "@jupyter-widgets/controls",
     "model_module_version": "1.5.0",
     "model_name": "ProgressStyleModel",
     "state": {
      "_model_module": "@jupyter-widgets/controls",
      "_model_module_version": "1.5.0",
      "_model_name": "ProgressStyleModel",
      "_view_count": null,
      "_view_module": "@jupyter-widgets/base",
      "_view_module_version": "1.2.0",
      "_view_name": "StyleView",
      "bar_color": null,
      "description_width": ""
     }
    },
    "abd978e8e61c4097938275651ab0fdc1": {
     "model_module": "@jupyter-widgets/controls",
     "model_module_version": "1.5.0",
     "model_name": "VBoxModel",
     "state": {
      "_dom_classes": [],
      "_model_module": "@jupyter-widgets/controls",
      "_model_module_version": "1.5.0",
      "_model_name": "VBoxModel",
      "_view_count": null,
      "_view_module": "@jupyter-widgets/controls",
      "_view_module_version": "1.5.0",
      "_view_name": "VBoxView",
      "box_style": "",
      "children": [
       "IPY_MODEL_faa0aa172ba04358a521414112bacd75",
       "IPY_MODEL_8234392476504422a38d0b7875406b44"
      ],
      "layout": "IPY_MODEL_4249766b74f74a99acd4413570013ef8"
     }
    },
    "adbd3c3fcc9449a9a1099eb0f475bba8": {
     "model_module": "@jupyter-widgets/base",
     "model_module_version": "1.2.0",
     "model_name": "LayoutModel",
     "state": {
      "_model_module": "@jupyter-widgets/base",
      "_model_module_version": "1.2.0",
      "_model_name": "LayoutModel",
      "_view_count": null,
      "_view_module": "@jupyter-widgets/base",
      "_view_module_version": "1.2.0",
      "_view_name": "LayoutView",
      "align_content": null,
      "align_items": null,
      "align_self": null,
      "border": null,
      "bottom": null,
      "display": null,
      "flex": null,
      "flex_flow": null,
      "grid_area": null,
      "grid_auto_columns": null,
      "grid_auto_flow": null,
      "grid_auto_rows": null,
      "grid_column": null,
      "grid_gap": null,
      "grid_row": null,
      "grid_template_areas": null,
      "grid_template_columns": null,
      "grid_template_rows": null,
      "height": null,
      "justify_content": null,
      "justify_items": null,
      "left": null,
      "margin": null,
      "max_height": null,
      "max_width": null,
      "min_height": null,
      "min_width": null,
      "object_fit": null,
      "object_position": null,
      "order": null,
      "overflow": null,
      "overflow_x": null,
      "overflow_y": null,
      "padding": null,
      "right": null,
      "top": null,
      "visibility": null,
      "width": null
     }
    },
    "b1dbb33cc7724393aafd13bccc4443b5": {
     "model_module": "@jupyter-widgets/base",
     "model_module_version": "1.2.0",
     "model_name": "LayoutModel",
     "state": {
      "_model_module": "@jupyter-widgets/base",
      "_model_module_version": "1.2.0",
      "_model_name": "LayoutModel",
      "_view_count": null,
      "_view_module": "@jupyter-widgets/base",
      "_view_module_version": "1.2.0",
      "_view_name": "LayoutView",
      "align_content": null,
      "align_items": null,
      "align_self": null,
      "border": null,
      "bottom": null,
      "display": null,
      "flex": null,
      "flex_flow": null,
      "grid_area": null,
      "grid_auto_columns": null,
      "grid_auto_flow": null,
      "grid_auto_rows": null,
      "grid_column": null,
      "grid_gap": null,
      "grid_row": null,
      "grid_template_areas": null,
      "grid_template_columns": null,
      "grid_template_rows": null,
      "height": null,
      "justify_content": null,
      "justify_items": null,
      "left": null,
      "margin": null,
      "max_height": null,
      "max_width": null,
      "min_height": null,
      "min_width": null,
      "object_fit": null,
      "object_position": null,
      "order": null,
      "overflow": null,
      "overflow_x": null,
      "overflow_y": null,
      "padding": null,
      "right": null,
      "top": null,
      "visibility": null,
      "width": null
     }
    },
    "bb74b9f3afd14558aceadd9c792bebb3": {
     "model_module": "@jupyter-widgets/controls",
     "model_module_version": "1.5.0",
     "model_name": "LabelModel",
     "state": {
      "_dom_classes": [],
      "_model_module": "@jupyter-widgets/controls",
      "_model_module_version": "1.5.0",
      "_model_name": "LabelModel",
      "_view_count": null,
      "_view_module": "@jupyter-widgets/controls",
      "_view_module_version": "1.5.0",
      "_view_name": "LabelView",
      "description": "",
      "description_tooltip": null,
      "layout": "IPY_MODEL_4b8dd28808cb4709a41a2c16a8b38b5b",
      "placeholder": "​",
      "style": "IPY_MODEL_3799a39ca13d4749863295bc8916c815",
      "value": "0.014 MB of 0.014 MB uploaded (0.000 MB deduped)\r"
     }
    },
    "c9552790564b43caac1c76eef5169615": {
     "model_module": "@jupyter-widgets/controls",
     "model_module_version": "1.5.0",
     "model_name": "FloatProgressModel",
     "state": {
      "_dom_classes": [],
      "_model_module": "@jupyter-widgets/controls",
      "_model_module_version": "1.5.0",
      "_model_name": "FloatProgressModel",
      "_view_count": null,
      "_view_module": "@jupyter-widgets/controls",
      "_view_module_version": "1.5.0",
      "_view_name": "ProgressView",
      "bar_style": "",
      "description": "",
      "description_tooltip": null,
      "layout": "IPY_MODEL_e38cf241333646859106fbfa4f820c4f",
      "max": 1,
      "min": 0,
      "orientation": "horizontal",
      "style": "IPY_MODEL_53d5c815eef346978cc7cd57b10e6e3f",
      "value": 1
     }
    },
    "c9af314ea12f40dabb5a73b293c01d1e": {
     "model_module": "@jupyter-widgets/controls",
     "model_module_version": "1.5.0",
     "model_name": "ProgressStyleModel",
     "state": {
      "_model_module": "@jupyter-widgets/controls",
      "_model_module_version": "1.5.0",
      "_model_name": "ProgressStyleModel",
      "_view_count": null,
      "_view_module": "@jupyter-widgets/base",
      "_view_module_version": "1.2.0",
      "_view_name": "StyleView",
      "bar_color": null,
      "description_width": ""
     }
    },
    "d18ff70ca8114f1695bdd98033f3009e": {
     "model_module": "@jupyter-widgets/controls",
     "model_module_version": "1.5.0",
     "model_name": "DescriptionStyleModel",
     "state": {
      "_model_module": "@jupyter-widgets/controls",
      "_model_module_version": "1.5.0",
      "_model_name": "DescriptionStyleModel",
      "_view_count": null,
      "_view_module": "@jupyter-widgets/base",
      "_view_module_version": "1.2.0",
      "_view_name": "StyleView",
      "description_width": ""
     }
    },
    "e1acbebbb58c46b4a611d1fc29bbc090": {
     "model_module": "@jupyter-widgets/base",
     "model_module_version": "1.2.0",
     "model_name": "LayoutModel",
     "state": {
      "_model_module": "@jupyter-widgets/base",
      "_model_module_version": "1.2.0",
      "_model_name": "LayoutModel",
      "_view_count": null,
      "_view_module": "@jupyter-widgets/base",
      "_view_module_version": "1.2.0",
      "_view_name": "LayoutView",
      "align_content": null,
      "align_items": null,
      "align_self": null,
      "border": null,
      "bottom": null,
      "display": null,
      "flex": null,
      "flex_flow": null,
      "grid_area": null,
      "grid_auto_columns": null,
      "grid_auto_flow": null,
      "grid_auto_rows": null,
      "grid_column": null,
      "grid_gap": null,
      "grid_row": null,
      "grid_template_areas": null,
      "grid_template_columns": null,
      "grid_template_rows": null,
      "height": null,
      "justify_content": null,
      "justify_items": null,
      "left": null,
      "margin": null,
      "max_height": null,
      "max_width": null,
      "min_height": null,
      "min_width": null,
      "object_fit": null,
      "object_position": null,
      "order": null,
      "overflow": null,
      "overflow_x": null,
      "overflow_y": null,
      "padding": null,
      "right": null,
      "top": null,
      "visibility": null,
      "width": null
     }
    },
    "e38cf241333646859106fbfa4f820c4f": {
     "model_module": "@jupyter-widgets/base",
     "model_module_version": "1.2.0",
     "model_name": "LayoutModel",
     "state": {
      "_model_module": "@jupyter-widgets/base",
      "_model_module_version": "1.2.0",
      "_model_name": "LayoutModel",
      "_view_count": null,
      "_view_module": "@jupyter-widgets/base",
      "_view_module_version": "1.2.0",
      "_view_name": "LayoutView",
      "align_content": null,
      "align_items": null,
      "align_self": null,
      "border": null,
      "bottom": null,
      "display": null,
      "flex": null,
      "flex_flow": null,
      "grid_area": null,
      "grid_auto_columns": null,
      "grid_auto_flow": null,
      "grid_auto_rows": null,
      "grid_column": null,
      "grid_gap": null,
      "grid_row": null,
      "grid_template_areas": null,
      "grid_template_columns": null,
      "grid_template_rows": null,
      "height": null,
      "justify_content": null,
      "justify_items": null,
      "left": null,
      "margin": null,
      "max_height": null,
      "max_width": null,
      "min_height": null,
      "min_width": null,
      "object_fit": null,
      "object_position": null,
      "order": null,
      "overflow": null,
      "overflow_x": null,
      "overflow_y": null,
      "padding": null,
      "right": null,
      "top": null,
      "visibility": null,
      "width": null
     }
    },
    "ec913e2554414eab84a0e91cb94a03e3": {
     "model_module": "@jupyter-widgets/base",
     "model_module_version": "1.2.0",
     "model_name": "LayoutModel",
     "state": {
      "_model_module": "@jupyter-widgets/base",
      "_model_module_version": "1.2.0",
      "_model_name": "LayoutModel",
      "_view_count": null,
      "_view_module": "@jupyter-widgets/base",
      "_view_module_version": "1.2.0",
      "_view_name": "LayoutView",
      "align_content": null,
      "align_items": null,
      "align_self": null,
      "border": null,
      "bottom": null,
      "display": null,
      "flex": null,
      "flex_flow": null,
      "grid_area": null,
      "grid_auto_columns": null,
      "grid_auto_flow": null,
      "grid_auto_rows": null,
      "grid_column": null,
      "grid_gap": null,
      "grid_row": null,
      "grid_template_areas": null,
      "grid_template_columns": null,
      "grid_template_rows": null,
      "height": null,
      "justify_content": null,
      "justify_items": null,
      "left": null,
      "margin": null,
      "max_height": null,
      "max_width": null,
      "min_height": null,
      "min_width": null,
      "object_fit": null,
      "object_position": null,
      "order": null,
      "overflow": null,
      "overflow_x": null,
      "overflow_y": null,
      "padding": null,
      "right": null,
      "top": null,
      "visibility": null,
      "width": null
     }
    },
    "f53d96963d174b62b54dabd64f4f7028": {
     "model_module": "@jupyter-widgets/controls",
     "model_module_version": "1.5.0",
     "model_name": "VBoxModel",
     "state": {
      "_dom_classes": [],
      "_model_module": "@jupyter-widgets/controls",
      "_model_module_version": "1.5.0",
      "_model_name": "VBoxModel",
      "_view_count": null,
      "_view_module": "@jupyter-widgets/controls",
      "_view_module_version": "1.5.0",
      "_view_name": "VBoxView",
      "box_style": "",
      "children": [
       "IPY_MODEL_23c5cd6bd3c34932a49645fb4fc510e3",
       "IPY_MODEL_637cf9b62a3844a49035cf1939dabae2"
      ],
      "layout": "IPY_MODEL_ec913e2554414eab84a0e91cb94a03e3"
     }
    },
    "f6e1ae07afa948e893998056896f7522": {
     "model_module": "@jupyter-widgets/controls",
     "model_module_version": "1.5.0",
     "model_name": "VBoxModel",
     "state": {
      "_dom_classes": [],
      "_model_module": "@jupyter-widgets/controls",
      "_model_module_version": "1.5.0",
      "_model_name": "VBoxModel",
      "_view_count": null,
      "_view_module": "@jupyter-widgets/controls",
      "_view_module_version": "1.5.0",
      "_view_name": "VBoxView",
      "box_style": "",
      "children": [
       "IPY_MODEL_9f2a4bab0a87486d90c4132877be8cc4",
       "IPY_MODEL_8676fb01adb94f8e91cfa1df03609dbc"
      ],
      "layout": "IPY_MODEL_4a9a631106934187833d7297010c23c8"
     }
    },
    "faa0aa172ba04358a521414112bacd75": {
     "model_module": "@jupyter-widgets/controls",
     "model_module_version": "1.5.0",
     "model_name": "LabelModel",
     "state": {
      "_dom_classes": [],
      "_model_module": "@jupyter-widgets/controls",
      "_model_module_version": "1.5.0",
      "_model_name": "LabelModel",
      "_view_count": null,
      "_view_module": "@jupyter-widgets/controls",
      "_view_module_version": "1.5.0",
      "_view_name": "LabelView",
      "description": "",
      "description_tooltip": null,
      "layout": "IPY_MODEL_513cbbd46268428bb5e4513bfe0d75b7",
      "placeholder": "​",
      "style": "IPY_MODEL_68ec7560f7da48ae9278caff11579213",
      "value": "0.049 MB of 0.049 MB uploaded (0.000 MB deduped)\r"
     }
    }
   }
  }
 },
 "nbformat": 4,
 "nbformat_minor": 1
}
